{
 "cells": [
  {
   "cell_type": "markdown",
   "id": "ddb15206-9128-47bc-b754-2409a0fddc6b",
   "metadata": {},
   "source": [
    "# Uso básico de Jupyter\n",
    "\n",
    "En este archivo se muestran ejemplos de uso de Jupyter, enfocado al modelado de robots"
   ]
  },
  {
   "cell_type": "markdown",
   "id": "e0c2f905-4b94-4d78-b2f6-7a2d2dfd49e3",
   "metadata": {},
   "source": [
    "# Markdown\n",
    "\n",
    "Markdown es un formato de texto plano al que se le puede aplicar un formato al interpretarse a partir de una nomenclatura sencilla"
   ]
  },
  {
   "cell_type": "markdown",
   "id": "3cbf7c47-7589-4f94-aecb-a2e0c1907752",
   "metadata": {},
   "source": [
    "\n",
    "### ✍️ Texto con formato\n",
    "\n",
    "- **Negritas**  \n",
    "- *Cursivas*  \n",
    "- ~~Tachado~~  \n",
    "- `Código en línea`  \n",
    "- > Cita de ejemplo  \n",
    "---\n",
    "\n",
    "### 🎉 Emojis útiles\n",
    "\n",
    "- 🎨 — Para representar **temas de diseño, creatividad o arte** dentro de un proyecto.  \n",
    "- 🚀 — Usado en partes de un proyecto que contengan **innovación, lanzamientos de nuevas versiones o desarrollo acelerado**.  \n",
    "- 📚 — Representa **estudio o documentación**.  \n",
    "- 🔧 — Útil en contextos de **herramientas, configuración o reparación**.  \n",
    "- ⚡ — Para indicar **velocidad en lanzamientos o reparación de bugs (quickfixes)**.\n",
    "\n",
    "---\n",
    "\n",
    "### 📋 Listas\n",
    "\n",
    "#### Lista ordenada\n",
    "1. Primer paso  \n",
    "2. Segundo paso  \n",
    "3. Tercer paso  \n",
    "\n",
    "#### Lista desordenada\n",
    "- Manzana 🍎  \n",
    "- Plátano 🍌  \n",
    "- Uva 🍇  \n",
    "\n",
    "---\n",
    "\n",
    "### ✅ Listas de tareas\n",
    "\n",
    "- [x] Primer tarea  \n",
    "- [ ] Segunda tarea  \n",
    "- [ ] Compartir este archivo  \n",
    "\n",
    "---\n"
   ]
  },
  {
   "cell_type": "markdown",
   "id": "1c83d9bf-d952-4562-be7a-875ca21def81",
   "metadata": {},
   "source": [
    "### Tablas y formatos\n",
    "\n",
    "---\n",
    "\n",
    "### 📊 Tablas\n",
    "\n",
    "| Lenguaje  | Popularidad ⭐ | Comentario           |\n",
    "|-----------|---------------|----------------------|\n",
    "| Python 🐍 | Alta          | Fácil de aprender    |\n",
    "| Java ☕   | Media         | Muy usado en empresas|\n",
    "| C++ ⚡    | Media-Baja    | Rápido pero complejo |\n",
    "\n",
    "---\n",
    "\n",
    "### 🎨 Colores (con HTML incrustado)\n",
    "\n",
    "<p style=\"color:red;\">Texto en rojo</p>  \n",
    "<p style=\"color:green;\">Texto en verde</p>  \n",
    "<p style=\"color:blue;\">Texto en azul</p>  \n",
    "\n",
    "---\n",
    "\n",
    "### 🖼️ Imágenes\n",
    "\n",
    "Imagen importada por Markdown:\n",
    "\n",
    "![Ejemplo imagen](https://upload.wikimedia.org/wikipedia/commons/thumb/4/48/Markdown-mark.svg/120px-Markdown-mark.svg.png)\n",
    "\n",
    "Imagen importada como html:\n",
    "\n",
    "<img src=\"https://upload.wikimedia.org/wikipedia/commons/thumb/4/48/Markdown-mark.svg/120px-Markdown-mark.svg.png\" width=60 height=60/>\n",
    "\n",
    "Imagen importada desde archivo:\n",
    "\n",
    "<img src=\"imagenes/Jupyter_logo.svg.png\" width=60 height=60/>\n",
    "\n",
    "---\n"
   ]
  },
  {
   "cell_type": "markdown",
   "id": "0c90e8f9-2432-4fa6-b107-7abe917c6efd",
   "metadata": {},
   "source": [
    "### Otros\n",
    "\n",
    "### 🔗 Enlaces\n",
    "\n",
    "- [Google](https://www.google.com)  \n",
    "- [Wikipedia en Español](https://es.wikipedia.org)\n",
    "\n",
    "---\n",
    "### ➗ Ecuaciones (Con LaTex)\n",
    "$y=x^2$\n",
    "\n",
    "$e^{i\\pi} + 1 = 0$\n",
    "\n",
    "$e^x=\\sum_{i=0}^\\infty \\frac{1}{i!}x^i$\n",
    "\n",
    "$\\frac{n!}{k!(n-k)!} = {n \\choose k}$\n",
    "\n",
    "$A_{m,n} =\n",
    " \\begin{pmatrix}\n",
    "  a_{1,1} & a_{1,2} & \\cdots & a_{1,n} \\\\\n",
    "  a_{2,1} & a_{2,2} & \\cdots & a_{2,n} \\\\\n",
    "  \\vdots  & \\vdots  & \\ddots & \\vdots  \\\\\n",
    "  a_{m,1} & a_{m,2} & \\cdots & a_{m,n}\n",
    " \\end{pmatrix}$\n",
    "\n",
    "${}^{i}  {T}_{j}$\n",
    "\n",
    "---\n",
    "### 💻 Bloques de código\n",
    "\n",
    "```python\n",
    "# Código Python\n",
    "def saludo(nombre):\n",
    "    return f\"Hola, {nombre}!\"\n",
    "\n",
    "print(saludo(\"Aurora\"))\n",
    "```\n",
    "\n",
    "```bash\n",
    "# Script Bash\n",
    "for i in {1..5}; do\n",
    "  echo \"Número $i\"\n",
    "done\n",
    "```\n",
    "\n",
    "---"
   ]
  },
  {
   "cell_type": "markdown",
   "id": "6df4b34d",
   "metadata": {},
   "source": [
    "# Sympy\n",
    "\n",
    "Dentro de python, se puede implementar el uso de variables simbólicas con la librería sympy. Usar variables implícitas permite manejar ecuaciones, sustituir valores, y aplicar operaciones como derivadas."
   ]
  },
  {
   "cell_type": "markdown",
   "id": "c1d3ec83-ebfd-46f6-869e-47ab9b988956",
   "metadata": {},
   "source": [
    "### Manejo de variables\n",
    "Se pueden definir variables del alfabeto griego ó latín\n",
    "Se definen con la función Symbol, colcando entre comillas simples el síbolo que se utilizará al desplegar la variable\n",
    "~~~python\n",
    "a = Symbol('a')\n",
    "~~~\n",
    "\n",
    "Para definir múltiples variables, se utiliza la función symbols, que recibe una cadena con símbolos separados por comas, y regresa una tupla\n",
    "~~~python\n",
    "a, b, c = symbols('a, b, c')\n",
    "~~~\n",
    "Se pueden agregar subíndices\n",
    "~~~python\n",
    "d = Symbol('d_1')\n",
    "~~~\n",
    "Para una derivada, se usa la función diff\n",
    "~~~python\n",
    "derivada = diff(función, variable respecto a la que se deriva)\n",
    "~~~\n",
    "Si las variables se suman o restan, se puede construir una ecuación"
   ]
  },
  {
   "cell_type": "code",
   "execution_count": 2,
   "id": "1c71529e",
   "metadata": {},
   "outputs": [
    {
     "data": {
      "text/latex": [
       "$\\displaystyle a$"
      ],
      "text/plain": [
       "a"
      ]
     },
     "metadata": {},
     "output_type": "display_data"
    },
    {
     "data": {
      "text/latex": [
       "$\\displaystyle d_{1}$"
      ],
      "text/plain": [
       "d_1"
      ]
     },
     "metadata": {},
     "output_type": "display_data"
    }
   ],
   "source": [
    "#Encabezado para el uso de matrices y complificación de ecuaciones\n",
    "from sympy import *\n",
    "import math\n",
    "#Definicion de la variable a\n",
    "a = Symbol('a')\n",
    "display(a)\n",
    "d = Symbol('d_1')\n",
    "display(d)"
   ]
  },
  {
   "cell_type": "code",
   "execution_count": 74,
   "id": "4b9f5402-0904-44fb-8ec1-2e5eb0796d32",
   "metadata": {},
   "outputs": [
    {
     "data": {
      "text/latex": [
       "$\\displaystyle \\alpha$"
      ],
      "text/plain": [
       "alpha"
      ]
     },
     "metadata": {},
     "output_type": "display_data"
    },
    {
     "data": {
      "text/latex": [
       "$\\displaystyle \\beta$"
      ],
      "text/plain": [
       "beta"
      ]
     },
     "metadata": {},
     "output_type": "display_data"
    },
    {
     "data": {
      "text/latex": [
       "$\\displaystyle \\gamma$"
      ],
      "text/plain": [
       "gamma"
      ]
     },
     "metadata": {},
     "output_type": "display_data"
    },
    {
     "data": {
      "text/latex": [
       "$\\displaystyle \\cos{\\left(\\alpha \\right)}$"
      ],
      "text/plain": [
       "cos(alpha)"
      ]
     },
     "metadata": {},
     "output_type": "display_data"
    },
    {
     "data": {
      "text/latex": [
       "$\\displaystyle - \\sin{\\left(\\alpha \\right)}$"
      ],
      "text/plain": [
       "-sin(alpha)"
      ]
     },
     "metadata": {},
     "output_type": "display_data"
    },
    {
     "data": {
      "text/latex": [
       "$\\displaystyle 3 \\gamma + \\sin{\\left(\\beta \\right)} + \\cos{\\left(\\alpha \\right)}$"
      ],
      "text/plain": [
       "3*gamma + sin(beta) + cos(alpha)"
      ]
     },
     "metadata": {},
     "output_type": "display_data"
    }
   ],
   "source": [
    "#Definicion de múltiples variables a la vez, a través de tuplas\n",
    "alpha, beta, gamma = symbols('alpha, beta, gamma')\n",
    "display(alpha)\n",
    "display(beta)\n",
    "display(gamma)\n",
    "#Aplicando una función trigonométrica\n",
    "c = cos(alpha)\n",
    "display(cos(alpha))\n",
    "#Aplicando una derivada\n",
    "d = diff(c, alpha)\n",
    "display (d)\n",
    "#Construyendo una ecuación\n",
    "eq = cos(alpha) + sin(beta) + 3*gamma\n",
    "display(eq)"
   ]
  },
  {
   "cell_type": "markdown",
   "id": "8996dd4e-440e-48ea-bad4-6bea20918c76",
   "metadata": {},
   "source": [
    "### Matrices\n",
    "Se pueden inicializar con:\n",
    "~~~python\n",
    "varMatrix = Matrix([ [fila1], [fila2], [fila3], [fila4] ])\n",
    "~~~\n",
    "Pueden contener valores numéricos ó variables simbólicas"
   ]
  },
  {
   "cell_type": "code",
   "execution_count": 55,
   "id": "00326e59",
   "metadata": {},
   "outputs": [
    {
     "data": {
      "text/latex": [
       "$\\displaystyle \\left[\\begin{matrix}1 & 2\\\\3 & 4\\end{matrix}\\right]$"
      ],
      "text/plain": [
       "Matrix([\n",
       "[1, 2],\n",
       "[3, 4]])"
      ]
     },
     "metadata": {},
     "output_type": "display_data"
    }
   ],
   "source": [
    "#Definicion de una matriz\n",
    "R = Matrix([ [1, 2], [3, 4]])\n",
    "display(R)"
   ]
  },
  {
   "cell_type": "markdown",
   "id": "0c7b0415-98d8-4e5a-821d-bc8425a05570",
   "metadata": {},
   "source": [
    "#### Operaciones con matrices\n",
    "Los operadores de suma, resta y multiplicación tienen sobrecargas para funcionar con matrices. Además, se pueden utilizar funciones implementadas en las matrices"
   ]
  },
  {
   "cell_type": "code",
   "execution_count": 56,
   "id": "57b762ae",
   "metadata": {},
   "outputs": [
    {
     "data": {
      "text/latex": [
       "$\\displaystyle \\left[\\begin{matrix}4 & 8\\\\12 & 16\\end{matrix}\\right]$"
      ],
      "text/plain": [
       "Matrix([\n",
       "[ 4,  8],\n",
       "[12, 16]])"
      ]
     },
     "metadata": {},
     "output_type": "display_data"
    },
    {
     "data": {
      "text/latex": [
       "$\\displaystyle \\left[\\begin{matrix}7 & 10\\\\15 & 22\\end{matrix}\\right]$"
      ],
      "text/plain": [
       "Matrix([\n",
       "[ 7, 10],\n",
       "[15, 22]])"
      ]
     },
     "metadata": {},
     "output_type": "display_data"
    },
    {
     "data": {
      "text/latex": [
       "$\\displaystyle -2$"
      ],
      "text/plain": [
       "-2"
      ]
     },
     "metadata": {},
     "output_type": "display_data"
    }
   ],
   "source": [
    "#Suma y multiplicación por escalar\n",
    "display(R + (3*R))\n",
    "#Multiplicación de matrices\n",
    "display(R*R)\n",
    "#Determinante\n",
    "display(R.det())"
   ]
  },
  {
   "cell_type": "markdown",
   "id": "2a81f764",
   "metadata": {},
   "source": [
    "#### Simplificación\n",
    "El método .simplify() toma una exŕesión simbólica y realiza operaciones e identidades para simplificar la expresión"
   ]
  },
  {
   "cell_type": "code",
   "execution_count": 57,
   "id": "8bba0a50",
   "metadata": {},
   "outputs": [
    {
     "data": {
      "text/latex": [
       "$\\displaystyle -2$"
      ],
      "text/plain": [
       "-2"
      ]
     },
     "execution_count": 57,
     "metadata": {},
     "output_type": "execute_result"
    }
   ],
   "source": [
    "#Simplificacion del determinante de la matriz de rotacion\n",
    "R.det().simplify()"
   ]
  },
  {
   "cell_type": "markdown",
   "id": "91c87925",
   "metadata": {},
   "source": [
    "#### Función\n",
    "Las ecuaciones se pueden generar a través de una función"
   ]
  },
  {
   "cell_type": "code",
   "execution_count": 34,
   "id": "74417f5c",
   "metadata": {},
   "outputs": [
    {
     "data": {
      "text/latex": [
       "$\\displaystyle \\left[\\begin{matrix}1 & 2\\\\3 & 4\\end{matrix}\\right]$"
      ],
      "text/plain": [
       "Matrix([\n",
       "[1, 2],\n",
       "[3, 4]])"
      ]
     },
     "execution_count": 34,
     "metadata": {},
     "output_type": "execute_result"
    }
   ],
   "source": [
    "#Definicion de una matriz como función\n",
    "def matrix_func(m_1, m_2, m_3, m_4):\n",
    "    R = Matrix([ [m_1, m_2], [m_3, m_4],])\n",
    "    return R\n",
    "matrix_func(1, 2, 3, 4)"
   ]
  },
  {
   "cell_type": "markdown",
   "id": "7d4e3300-b137-4f02-b9e4-40732ccc039e",
   "metadata": {},
   "source": [
    "# Matriz de transformación homogenea\n",
    "\n",
    "La matriz de tranformación homógenea es un arreglo el cual contiene las relaciones de posición y orientación, la cual se define:\n",
    "\n",
    "$$\n",
    "{}^{i}\\mathbf{T}_{j} = \\begin{equation}\n",
    "\\begin{pmatrix}\n",
    "{}^{i}\\mathbf{R}_{j} & {}^{i}\\mathbf{p}_{j}\\\\\n",
    "\\mathbf{0}^{T} & 1 \n",
    "\\end{pmatrix}\n",
    "\\end{equation} \n",
    "$$\n",
    "\n",
    "- ${}^{i}\\mathbf{R}_{j}$ es la matriz de rotación que describe la orientación de un sistema {j} con respecto a un sistema anterior {i}.\n",
    "\n",
    "- ${}^{i}\\mathbf{p}_{j}$ es el vector de posición del origen del sistema {j} con respecto al origen del sistema {i}.\n",
    "\n",
    "- $\\mathbf{0}^{T}$ es el vector de perspectiva, que para este caso se determina como nulo.\n",
    "\n",
    "- 1 es el factor de escala de la matriz, que para este caso se mantiene unitario. \n",
    "\n",
    "Podemos definir una matriz de transformación general, con las matrices de rotación y traslación en todos los ejes"
   ]
  },
  {
   "cell_type": "markdown",
   "id": "e714a2b8-15f1-457b-9892-b896d6afd30b",
   "metadata": {},
   "source": [
    "# Matrices de rotación\n",
    "\n",
    "Definiendo las matrices de rotación de forma separada"
   ]
  },
  {
   "cell_type": "code",
   "execution_count": 33,
   "id": "62ddef99-412d-4668-a0cc-9504c3662f41",
   "metadata": {},
   "outputs": [
    {
     "data": {
      "text/latex": [
       "$\\displaystyle \\left[\\begin{matrix}1 & 0 & 0\\\\0 & \\cos{\\left(\\gamma \\right)} & - \\sin{\\left(\\gamma \\right)}\\\\0 & \\sin{\\left(\\gamma \\right)} & \\cos{\\left(\\gamma \\right)}\\end{matrix}\\right]$"
      ],
      "text/plain": [
       "Matrix([\n",
       "[1,          0,           0],\n",
       "[0, cos(gamma), -sin(gamma)],\n",
       "[0, sin(gamma),  cos(gamma)]])"
      ]
     },
     "execution_count": 33,
     "metadata": {},
     "output_type": "execute_result"
    }
   ],
   "source": [
    "R_x = Matrix([ [1, 0, 0], [0, cos(gamma), -sin(gamma)],[0, sin(gamma), cos(gamma)]])\n",
    "R_x"
   ]
  },
  {
   "cell_type": "code",
   "execution_count": 32,
   "id": "0b67ee9e-6c38-4b00-9e74-d5d7bd65fe96",
   "metadata": {},
   "outputs": [
    {
     "data": {
      "text/latex": [
       "$\\displaystyle \\left[\\begin{matrix}\\cos{\\left(\\beta \\right)} & 0 & \\sin{\\left(\\beta \\right)}\\\\0 & 1 & 0\\\\- \\sin{\\left(\\beta \\right)} & 0 & \\cos{\\left(\\beta \\right)}\\end{matrix}\\right]$"
      ],
      "text/plain": [
       "Matrix([\n",
       "[ cos(beta), 0, sin(beta)],\n",
       "[         0, 1,         0],\n",
       "[-sin(beta), 0, cos(beta)]])"
      ]
     },
     "execution_count": 32,
     "metadata": {},
     "output_type": "execute_result"
    }
   ],
   "source": [
    "R_y = Matrix([ [cos(beta), 0, sin(beta)], [0, 1, 0],[-sin(beta), 0, cos(beta)]])\n",
    "R_y"
   ]
  },
  {
   "cell_type": "code",
   "execution_count": 31,
   "id": "415e08d6-6d48-4ffc-91d5-89bc1c18f334",
   "metadata": {},
   "outputs": [
    {
     "data": {
      "text/latex": [
       "$\\displaystyle \\left[\\begin{matrix}\\cos{\\left(\\alpha \\right)} & - \\sin{\\left(\\alpha \\right)} & 0\\\\\\sin{\\left(\\alpha \\right)} & \\cos{\\left(\\alpha \\right)} & 0\\\\0 & 0 & 1\\end{matrix}\\right]$"
      ],
      "text/plain": [
       "Matrix([\n",
       "[cos(alpha), -sin(alpha), 0],\n",
       "[sin(alpha),  cos(alpha), 0],\n",
       "[         0,           0, 1]])"
      ]
     },
     "execution_count": 31,
     "metadata": {},
     "output_type": "execute_result"
    }
   ],
   "source": [
    "R_z = Matrix([ [cos(alpha), -sin(alpha), 0], [sin(alpha), cos(alpha), 0],[0, 0, 1]])\n",
    "R_z"
   ]
  },
  {
   "cell_type": "code",
   "execution_count": 37,
   "id": "e13a1dee-ba31-4731-a8ad-0c8d4a6da717",
   "metadata": {},
   "outputs": [
    {
     "data": {
      "text/latex": [
       "$\\displaystyle \\left[\\begin{matrix}\\cos{\\left(\\alpha \\right)} \\cos{\\left(\\beta \\right)} & - \\sin{\\left(\\alpha \\right)} \\cos{\\left(\\beta \\right)} & \\sin{\\left(\\beta \\right)}\\\\\\sin{\\left(\\alpha \\right)} \\cos{\\left(\\gamma \\right)} + \\sin{\\left(\\beta \\right)} \\sin{\\left(\\gamma \\right)} \\cos{\\left(\\alpha \\right)} & - \\sin{\\left(\\alpha \\right)} \\sin{\\left(\\beta \\right)} \\sin{\\left(\\gamma \\right)} + \\cos{\\left(\\alpha \\right)} \\cos{\\left(\\gamma \\right)} & - \\sin{\\left(\\gamma \\right)} \\cos{\\left(\\beta \\right)}\\\\\\sin{\\left(\\alpha \\right)} \\sin{\\left(\\gamma \\right)} - \\sin{\\left(\\beta \\right)} \\cos{\\left(\\alpha \\right)} \\cos{\\left(\\gamma \\right)} & \\sin{\\left(\\alpha \\right)} \\sin{\\left(\\beta \\right)} \\cos{\\left(\\gamma \\right)} + \\sin{\\left(\\gamma \\right)} \\cos{\\left(\\alpha \\right)} & \\cos{\\left(\\beta \\right)} \\cos{\\left(\\gamma \\right)}\\end{matrix}\\right]$"
      ],
      "text/plain": [
       "Matrix([\n",
       "[                                   cos(alpha)*cos(beta),                                    -sin(alpha)*cos(beta),             sin(beta)],\n",
       "[sin(alpha)*cos(gamma) + sin(beta)*sin(gamma)*cos(alpha), -sin(alpha)*sin(beta)*sin(gamma) + cos(alpha)*cos(gamma), -sin(gamma)*cos(beta)],\n",
       "[sin(alpha)*sin(gamma) - sin(beta)*cos(alpha)*cos(gamma),  sin(alpha)*sin(beta)*cos(gamma) + sin(gamma)*cos(alpha),  cos(beta)*cos(gamma)]])"
      ]
     },
     "execution_count": 37,
     "metadata": {},
     "output_type": "execute_result"
    }
   ],
   "source": [
    "R_total = R_x * R_y * R_z\n",
    "R_total"
   ]
  },
  {
   "cell_type": "markdown",
   "id": "367eb8a4-7e5f-4817-bc98-1ba671507bd8",
   "metadata": {},
   "source": [
    "### Transformación como función\n",
    "Se puede generar una función que tome como parámetros las rotaciones y traslaciones, y regrese la matriz de transformación general"
   ]
  },
  {
   "cell_type": "code",
   "execution_count": 38,
   "id": "220e0541-b9c0-46e9-96c1-7d4f28885252",
   "metadata": {},
   "outputs": [],
   "source": [
    "def trans_homo(x, y, z, gamma, beta, alpha):\n",
    "    R_z = Matrix([ [cos(alpha), -sin(alpha), 0], [sin(alpha), cos(alpha), 0],[0, 0, 1]])\n",
    "    R_y = Matrix([ [cos(beta), 0, sin(beta)], [0, 1, 0],[-sin(beta), 0, cos(beta)]])\n",
    "    R_x = Matrix([ [1, 0, 0], [0, cos(gamma), -sin(gamma)],[0, sin(gamma), cos(gamma)]])\n",
    "\n",
    "    R = R_x * R_y * R_z\n",
    "    p = Matrix([[x],[y],[z]])\n",
    "    T = Matrix.vstack(Matrix.hstack(R, p), Matrix([[0,0,0,1]]))\n",
    "    return T   "
   ]
  },
  {
   "cell_type": "markdown",
   "id": "1f67b853-c5e9-4300-82c0-622d443b618f",
   "metadata": {},
   "source": [
    "Al usar Denavit-Hartemberg, reducimos las transformaciones a los ejes x & z, por lo que podemos construir la matriz de transformación sólo en esos dos ejes:"
   ]
  },
  {
   "cell_type": "code",
   "execution_count": 39,
   "id": "0b14334c-7dba-47bb-af60-f0a61b61c4dd",
   "metadata": {},
   "outputs": [],
   "source": [
    "def trans_homo_xz(x, z, gamma, alpha):\n",
    "    R_z = Matrix([ [cos(alpha), -sin(alpha), 0], [sin(alpha), cos(alpha), 0],[0, 0, 1]])\n",
    "    R_x = Matrix([ [1, 0, 0], [0, cos(gamma), -sin(gamma)],[0, sin(gamma), cos(gamma)]])\n",
    "\n",
    "    p_x = Matrix([[x],[0],[0]])\n",
    "    p_z = Matrix([[0],[0],[z]])\n",
    "\n",
    "    T_x = Matrix.vstack(Matrix.hstack(R_x, p_x), Matrix([[0,0,0,1]]))\n",
    "    T_z = Matrix.vstack(Matrix.hstack(R_z, p_z), Matrix([[0,0,0,1]]))\n",
    "    return T_x * T_z"
   ]
  },
  {
   "cell_type": "code",
   "execution_count": 24,
   "id": "e38e8ed8-fcdf-4500-8924-7122b31a57f0",
   "metadata": {},
   "outputs": [
    {
     "data": {
      "text/latex": [
       "$\\displaystyle \\left[\\begin{matrix}\\cos{\\left(\\alpha \\right)} & - \\sin{\\left(\\alpha \\right)} & 0 & 10 \\cos{\\left(\\alpha \\right)}\\\\0.707106781186548 \\sin{\\left(\\alpha \\right)} & 0.707106781186548 \\cos{\\left(\\alpha \\right)} & -0.707106781186547 & 7.07106781186548 \\sin{\\left(\\alpha \\right)}\\\\0.707106781186547 \\sin{\\left(\\alpha \\right)} & 0.707106781186547 \\cos{\\left(\\alpha \\right)} & 0.707106781186548 & 7.07106781186547 \\sin{\\left(\\alpha \\right)}\\\\0 & 0 & 0 & 1\\end{matrix}\\right]$"
      ],
      "text/plain": [
       "Matrix([\n",
       "[                  cos(alpha),                  -sin(alpha),                  0,               10*cos(alpha)],\n",
       "[0.707106781186548*sin(alpha), 0.707106781186548*cos(alpha), -0.707106781186547, 7.07106781186548*sin(alpha)],\n",
       "[0.707106781186547*sin(alpha), 0.707106781186547*cos(alpha),  0.707106781186548, 7.07106781186547*sin(alpha)],\n",
       "[                           0,                            0,                  0,                           1]])"
      ]
     },
     "execution_count": 24,
     "metadata": {},
     "output_type": "execute_result"
    }
   ],
   "source": [
    "T1 = trans_homo(0, 0, 0, math.radians(45), 0, alpha)\n",
    "T2 = trans_homo(10, 0, 0, 0, 0, 0)\n",
    "T1*T2"
   ]
  },
  {
   "cell_type": "markdown",
   "id": "96c76783",
   "metadata": {},
   "source": [
    "# Ejemplo de aplicación\n",
    "\n",
    "Se propone cálcular el modelo cinemático directo de un robot tipo RRR sobre el plano xy, como se presenta en la siguiente figura:\n",
    "\n",
    "\n",
    "![RRR](imagenes/RRR_Robot.png)\n",
    "\n",
    "\n",
    "El modelo cinemático consiste en describir la pose, posición y orientación, del sistema de referencia {P} asociado al efector final del robot con respecto al sistema referencia inercial {O}. La pose del robot se describe mediante el vector de pose en función de las variables de postura del robot ${}^{O}\\mathbf{\\xi}_{P}(q)$\n",
    "\n",
    "\n",
    "$$\n",
    "{}^{O}\\mathbf{\\xi}_{P}(q) = \\begin{equation} \\begin{pmatrix}\n",
    "{}^{O}\\mathbf{p}_{P}(q) \\\\\n",
    "{}^{O}\\mathbf{\\theta}_{P}(q)\n",
    "\\end{pmatrix} \\end{equation} =\n",
    "$$\n",
    "\n",
    "\n",
    "$$\n",
    "= \\begin{equation} \\begin{pmatrix}\n",
    "{}^{O}x_{P}(q) \\\\ {}^{O}y_{P}(q) \\\\ {}^{O}z_{P}(q) \\\\ {}^{O}\\gamma_{P}(q) \\\\ {}^{O}\\beta_{P}(q) \\\\ {}^{O}\\alpha_{P}(q)\n",
    "\\end{pmatrix} \\end{equation}\n",
    "$$\n",
    "\n",
    "Para el cálculo del vector ${}^{O}\\mathbf{\\xi}_{P}$ es necesario cálcular la transformación homógenea ${}^{O}\\mathbf{T}_{P}$ siguendo el siguiente planteamiento:\n",
    "\n",
    "\n",
    "$$\n",
    "{}^{O}\\mathbf{T}_{P} = {}^{O}\\mathbf{T}_{1} \\, {}^{1}\\mathbf{T}_{2} \\, {}^{2}\\mathbf{T}_{3} \\, {}^{3}\\mathbf{T}_{p}\n",
    "$$\n",
    "\n",
    "A continuación, se presenta el cálculo de la transformación homogénea ${}^{O}\\mathbf{T}_{P}$ y del vector de postura del robot ${}^{O}\\mathbf{\\xi}_{P}(q)$:"
   ]
  },
  {
   "cell_type": "code",
   "execution_count": 45,
   "id": "b6bd4704",
   "metadata": {},
   "outputs": [
    {
     "data": {
      "text/latex": [
       "$\\displaystyle \\left[\\begin{matrix}\\cos{\\left(\\theta_{1} \\right)} & - \\sin{\\left(\\theta_{1} \\right)} & 0 & x_{1}\\\\\\sin{\\left(\\theta_{1} \\right)} & \\cos{\\left(\\theta_{1} \\right)} & 0 & y_{1}\\\\0 & 0 & 1 & 0\\\\0 & 0 & 0 & 1\\end{matrix}\\right]$"
      ],
      "text/plain": [
       "Matrix([\n",
       "[cos(theta_1), -sin(theta_1), 0, x_1],\n",
       "[sin(theta_1),  cos(theta_1), 0, y_1],\n",
       "[           0,             0, 1,   0],\n",
       "[           0,             0, 0,   1]])"
      ]
     },
     "execution_count": 45,
     "metadata": {},
     "output_type": "execute_result"
    }
   ],
   "source": [
    "# Definicion de las variables para la primera transformacion\n",
    "theta_1, x_1, y_1 = symbols('theta_1, x_1, y_1')\n",
    "\n",
    "T_0_1 = trans_homo(x_1, y_1, 0, 0, 0, theta_1)\n",
    "T_0_1"
   ]
  },
  {
   "cell_type": "code",
   "execution_count": 42,
   "id": "47822b3e",
   "metadata": {},
   "outputs": [
    {
     "data": {
      "text/latex": [
       "$\\displaystyle \\left[\\begin{matrix}\\cos{\\left(\\theta_{2} \\right)} & - \\sin{\\left(\\theta_{2} \\right)} & 0 & L_{1}\\\\\\sin{\\left(\\theta_{2} \\right)} & \\cos{\\left(\\theta_{2} \\right)} & 0 & 0\\\\0 & 0 & 1 & 0\\\\0 & 0 & 0 & 1\\end{matrix}\\right]$"
      ],
      "text/plain": [
       "Matrix([\n",
       "[cos(theta_2), -sin(theta_2), 0, L_1],\n",
       "[sin(theta_2),  cos(theta_2), 0,   0],\n",
       "[           0,             0, 1,   0],\n",
       "[           0,             0, 0,   1]])"
      ]
     },
     "execution_count": 42,
     "metadata": {},
     "output_type": "execute_result"
    }
   ],
   "source": [
    "# Definicion de las variables para la segunda transformacion\n",
    "L_1, theta_2 = symbols('L_1, theta_2')\n",
    "\n",
    "T_1_2 = trans_homo_xz(L_1, 0, 0, theta_2)\n",
    "T_1_2"
   ]
  },
  {
   "cell_type": "code",
   "execution_count": 43,
   "id": "7e5ab77b",
   "metadata": {},
   "outputs": [
    {
     "data": {
      "text/latex": [
       "$\\displaystyle \\left[\\begin{matrix}\\cos{\\left(\\theta_{3} \\right)} & - \\sin{\\left(\\theta_{3} \\right)} & 0 & L_{2}\\\\\\sin{\\left(\\theta_{3} \\right)} & \\cos{\\left(\\theta_{3} \\right)} & 0 & 0\\\\0 & 0 & 1 & 0\\\\0 & 0 & 0 & 1\\end{matrix}\\right]$"
      ],
      "text/plain": [
       "Matrix([\n",
       "[cos(theta_3), -sin(theta_3), 0, L_2],\n",
       "[sin(theta_3),  cos(theta_3), 0,   0],\n",
       "[           0,             0, 1,   0],\n",
       "[           0,             0, 0,   1]])"
      ]
     },
     "execution_count": 43,
     "metadata": {},
     "output_type": "execute_result"
    }
   ],
   "source": [
    "# Definicion de las variables para la tercera transformacion\n",
    "L_2, theta_3 = symbols('L_2, theta_3')\n",
    "\n",
    "T_2_3 = trans_homo_xz(L_2, 0, 0, theta_3)\n",
    "T_2_3"
   ]
  },
  {
   "cell_type": "code",
   "execution_count": 44,
   "id": "2da739bf",
   "metadata": {},
   "outputs": [
    {
     "data": {
      "text/latex": [
       "$\\displaystyle \\left[\\begin{matrix}1 & 0 & 0 & L_{3}\\\\0 & 1 & 0 & 0\\\\0 & 0 & 1 & 0\\\\0 & 0 & 0 & 1\\end{matrix}\\right]$"
      ],
      "text/plain": [
       "Matrix([\n",
       "[1, 0, 0, L_3],\n",
       "[0, 1, 0,   0],\n",
       "[0, 0, 1,   0],\n",
       "[0, 0, 0,   1]])"
      ]
     },
     "execution_count": 44,
     "metadata": {},
     "output_type": "execute_result"
    }
   ],
   "source": [
    "# Definicion de las variables para la cuarta transformacion\n",
    "L_3 = symbols('L_3')\n",
    "\n",
    "T_3_P = trans_homo_xz(L_3, 0, 0, 0)\n",
    "T_3_P"
   ]
  },
  {
   "cell_type": "markdown",
   "id": "679415de",
   "metadata": {},
   "source": [
    "Cálculando la matriz de transformación ${}^{O}\\mathbf{T}_{P}$"
   ]
  },
  {
   "cell_type": "code",
   "execution_count": 46,
   "id": "153da328",
   "metadata": {},
   "outputs": [
    {
     "data": {
      "text/latex": [
       "$\\displaystyle \\left[\\begin{matrix}\\cos{\\left(\\theta_{1} + \\theta_{2} + \\theta_{3} \\right)} & - \\sin{\\left(\\theta_{1} + \\theta_{2} + \\theta_{3} \\right)} & 0 & L_{1} \\cos{\\left(\\theta_{1} \\right)} + L_{2} \\cos{\\left(\\theta_{1} + \\theta_{2} \\right)} + L_{3} \\cos{\\left(\\theta_{1} + \\theta_{2} + \\theta_{3} \\right)} + x_{1}\\\\\\sin{\\left(\\theta_{1} + \\theta_{2} + \\theta_{3} \\right)} & \\cos{\\left(\\theta_{1} + \\theta_{2} + \\theta_{3} \\right)} & 0 & L_{1} \\sin{\\left(\\theta_{1} \\right)} + L_{2} \\sin{\\left(\\theta_{1} + \\theta_{2} \\right)} + L_{3} \\sin{\\left(\\theta_{1} + \\theta_{2} + \\theta_{3} \\right)} + y_{1}\\\\0 & 0 & 1 & 0\\\\0 & 0 & 0 & 1\\end{matrix}\\right]$"
      ],
      "text/plain": [
       "Matrix([\n",
       "[cos(theta_1 + theta_2 + theta_3), -sin(theta_1 + theta_2 + theta_3), 0, L_1*cos(theta_1) + L_2*cos(theta_1 + theta_2) + L_3*cos(theta_1 + theta_2 + theta_3) + x_1],\n",
       "[sin(theta_1 + theta_2 + theta_3),  cos(theta_1 + theta_2 + theta_3), 0, L_1*sin(theta_1) + L_2*sin(theta_1 + theta_2) + L_3*sin(theta_1 + theta_2 + theta_3) + y_1],\n",
       "[                               0,                                 0, 1,                                                                                          0],\n",
       "[                               0,                                 0, 0,                                                                                          1]])"
      ]
     },
     "execution_count": 46,
     "metadata": {},
     "output_type": "execute_result"
    }
   ],
   "source": [
    "T_0_P = simplify(T_0_1*T_1_2*T_2_3*T_3_P) \n",
    "T_0_P"
   ]
  },
  {
   "cell_type": "code",
   "execution_count": 60,
   "id": "e8506275-2ec7-4300-a29f-2df37a33028f",
   "metadata": {},
   "outputs": [],
   "source": [
    "T_0_3 = simplify(T_O_1*T_1_2*T_2_3) \n",
    "T_0_2 = simplify(T_O_1*T_1_2)"
   ]
  },
  {
   "cell_type": "markdown",
   "id": "8201bd1b-62b4-44af-9020-769bcc133ee8",
   "metadata": {},
   "source": [
    "## Vector de postura del robot\n",
    "\n",
    "El vector de postura del robot "
   ]
  },
  {
   "cell_type": "code",
   "execution_count": 51,
   "id": "d447907b",
   "metadata": {},
   "outputs": [
    {
     "data": {
      "text/latex": [
       "$\\displaystyle \\left[\\begin{matrix}L_{1} \\cos{\\left(\\theta_{1} \\right)} + L_{2} \\cos{\\left(\\theta_{1} + \\theta_{2} \\right)} + L_{3} \\cos{\\left(\\theta_{1} + \\theta_{2} + \\theta_{3} \\right)} + x_{1}\\\\L_{1} \\sin{\\left(\\theta_{1} \\right)} + L_{2} \\sin{\\left(\\theta_{1} + \\theta_{2} \\right)} + L_{3} \\sin{\\left(\\theta_{1} + \\theta_{2} + \\theta_{3} \\right)} + y_{1}\\\\\\theta_{1} + \\theta_{2} + \\theta_{3}\\end{matrix}\\right]$"
      ],
      "text/plain": [
       "Matrix([\n",
       "[L_1*cos(theta_1) + L_2*cos(theta_1 + theta_2) + L_3*cos(theta_1 + theta_2 + theta_3) + x_1],\n",
       "[L_1*sin(theta_1) + L_2*sin(theta_1 + theta_2) + L_3*sin(theta_1 + theta_2 + theta_3) + y_1],\n",
       "[                                                               theta_1 + theta_2 + theta_3]])"
      ]
     },
     "execution_count": 51,
     "metadata": {},
     "output_type": "execute_result"
    }
   ],
   "source": [
    "xi_0_P = Matrix([T_0_P[0,3], T_0_P[1,3], theta_1 + theta_2 + theta_3])\n",
    "xi_0_P"
   ]
  },
  {
   "cell_type": "markdown",
   "id": "f7adb514",
   "metadata": {},
   "source": [
    "### Posición del robot\n",
    "\n",
    "Calculando la posición del robot a partir de los datos de las juntas "
   ]
  },
  {
   "cell_type": "markdown",
   "id": "a8ea9666-0836-4f89-bd25-e11a33f726c2",
   "metadata": {},
   "source": [
    "Sustituyendo un valor a la vez:"
   ]
  },
  {
   "cell_type": "code",
   "execution_count": 52,
   "id": "459429e6-ecfd-42fe-8d02-9a1f02e6aaad",
   "metadata": {},
   "outputs": [
    {
     "data": {
      "text/latex": [
       "$\\displaystyle \\left[\\begin{matrix}L_{2} \\cos{\\left(\\theta_{1} + \\theta_{2} \\right)} + L_{3} \\cos{\\left(\\theta_{1} + \\theta_{2} + \\theta_{3} \\right)} + x_{1} + \\cos{\\left(\\theta_{1} \\right)}\\\\L_{2} \\sin{\\left(\\theta_{1} + \\theta_{2} \\right)} + L_{3} \\sin{\\left(\\theta_{1} + \\theta_{2} + \\theta_{3} \\right)} + y_{1} + \\sin{\\left(\\theta_{1} \\right)}\\\\\\theta_{1} + \\theta_{2} + \\theta_{3}\\end{matrix}\\right]$"
      ],
      "text/plain": [
       "Matrix([\n",
       "[L_2*cos(theta_1 + theta_2) + L_3*cos(theta_1 + theta_2 + theta_3) + x_1 + cos(theta_1)],\n",
       "[L_2*sin(theta_1 + theta_2) + L_3*sin(theta_1 + theta_2 + theta_3) + y_1 + sin(theta_1)],\n",
       "[                                                           theta_1 + theta_2 + theta_3]])"
      ]
     },
     "execution_count": 52,
     "metadata": {},
     "output_type": "execute_result"
    }
   ],
   "source": [
    "xi_0_P.subs(L_1, 1)"
   ]
  },
  {
   "cell_type": "markdown",
   "id": "f1948768-8290-424b-948c-d4b353fdd51d",
   "metadata": {},
   "source": [
    "Sustituyendo varios valores"
   ]
  },
  {
   "cell_type": "code",
   "execution_count": 55,
   "id": "f5f3d0ca-363d-4b90-b48e-3cde70d5d511",
   "metadata": {},
   "outputs": [
    {
     "data": {
      "text/latex": [
       "$\\displaystyle \\left[\\begin{matrix}2.41421356237309\\\\0\\\\-0.785398163397448\\end{matrix}\\right]$"
      ],
      "text/plain": [
       "Matrix([\n",
       "[  2.41421356237309],\n",
       "[                 0],\n",
       "[-0.785398163397448]])"
      ]
     },
     "execution_count": 55,
     "metadata": {},
     "output_type": "execute_result"
    }
   ],
   "source": [
    "import math\n",
    "xi_0_P.subs([(x_1, 0), (y_1, 0), (L_1, 1), (L_2, 1), (L_3, 1), (theta_1, math.radians(45)), (theta_2, math.radians(-45)), (theta_3, math.radians(-45))])"
   ]
  },
  {
   "cell_type": "markdown",
   "id": "fb6c4788-a8b1-4469-80a8-61811588d338",
   "metadata": {},
   "source": [
    "Para obtener el ángulo en grados"
   ]
  },
  {
   "cell_type": "code",
   "execution_count": 56,
   "id": "53ba444e-7b6b-46e1-80a9-d0efa93d67e3",
   "metadata": {},
   "outputs": [
    {
     "data": {
      "text/plain": [
       "-45.0"
      ]
     },
     "execution_count": 56,
     "metadata": {},
     "output_type": "execute_result"
    }
   ],
   "source": [
    "math.degrees(xi_O_P.subs([(x_1, 0), (y_1, 0), (L_1, 1), (L_2, 1), (L_3, 1), (theta_1, math.radians(45)), (theta_2, math.radians(-45)), (theta_3, math.radians(-45))])[2])"
   ]
  },
  {
   "cell_type": "markdown",
   "id": "2efbb75b-66a0-45bb-b7a5-f6938fb8177a",
   "metadata": {},
   "source": [
    "## Gráfica\n",
    "\n",
    "Ahora, importaremos librerías para poder graficar una posición del robot"
   ]
  },
  {
   "cell_type": "code",
   "execution_count": 57,
   "id": "044a87ae-95fa-4018-807a-3b29b8e3fa43",
   "metadata": {},
   "outputs": [],
   "source": [
    "import matplotlib\n",
    "import matplotlib.pyplot as plt\n",
    "import numpy as np"
   ]
  },
  {
   "cell_type": "markdown",
   "id": "346bc142-a886-4d8e-b23f-70ab4c1e4ee5",
   "metadata": {},
   "source": [
    "Tomaremos las matrices homogéneas para obtener las posiciones de cada sistema de referencia del robot, y en ellas sustituiremos un valor para las articulaciones"
   ]
  },
  {
   "cell_type": "code",
   "execution_count": 63,
   "id": "a1b09281-2330-41d7-844a-71cd40ee9af0",
   "metadata": {},
   "outputs": [],
   "source": [
    "#Posición del sistema 1\n",
    "px_1 = 1\n",
    "py_1 = 1\n",
    "#Valores del espacio de trabajo\n",
    "th_1 = math.radians(90)\n",
    "th_2 = math.radians(-45)\n",
    "th_3 = math.radians(0)\n",
    "t_0_P = T_0_P.subs([(x_1, px_1), (y_1, py_1), (L_1, 1), (L_2, 1), (L_3, 1), (theta_1, th_1), (theta_2, th_2), (theta_3, th_3)]) \n",
    "t_0_3 = T_0_3.subs([(x_1, px_1), (y_1, py_1), (L_1, 1), (L_2, 1), (L_3, 1), (theta_1, th_1), (theta_2, th_2), (theta_3, th_3)]) \n",
    "t_0_2 = T_0_2.subs([(x_1, px_1), (y_1, py_1), (L_1, 1), (L_2, 1), (L_3, 1), (theta_1, th_1), (theta_2, th_2), (theta_3, th_3)])\n",
    "t_0_1 = T_0_1.subs([(x_1, px_1), (y_1, py_1), (L_1, 1), (L_2, 1), (L_3, 1), (theta_1, th_1), (theta_2, th_2), (theta_3, th_3)])\n"
   ]
  },
  {
   "cell_type": "markdown",
   "id": "0df46555-8644-4a65-b6c6-6ff3a64c8041",
   "metadata": {},
   "source": [
    "Para finalmente generar la gráfica con la librería matplotlib"
   ]
  },
  {
   "cell_type": "code",
   "execution_count": 64,
   "id": "cc080144-14c2-4712-8718-a8ce94548924",
   "metadata": {},
   "outputs": [
    {
     "data": {
      "image/png": "[encoded data removed]",
      "text/plain": [
       "<Figure size 640x480 with 1 Axes>"
      ]
     },
     "metadata": {},
     "output_type": "display_data"
    }
   ],
   "source": [
    "x1 = [t_0_1[0,3], t_0_2[0,3]] \n",
    "y1 = [t_0_1[1,3], t_0_2[1,3]] \n",
    "x2 = [t_0_2[0,3], t_0_3[0,3]] \n",
    "y2 = [t_0_2[1,3], t_0_3[1,3]] \n",
    "x3 = [t_0_3[0,3], t_0_P[0,3]] \n",
    "y3 = [t_0_3[1,3], t_0_P[1,3]] \n",
    "plt.plot(x1, y1, linewidth = 20.0, color = \"RED\")\n",
    "plt.plot(x2, y2, linewidth = 20.0, color = \"green\")\n",
    "plt.plot(x3, y3, linewidth = 20.0, color = (0, 0, 1.0))\n",
    "plt.axis((0,4,0,4))\n",
    "plt.show()"
   ]
  },
  {
   "cell_type": "markdown",
   "id": "e34c70bb-eccd-4184-bdf1-deaa17a7ba5b",
   "metadata": {},
   "source": [
    "## Animación\n",
    "Utilizando matplotlib.animation, se puede crear una función que cree frames para cada posición y éstos se animen"
   ]
  },
  {
   "cell_type": "code",
   "execution_count": 67,
   "id": "c0f8c803-c4fb-472d-8b84-7ef5010c98ec",
   "metadata": {
    "scrolled": true
   },
   "outputs": [
    {
     "data": {
      "text/plain": [
       "<Figure size 640x480 with 0 Axes>"
      ]
     },
     "metadata": {},
     "output_type": "display_data"
    },
    {
     "data": {
      "image/png": "[encoded data removed]",
      "text/plain": [
       "<Figure size 640x480 with 1 Axes>"
      ]
     },
     "metadata": {},
     "output_type": "display_data"
    }
   ],
   "source": [
    "import matplotlib.animation as animation\n",
    "plt.clf()\n",
    "fig, ax = plt.subplots()\n",
    "b1 = ax.plot(0, 0, linewidth = 20.0, color = \"RED\")[0]\n",
    "b2 = ax.plot(0, 0, linewidth = 20.0, color = \"GREEN\")[0]\n",
    "b3 = ax.plot(0, 0, linewidth = 20.0, color = \"BLUE\")[0]\n",
    "ax.set(xlim = [0, 4], ylim = [0, 4])\n",
    "def animar(frame):\n",
    "  th_1 = math.radians(45)\n",
    "  th_2 = math.radians(-45)\n",
    "  th_3 = math.radians(frame)\n",
    "  t_0_P = T_0_P.subs([(x_1, px_1), (y_1, py_1), (L_1, 1), (L_2, 1), (L_3, 1), (theta_1, th_1), (theta_2, th_2), (theta_3, th_3)]) \n",
    "  t_0_3 = T_0_3.subs([(x_1, px_1), (y_1, py_1), (L_1, 1), (L_2, 1), (L_3, 1), (theta_1, th_1), (theta_2, th_2), (theta_3, th_3)]) \n",
    "  t_0_2 = T_0_2.subs([(x_1, px_1), (y_1, py_1), (L_1, 1), (L_2, 1), (L_3, 1), (theta_1, th_1), (theta_2, th_2), (theta_3, th_3)])\n",
    "  t_0_1 = T_0_1.subs([(x_1, px_1), (y_1, py_1), (L_1, 1), (L_2, 1), (L_3, 1), (theta_1, th_1), (theta_2, th_2), (theta_3, th_3)])\n",
    "  x1 = [t_0_1[0,3], t_0_2[0,3]] \n",
    "  y1 = [t_0_1[1,3], t_0_2[1,3]] \n",
    "  x2 = [t_0_2[0,3], t_0_3[0,3]] \n",
    "  y2 = [t_0_2[1,3], t_0_3[1,3]] \n",
    "  x3 = [t_0_3[0,3], t_0_P[0,3]] \n",
    "  y3 = [t_0_3[1,3], t_0_P[1,3]]\n",
    "  b1.set_xdata([t_0_1[0,3], t_0_2[0,3]])\n",
    "  b1.set_ydata([t_0_1[1,3], t_0_2[1,3]])\n",
    "  b2.set_xdata([t_0_2[0,3], t_0_3[0,3]])\n",
    "  b2.set_ydata([t_0_2[1,3], t_0_3[1,3]])\n",
    "  b3.set_xdata([t_0_3[0,3], t_0_P[0,3]])\n",
    "  b3.set_ydata([t_0_3[1,3], t_0_P[1,3]])\n",
    "  return\n",
    "anim = animation.FuncAnimation(fig=fig, func=animar, frames=180, interval=50)\n"
   ]
  },
  {
   "cell_type": "markdown",
   "id": "82faad0b-791d-405c-8fd3-d26fee171968",
   "metadata": {},
   "source": [
    "Finalmente, podemos crear una animación con estos frames: \n",
    "\n",
    "Es necesario instalar una extensión con\n",
    "\n",
    "$sudo apt-get install ffmpeg"
   ]
  },
  {
   "cell_type": "code",
   "execution_count": 68,
   "id": "840a36f5-9303-4a78-b233-0bdd8b7cf7fe",
   "metadata": {},
   "outputs": [
    {
     "data": {
      "text/html": [
       "<video width=\"640\" height=\"480\" controls autoplay loop>\n",
       "  <source type=\"video/mp4\" src=\"data:video/mp4;base64,AAAAIGZ0eXBNNFYgAAACAE00ViBpc29taXNvMmF2YzEAAAAIZnJlZQAAsMVtZGF0AAACrwYF//+r\n",
       "3EXpvebZSLeWLNgg2SPu73gyNjQgLSBjb3JlIDE2MyByMzA2MCA1ZGI2YWE2IC0gSC4yNjQvTVBF\n",
       "Ry00IEFWQyBjb2RlYyAtIENvcHlsZWZ0IDIwMDMtMjAyMSAtIGh0dHA6Ly93d3cudmlkZW9sYW4u\n",
       "b3JnL3gyNjQuaHRtbCAtIG9wdGlvbnM6IGNhYmFjPTEgcmVmPTMgZGVibG9jaz0xOjA6MCBhbmFs\n",
       "eXNlPTB4MzoweDExMyBtZT1oZXggc3VibWU9NyBwc3k9MSBwc3lfcmQ9MS4wMDowLjAwIG1peGVk\n",
       "X3JlZj0xIG1lX3JhbmdlPTE2IGNocm9tYV9tZT0xIHRyZWxsaXM9MSA4eDhkY3Q9MSBjcW09MCBk\n",
       "ZWFkem9uZT0yMSwxMSBmYXN0X3Bza2lwPTEgY2hyb21hX3FwX29mZnNldD0tMiB0aHJlYWRzPTEy\n",
       "IGxvb2thaGVhZF90aHJlYWRzPTIgc2xpY2VkX3RocmVhZHM9MCBucj0wIGRlY2ltYXRlPTEgaW50\n",
       "ZXJsYWNlZD0wIGJsdXJheV9jb21wYXQ9MCBjb25zdHJhaW5lZF9pbnRyYT0wIGJmcmFtZXM9MyBi\n",
       "X3B5cmFtaWQ9MiBiX2FkYXB0PTEgYl9iaWFzPTAgZGlyZWN0PTEgd2VpZ2h0Yj0xIG9wZW5fZ29w\n",
       "PTAgd2VpZ2h0cD0yIGtleWludD0yNTAga2V5aW50X21pbj0yMCBzY2VuZWN1dD00MCBpbnRyYV9y\n",
       "ZWZyZXNoPTAgcmNfbG9va2FoZWFkPTQwIHJjPWNyZiBtYnRyZWU9MSBjcmY9MjMuMCBxY29tcD0w\n",
       "LjYwIHFwbWluPTAgcXBtYXg9NjkgcXBzdGVwPTQgaXBfcmF0aW89MS40MCBhcT0xOjEuMDAAgAAA\n",
       "FZ5liIQAP//+92ifAptaQ3qA5JXFJdtPgf+rZ3B8j+kDAAADAAADAAAEMCOP9CT+H5qTAAADAEQA\n",
       "C+HzaJidJHicABF2cBZ8iQAH6BqVTOpbyxNo6SffNylzH2uThhK8/BZgFdWgUxaIH6mDFjS8vdBk\n",
       "dHkjqN/fonmu1VwQgWcIYWxo7MkyeAEyOIdyMXvPYuENfgjQWHdpY2HV/p4Nwnr/LREKl6E2/RTH\n",
       "CY4BblosQbLy/Ehzy5Ovf/ouwO+8B5pqAvX8pHksDVQ9cs0w6rT0JeuYpT7H2Rob5d5P0aPMo1bo\n",
       "f93XcXFs2y8hQ5WzTzKDc7u2z0r50TLcICyZBilAjhNC8TNkv6AGoMMyx9gPp9o+BkK9rUbodHG0\n",
       "Szz1MnmXR8lTsJYY94gAIg0ae1oB+QCgBAN4iE9DA2CAlMZ6i0LexLoMxhzYWqO6mLPd4kpwvioV\n",
       "ZEeSBH1aeOgoJ1FKkvFOCwEfbcmAk8So7B+o7JvCZGZkgu1+YeM6mlUsrCUZN8oc63Dz+j0djNrw\n",
       "2OjDgApJCL9hF5RQg2aWJ8kzJCH3SI35YQD0kCJECHuSeEpkzzQhKYBgxb9ZGu7bIdmp1uTIusaq\n",
       "a4V+uuP27D7wZqUftToa0i7RlAws3789cKZqMZIA0yuHnEckWSNJLU+mDWNFQRVpNt4wU/WbH31R\n",
       "2GbszbwDEwIQYiJDubgIlE6gGSD22mmqztXDyaDgmH07yHiuDOWI3DCUOA4OEWM9RbwXJjKJbYgO\n",
       "5nnAoOjF+wUyngclBQneea/kULkMKGLxlgoC8aNWZpwm58de278zLT5DhnOpzR7SSiMJVDMY0aU2\n",
       "7izbT3tHzWn+71eT5UIkcR1Hrk21oR6/3yQ/Hxnodbp8vR/rX3MalmPm0nXaYNEVoTRMEbOdT4Ie\n",
       "jF0TEZSIAtgGa9O01w6OgBIBejCRM1d2I19Moq6SJHapmen8dDSNCXol2TaNON6j5NWpDidKalLa\n",
       "Z9nlszKiRWuY1I9Ay8DSm08ZrkdsTOkUMc+6Azd+52gYzLaRCGe7DNrg3wPdqGw436o71CGDllKT\n",
       "BwJ0oqqucwuWwwUcTTEyBkCimpWCkbmfnZO9yk/SiUVNikja9ApyWHJFC6iptJTupR2SIyajIeIk\n",
       "4C6+8HtQqZjzsoV1ceEif6RCIXC58A5QAka5KKAKbR/sgMXFVHxLiqwCXY82cf6cXXjidFf4yFBX\n",
       "37Ar/Y38P1FilW0tvCEZWYKQXiV8sdEJD6SRxKPK52t81Jgpvm7FVlAvCW6K+lzHXhvJGAqQ1ion\n",
       "DFecaOwW8gb2ph3brvQuc/xaRCORcWgwMS9CtTmE/xbfIfJHNe07Js+recxORqk4VSvWCGtDvm7I\n",
       "Z3BF0lNmydcqYlzZGeusLof26yZABl7Hs1hO1pjCcqETT+HFRVOpOgDzZBEgrdnHCY5+gWK2QDj3\n",
       "g6qcE7G796hkiVqO8jhw5SCaCsNkoe+lmXqYPoesPAonHTS95aOif//e3FYe/xqSYGuYaua9rFCf\n",
       "dsF/lMiwcFBBmCocku+yBDI5SFlLSDTz4rhLX7oTQSgMGuTVQxNdNhAoUs3BcCBILFuHZEnaJkiQ\n",
       "rgwGspQIuu8kbmXv90LXUmujD+ZkvVUUhJ8O3qWqlpEdFJWZrO/5nete5OB8d3UVBQsDFbL7CaHY\n",
       "KvQRPdayLKC42VNyuD0OJsAjJysAjtvRN4i1n+kHf1ZqsO3Wa/8Jkm49Qr9DnYsz/gAAUiRgekE6\n",
       "A6biM1ndg2KG03exf+lpS9P/ynMZbJaYzUoBK9nypAwJJUMaFpjDNL3O9bdbGEfiZepdrsukSdd6\n",
       "MD98Sh3l9oUXZiYv1By76E1v8/51e6XKxIy08EliLv7jgNr6YD6ST4OVmyibVOrNSS/8RU9bE/Kc\n",
       "d09zz3GJfFXtX4yKnPOrtIoPs92ctmJfPzO4dNkwxmILsAZ+//4IX71VXv8vYPLqIfxFH2mnszxZ\n",
       "s7v1sN+U7AOYfDf6Na0GEs6NeW1I9ssDbjHsAxLuv4XbHc4zgv6V4S1Q7NCX5BoDPNEdw4ngQ2uZ\n",
       "1R4P9WS4FE8dr57OCNQTBDllzY0EZeWJGE9P0PHrQcVcEuUrIeer0tgPZU+2Gt8+mH1m0bBPa/pK\n",
       "lesGdGnxUAboSjxyIsHKNsy7fjkfVTFM5bL4PeYOdMTOWnWhvwGLX4JaCvX8sfos7dGVqLyU/jmg\n",
       "Er3vxBoqrtOEMrV+e8pfTS/qsG8W7gg59Y7GezAnqVeuv8qbLb4DwZJsH69Hsh5V44VUPGxiKBrL\n",
       "DM9SKVkxAIX40WLdpe1yvx6Q6ukGsdJTbfWckTFtB8Mz5PjOu9gNxLQ29k6XWXnXtrzHRWDKwMpw\n",
       "HwN4AvKPWtrbsoZflsQV2acgdZW/IqH390eQcvdhOU0zP5UU71PdhkhWHb/znJhttoEp7/o7W38T\n",
       "9+Wv9XYS/k9mo1YMtLbvSlFN8jHFREH7GWFiGemcqx0CbN+CXb5xrAaVAWYJ+9JkgunO8HjODPcR\n",
       "IcoSatNgkIJ3VwBPI4/epaWCLpB1MM9TCHXTIcy3vI/1X4Go9l7RMV8QBXbYyuejpD06Bp2/v8Hh\n",
       "NSx/ev4ufhvEEumJ0ECssO5gcCOmqvapPE85AQZCdpW8lnoIKsiGsmQeplLvmETJAgyXpOpCayUI\n",
       "oXUVNaL/h12YOTRDbBFXeSpYFNzVu9ljjTfk/ZFYKAKZ8l/nWcELI0/cMMSp/xB0Ef2rr8yowcBN\n",
       "2Q2Cg1QRiYra0emqvxLc9NjkiCrjhQo74b6qIVf2oSXX1r98G3w0WAYisooZE//cwc0FszgdGJoE\n",
       "/62W2DXDb2O1M1HHx8wyf9ouoQu9ltQA3B6wkmr+nzPq2GCn2uMV6OE+NtXZoM/sBSHoeNsot9ab\n",
       "L1y2PDO1UfmXVUWNv2wmSO6ZvHNpE3ckAiRKTssrZiWiUBFpUgdAEHlOkoN3O26MV96eNoKtf7Qr\n",
       "GDRLIWfQbus/JCxLzZp/WjcRxqbTvxNqoec5s8CXNGoivhXLv51t2BImN4/u0PwZZG5VO2Mm6zyb\n",
       "IedP0ObGOZd3/tJJDVUQ2P5u3la5xLEO6Hk7Fo00d59HcDsq2pZ8DUZw/SLddpB49Ky4GvEmUhdu\n",
       "ILlRp8iXQ6CwrgP7VIVbE84AnMFcPFQDqn40t53JKSKg2mOil9YS5+rggmI4CXrlArtuBen01tzs\n",
       "Bx0KSIb9VJ2km9yKCdQbHCdJryu9h57Mp3clZiLPqO9WkaSh++IMTuZiJL9O+lWplG5LUYRNfDAE\n",
       "WRVV7EFXet23+UTSiWBE018e5Hwg1xrTIasD43ioetxw3SOTyh+vqU9P1379qjY6hI5w9epeBmmR\n",
       "Xwv2QyKMFyBZWyV/nPqehM9LwgcNHauZXf29A5ml08Lh6zjvKqoMgTsmSqmYlI3KuWo4nKLSUeFC\n",
       "kYAX3PT2oUb4ue2aOLwGLldPopHESudcCswDj2LDk/nytDvPQv1x0Vbyz0epXbVATGpiJheh0uR3\n",
       "Me2AzR9X3e5ZitfGIy+PoKa+YT2QhoqYh1+NQZak4zxI2Tgn2xz+acijximwE+Ue4TvUZ7tRDeQd\n",
       "+SUlSBgA2SzMMAZFMNtmrn7ppSgYvlSdrvkQrezsw/trqzZ00slt/yZAd3ZNmPqCI4rDGfRKbolJ\n",
       "QOtkySdBdABHxUxEQCDJpHpWAP30m+sulDLuOZqGV5midujoEeAypDIoP229EJt6Cqj2AARXiC4z\n",
       "w8YGbh5alchtwPS8g1JcwyF4p62+pPdtQTDkWPVgRLpR2i5snukoO8k4AB/1s3tjjFGLWd01buJ/\n",
       "K1mu7oiE96x1mYCu7SXJbCY8qvJ0Y00yQrT5nnERq5H7+YbfB+jD0ZCFXivXjcfP1uzqUExtNj3B\n",
       "4U2je2d+SmSqNq5aHug4eI3+y1BYzwkZHCl2G47ZMTbQTH0K/FbJKkRPi05fbZ+4NcZ/DNmSkkn8\n",
       "0Cho3F3GUgULWtIyYMD4HxAB+DQUxC2Pv+wzMEY2Odz4glDDuvIgFUeGOLipo2jmOJECwetYfQdT\n",
       "5Swg9iuGS0evgbInWwX11/KPFfeNEbnl/i1K3swUP1VVcQXo7NQqlcb9GzI6EOq+tG+4s4i8Ih90\n",
       "XE6mtSzo0PJpRAACWWfLaaPNzNQx5BNNoq+UL0zFU8jurNuC5CzeJbq6Ghne3V93r+3nN0NUDzN6\n",
       "SSM2FIMAUWOX6QpiRuwAIoluPQxNSCde241fTAySLkLh+82ii/IW2J2OWYg/i01w5g1EZ6RqGl99\n",
       "TOvhmetTpqJd4oZpTlz4eq+gQO8aH1SH9TbShyYW9r0RJSVtiif9J9f8ThZkik3b1pUohyOPR16/\n",
       "v8r6Ools38SDp8Y1pdy5ZYr2z9MujcTUh8J6ty/TFeXhO7lV1iYew/Wb207LIUMvOq5ATJZ89ViU\n",
       "+/vjtYIrXXFA7hCCYD5rFC3wqEfZkalQzkxMiJongogXKjgZtp8YXFzSaLhPZpG3P7QxU4TIjRSz\n",
       "Px7Th31Z1fpZ0ZsFM6gcW6BN184rrN7wmtzjncVRR5u7GagjUETk6FZQbTMt8Cq89VyguvhMtmR8\n",
       "4yI5C1431GC/ne2yfkADkS6OjHFOx74TAm1lR2FzIYKzRWyqJqpbRhEs8GF2oKGnaxdUPSJqNsYh\n",
       "nslkW+q1do+IAA2lAtd36CSgDE3NhsCthZNzs5dXnkMVSUfCBsr2FdcqhA1w33x+/+QY6EccSdU7\n",
       "D46V8ZLrXFDqVvKizZEjmdRE/LGP1eNIv5ufiEBULXlgMGro6kYScFrPp0IJAw9HC6/XeLG+QO5G\n",
       "WzqvLAX+t/0Gjqtca4QCTGffJBkRIANJUPuEzlQ095oVZlEfCGJUpH+eB4W7oWlSc//I7VJMXpgP\n",
       "gyEcNTJznZItffpTnxg+9WxFXobltqAOW2qAZAKiAIifUVGRh2WACrDlpj3bOp5aefpJ0v1j1nV7\n",
       "K8ntMBkMokLVowvIUeNkk3mLxfeS5Q/bLoyPJigY7qK0J7cd/K12wVT7yKfzu+5M8N3xTVKqrZr+\n",
       "hXkJTWDet8bzWDP3evn9wxyknlHzrtQzDFPi4n9/wvYVpqqQu0tsp2vFengYHP56P5hjS+dIEmE+\n",
       "6lruQLaBXyKplhHmyyWlM9FcD7Ja9uwREKIUq4ptyoZ9zBzj+jx+zg8JxFEioNoMqyWeuFRdJkKr\n",
       "vI03MIzcUkR64Gi/v97BGf6PR07g+hcMovhliEdIt2Zt2pEiSvyeH4OeHRdoz1ZhsKrKxiXkQrhE\n",
       "XmKBwiCWmGLGCPdngGwLyBJE6JG1J2nmFgTRbQ4Qj633lJFzP7mNrfBezf7l/meDux4Zi621FIRe\n",
       "svSAl+U7pOSqXF3UPViNVxmF2Hzc+9Nvzm+6+pBdfi+sXkhmzYmJ8fP2WyX0UVxah4I/4g5MAt1Q\n",
       "PnNJvuUyYQwQY2uH9zdyCoUg0Edlta9G7QdHSLPjrg0C1bfcyaj7JkVzfqn0EQlDxedfbckdEQx5\n",
       "ojMHmTmumwhxClZ6vIWqriGpzYrYvUipbBlikrkcgSBy830EQg1+16ZTAFQTTl8kE1TFVXw3qxvm\n",
       "QJlKejtzSHdmw5FGGEgRjLIRavkBSXGiey5oU5H30o3VsScIX82QpWRstbuVev38SYSzy2GZ8J9d\n",
       "DJ0FmBYLs+vlcEJlU4qB+VQXWho4tX5+fvaCWH5qzyBSvR84jtrpKRYXxxUUT3Pd9xEai3Jecy5g\n",
       "lnkwBGut4ORO1k4bJkZiLoWMU9ctmmcVz8Q9DGnxJ9GvRnQAMxPm2iQJt8ul3F6UYelLkpFZaTqk\n",
       "ic4jQAdPEr9QSM4Y1Maa+Wj5XgDoYXPzgPiahegziN72zSVhCCID/mF9O6Y3ZZWyWzJuGaWN9zsl\n",
       "456F/rHl8qBLIha75TqN2L7YCZ1wFnHlejtaWqzby3MK719J75oi3UAcSXyjBlnMIRgM0fegFtXL\n",
       "LYollqwbS60+YEtfaGXILx6YI3TsyCy8wUlItAIJz2Ww/6dT5cHuqRDrhCKmOf2tvvTC3SefVFGg\n",
       "KFsfKrCn5PYXhP4yAi57CmfLCsI1Xll7XFZnmDoIOYvUa2cyAAw9FE0x16LrdCCyTjHFIF/R8QMe\n",
       "vKGSfmGTFXk+1q2NvN+I6n47gMSM9lpqGl09fK/fbhJAV13K+S+UAc/+mv9+fqbKHnTUTPqpDfnG\n",
       "JmBj7u9B6UI3x/PSzrwqyzF3BkJMAN51lIBR5V/iA+rZ+9cXTVvm+pJ+IYZFIxnhAcPId96mp2BN\n",
       "C2BUEg9OsQM7iMc/1g1EkufJGw+wW+Be8UV9/b82rfZmMl7haJcXoTHU9/CyrssQxyO7jRHHUdM/\n",
       "Zan1DVtfRBVNf7EprhUxlNKxN9uwrfqHTwqf/X/sEk2INIDKkMYAhfyePiVWSjEMnjs2AVj1mqj1\n",
       "q1LV3hsNejY402SifWqQeh9DrHWzOWlMoUrJnt6Mq0t9XVKuN3gmM2JZNhPeV+GfyU/A3ITgfw56\n",
       "IMStYjVwBbik1zXDeDos9Of8ntjZDDMVGV7pO4z6w4CIn48HIRLynRKMd1MMMxKEzPfDU3LmTe1g\n",
       "9RpdR84o6xaRx/gvkdjaBcjx6HVUOTqCEfWaO8ObmNxJE9KJgxThjDkr+YuqRMazwGQ5OE/bdJl6\n",
       "4ti0kLIU3hqLhPyx9TOw/ynflyN3OO0FxUpGwoEZxWs0+L6bo6VwOXAqk4Y7PRTZwO9hE1n/Afy1\n",
       "Sd6mWsQigmRLuZPGyDgvy2iPw1prL56ljRI7S/Gyd8QP8DkKxFv5PypzaxJ6aLLHHB6M9En60cBl\n",
       "U1+FdymWUtOYX92Plj/6/klN9b+jfAyCOuxeuRZFNCcG5BpUjNAWpL5dB9lmksWTnkFQTF2zcd6g\n",
       "JbIuWvYzknG2jZUf2Vm2mI30UXGjpU3Qst8JtQhYXkYvyF9ahYd6VRLhYBvYDRG2kpGELWbklxMS\n",
       "hhGNYqOdXYOaEvKQmL/CeLDuEg244ZhaDtusG3FH+pfGrBjaLtWdJsuE4YzjgYol7A30KTcpp0UE\n",
       "LkO6A/IBdvgZyJfB+fuXeyiC1fNadYZVdG/vG3nLX1PJYymRScfRiVUx32P9YiAbJr8DrvBRYRSY\n",
       "tWhgdFWlz1Jjz5e/oVrrdYBXw1qOZ0ocHncvvzLjuthXbZaFf9i/fqS0xBhY7uW0kkpeMMBp/Ajt\n",
       "1hb3LUCu/s/b6wyaQKuyP7KoN+Zml/xC4mvYt0TRBqNp9YCRaSZym7BlE2+uzfF+A38f8bqSGzYb\n",
       "irbkVSYb8jeaU9ecJVv2d9vepDMT2jK/SXPV1dHgIxoPd3cjHYhI7U22Yw1eRtD3mdzt0PVumzx4\n",
       "3C0Wir32jVm51ABFDRjxM60De+047QxMF69P1w/ty6MDbgBvX0p0M3P0jlTeoLXcaxtSLMrrkJiz\n",
       "fNzuAAAHhQAAAjdBmiRsQ//+qZYAAd14wZACugNzdj+iEyGml54jPh9x6eMZYYONUoi020ee3+iM\n",
       "s0md8J7MG1F1Uj10fCBZaNAD36PfJPMos3q18ZRiRqXiXXmOWfV4cjM3R8qBBFqIujdVjIKn1fHe\n",
       "bi50bAeITCILQJ9LhxkV3xV3lVpwf6xR9mPFZKrQu+MX80NZsWAR22TJM3fN+5POkkn92s9Llew2\n",
       "lSFd0flLdlyZjyG5VvZrgjPPgZWh0Igq89Cv8UrJpnf6xuI5qsMOmo4m7MBJ2bH4GUHuYz1W5sPy\n",
       "Ef04KQBcVM37dVQSwcwiIYKqVKoOG7BOY1wpiYmbI+/hPXcXtdmTLfnDf32wl8hFJO7D8S6EjZaR\n",
       "YIMsPGR7764AlVP/N0wG4pqVP+8J7LXBwArKNSWbBTHBmTGNPZ1Q+zaimapTJSgwgTGTORh9/OWG\n",
       "8fmCEaQeyXFClvVIEvMe0u8nJ5C0UipxLgJVl3KGNIid4hSnREay84/TcCh8z+vaVKGXVlzPR71U\n",
       "iLx7bWneYp/nvMYs1vzqzqXW/izdAngwfK8eqvNCEcJ8+BgpfZwfku3o5tci7Pfi35nWFJp0mhzb\n",
       "2G2Kl8BnjmC7LiMiMy5+9jSiJESADln+GzC16Y4tZcVjqnIWjZdVF6ByWQpOowy6gU3Ueo5wKzjb\n",
       "luzIQit6fs4nFV+rtoblDI/MQu/r+Hz6DUiaUCPORdp9/sX+8r1aP5vLIm/828R4CAWEGfljf93z\n",
       "fiRw5UuQCbgAAACAQZ5CeIZ/AAGl+LUAlr3+pH0nb7yTniN8DCBnCb5M3Hxnf6cid6ZCAECMZeb5\n",
       "XmfSYrMchpgiU6MBCZuQ8h6F56KsDXrP1OGSRlorTw60xsgWxuT6H+ZDv9vxCmFfOjuJyHhYLdsl\n",
       "L9IImh0ySKTsjeThh7kOroFPmmf2LQxzgWkAAAB1AZ5hdEK/AAADAArNotZ/QAlqz3/k6kmTgpVu\n",
       "DmcRytUen8BCH55C0ehkVWkKqlrFYHWJ3h/X9yBazIUlsgF1UgRo6sl0Cevna59s5cWD88IMCGtJ\n",
       "cNHYqnw50YuiuiJQmElffjTcnoDIrf+2B5AorkEiXOdMAAAAXgGeY2pCvwAAAwAKyQYxFym7Qt20\n",
       "sWdQ3Vels2ALkcPjQYD+kIECor+wzvyw3eNQroassyiONk0I82bzijSMDQwvIAAOtPWKa3aNzh7w\n",
       "B5S44g8H+MJ5YNQGm1KLHfEAAAH+QZpoSahBaJlMCH///qmWAAADAA7pm7itimCwJsFduaPgrQTP\n",
       "iABg8l7XRjc2NyvqI+IpwCi7Mm0WJItiHut5Yme1QjqzLNwJMmEbWwSsUsbZuoQ/K4MMH5FfJ2xz\n",
       "LR0eXI4ilxsWJhmTuKustpB0M9jI0EPCQav7mP3rWapJT42ch3dDgNpDDarEQR3aB58kfRPY3cvP\n",
       "1jZULeGxxi3aoCaEu2/Pb1+HCm9WUgW/2Hp8+KZybu90bPbjNbF4FA6P0ugKRjGzZQHfCkXxwbmB\n",
       "XjBc3muKrpB5l0CEv7g4N/RJ1tptmTtBzQJ6pfs3hrWu4acD3cx1gKUnyA4bJJYVUn5fIpAxjhDu\n",
       "P/+CbzzcAaKyD9bg9rU7JsLnw0byWeeBdZaSvKazpyyZh6SFAAgZ28LuYlQvIBkas2ZBftLW6jim\n",
       "BGW0Nhy9pyywNFISp+ilLA/k4kQjJJM3xSZ8DSuMdb+FibWKOqHmXXI10Cp9rkwTK1EvMrOTi7J4\n",
       "leXWuqPHq90+Mz+Ytvziv7//rE+AcrXiNAGtUz37mr2UBOP51XNaATUoWSmmSnVgWMJ0QY2fuZ+m\n",
       "fiNga6/8KaNGtO1/pLLOyLiLbT26rM1bE/J4BFJw/7nypAenZpcb7DNf6snyO0HS364EUmToX6c+\n",
       "s0tBUT5Gwyys6OZ1nJgINuwLAAAAmEGehkURLDP/AAADAA3Rsc28/wMZqN6R84F2JoMkYgGZCACA\n",
       "tCMiC/ig88UR2q4MwBNuq1XV4etrF4aNUFATOQlAeN/9JFl/Up4MHlpxcTjdXiyKyhCFpXWLdQQN\n",
       "0VfJqfPvVpzVIquYGvKze1oGm/8t/FOCOyd5fhG6MQbQgJL4lSLGFxuEEWDjz3F7JUiuDHUHH27N\n",
       "SUTBAAAAVQGepXRCvwAAAwAKgPPYk2bOvi2WVO1yfA1aNVpFtZYw2PhHLMjZzIZzoZn26lVnvUjN\n",
       "p8ix/hKemO3FqafxkMJXQ3NKd4tvhZmt7xKO4mrdJvLCtDkAAABeAZ6nakK/AAADABnHVvvwnYpJ\n",
       "5s9H7OL7f8p7qedRMqqVmmAKVBCVjpWmWhjkKHtwjYeNNR/wfaq+d1IASUaYTeuwDGtAHrUb2Sei\n",
       "wo4lgJMejqgocGgTNq6hprXN2AAAAg1BmqxJqEFsmUwIf//+qZYAAAMAEAY55P6FtXZcd4O7WPP+\n",
       "WfnklVPRHQty5bEUAFkkIjFfOqFDj6IZ2Q/X2za0r8JbOVBUKWw0OLEc6Ut+h+MAkbAh2n6yj+Sb\n",
       "Dc4yLxY4bcrz8AiJ8tAyyqOvoxfOmFvYYzufz1FLQPu29Q3wblcCQ7O8DBXsM/Vc1Ll6nERlZ77G\n",
       "N/OORDF7g2M5+hpDS+GfV4L8bZ7IgUiKPRiRAJzWK9wykmWY9zIhPdzAsk+FZJcjq3LbTYtYYIBE\n",
       "VUV+rmDAcZCTR6fMWLen+VstPJUMRNqvxjXkH4prTovXRQ5M1gKHZxJTZ0i5WSjNuvxrsGzs8UPp\n",
       "N8DO+7upM73vgyraq7qil/43N/5t6W0mGIoVm2vQoyfJixORaIbyC3YtZAUYqYoAxdR8KWlvgfLQ\n",
       "WwrsggjICZTlRqxGjNc/YV3ETcyhbAaPLPyGcghWiL3+NfDtPtCh5Bx3RHIrtq+WOYZVocJhxkkn\n",
       "DbHEtNRtxdRDUTfgsSKHTU84tLOCq9ykQxIjCYkd5fk+tqnQOaMZOn5uIPwBYWTXQ7kJ4NnhgX9w\n",
       "LE1VzfiEUjN3lYwgAHbGtTSFpPWmlwk4YX3o8TRGlez9kATV1349U6vZvDLumq6gxY12rQ4pVaP/\n",
       "ujtWS4lWo5TqJaspUQmKwD4L9dXPuvNbMKZPnGCU8vcc9jQAAACgQZ7KRRUsM/8AAAMADoFjz8wL\n",
       "wX2JcIu3u8tXOn8jZ62K4AP3WHVjMuNT7FZwqUWBostxRg6mlMrjxQ3i67llYlBmx5uEr6r2SIxZ\n",
       "KYQQvYe45Bz40YdDQC74l9OCmBhbFw1lJktsNq16Sp9Y4XykVJq+k0isYc60s048ssxCbIY/ci4p\n",
       "xObzzGJWglAKKRBZ+TX6gICGx6BQMhmpFMgIuQAAAFABnul0Qr8AAAMAGwjftj+j/6f0AbfnAtQn\n",
       "KaX3cxQJp5TxTI6EcNw2Xs42knbj0blEo5B+YzAeNwXB/nBn2r2gb3GDDqVLLvoGv/pp4QA8IAAA\n",
       "AEkBnutqQr8AAAMAGwsKfMww17zkSYJEwJUoOAYesDnUzJ+LZS40D4VQmMvvElv1cJPqLYJkWFtQ\n",
       "Gzrl/oPq5eLJVHQQ4f6HGPKgAAAB+0Ga8EmoQWyZTAh///6plgAAAwARH+2oGv1n6HW9Mof6gB/g\n",
       "wt2A8QgbsKCS+RisgkgApaqsGnR3Pl8BuW9oRtFz5/boatWqfW/2bBeeR9UNwqo7gkpDSOlAg0Qr\n",
       "dCKE1pbhMim6gUolAnIiBHPvWXhq1+4fLieJwSzd0Ei13XjTpiFl3lnBUk1uyOzb04D1XXJN1eBo\n",
       "7gPLAgQ+bqxQZv3O3Vi86r4IjzOb+0+QQnywblv22GB3lKsB1XTrkoioahbDBbSJgnSCAjuCce0p\n",
       "UnRR11tkxl8VWEGC2SF40Co13qnz8Qg6AmwCaVxH+GTOHvLhCd58bPXbk8qOWM4reGoNubec8O66\n",
       "WaCW89boOg2YgRmQ/q3ka6zmpAWek3aGqNoHAco/JoNRprhZ08Y22kyzOFF4psk7uEk1pMrkLI8G\n",
       "MIKSLKM5dWdSSmPN1oHj7Sn/Ylgw6GlsMAkU4S0YT/fivrfcwCYdqAYZ+YB6YAjJr4xbhGxEx8o3\n",
       "iDDKXFdD8mamfv9ZaOlaoYZJvVngsjlBzJLGWMvOSUPcHnihUe2HSjUo9fyAfgaSISG5TwQw/dh2\n",
       "an8Wchhg/MFLOftwbDSZRCXzRzzHr2G1e1b4qEorrGtomHFh3YecKO9HwlB+hKR0YCOv3f+nOIli\n",
       "dEasVFp9t1omflR6WZ1VOwAAAJRBnw5FFSwz/wAAAwAltxX3QbnwYBi9BCNKiSDAYnvIlb7u87Cp\n",
       "vgq0JEeCxPfsNgBM33J8Kf+oMTfVdb3Hxf2oRG1Da0SluZKvBq4rlVOq/imjs2nqRIsGUrqched7\n",
       "1NHGPLbZDf0H6Y/G6a5rM8zfUAzNpYE9t80iT9IOX/tNHu+ib92qyCwwrHzt6XIMgdCRfRHhAAAA\n",
       "TwGfLXRCvwAAAwAaWo1Q283MU/7TMhG+4+vGOewom40NIL8q9VR+y+2QYCuFYCs3UylJLIHjImGM\n",
       "RivUgAhEzbmYyBTSeoM+VD2VN3OAIeEAAABPAZ8vakK/AAADAEV1/mqJnFx2ZjE5D9bCQ5KEPp76\n",
       "B00hICNwyx809gv2aTHyyxxUEIWrPSmR7xaA/xDO98f85rg9AlnnFHljx4P5uv0zZQAAAfJBmzRJ\n",
       "qEFsmUwIf//+qZYAAAMALN/VwHvQV5DhJJuyvSjik21gky5uExPKwmXbNTmkNKp9SjdBtWfgffbq\n",
       "ZJyeqLguwmnxmGHDPIcXuDslFwMbuIY3EHnlCM6qPwr275lh5x83aUAIn+jYNWaKmsq2mQfxlBTv\n",
       "+SzG6bVkPPducrxEUIaFKSRPD0KhQs+NZI57+INWYWL26KR4jT0dVgTy73xUZneS5RFR+QsK7wHR\n",
       "gNePOyK6Vlh7DGSbmPWrprbm3IJQ0VIjIbNr9FISThQjJn/3zGQ9FtL6tawouvrtE0gDklRa0U+w\n",
       "lR154y+TS00PHQwUiKp7e45oUY9tJVW5kn4LsbYKYK3t2tVn/S8k4nDDdozRQV12DgZQB/727r7R\n",
       "HDSYfW1rtBQ9f1wjn8RfQvUhgrptbR1NF837h1CbNwKUzk2gL/T/1HWIcwINTm3yZAqktGIElbyW\n",
       "QOIBxoq0VnF5Y2AwuLsw1YBevK92orqiv4zZ4cN2Off1CPs1X2ry78HnKN8rWOOQKnYlRJRenTQR\n",
       "GTON3UsSdnqPIuGxd56+PZ024QA7UX+yjAGjQxT6bv2qS1Lg6DbSn7H9ODDU9A5Wsq4qcn/Vu5/4\n",
       "J6Eop2MCAv2y5WMduucQdK+eFveiUZRcSg04M9E/PEOv/XvRtvgAAACoQZ9SRRUsM/8AAAMAJbr8\n",
       "zLSjBmNnwYx82tcK/CdfPoP+WXfHhTnmOnl0blssryp3zGfvccvpwfNkOIaTGwvaDrSlgs12SNRf\n",
       "PZPqqTzLl96KmrBn2AYKB5vqgWnwAlNmp10jRtYDleN9qHBjzrdJbXKhv+1vD/MRAQvWXsLat1PQ\n",
       "XccZwH25RknS5RskJ5LnHfjKpjf3O8Pd2LYxb47G5f2EGCzuUIgZAAAAVgGfcXRCvwAAAwBElUj8\n",
       "0iGISjNoZ3SiVdzYU2EGs3FAubVABLXJeK2oDM8BIerJGSLRuFXa8gLtLRzaSJZcabwsZobT3rR9\n",
       "3eAHi9ZRt2hfSoKeAJeAAAAAVAGfc2pCvwAAAwBFNFe1+WAEXsxe1LSqTSqmvM0Nx/H1nTU22Sv/\n",
       "J+qK89pJopyV62Kq2cDwy4g3ix29uppC/fdzRgjsNGmX+ZFWEfyRsDANF2AKSAAAAixBm3hJqEFs\n",
       "mUwIf//+qZYAAAMALbuLQGzKAKCGeRPFuoDeX7YJWZh4NCfpDC70C8fSufaFFKa4NKWJ7vi5JZdq\n",
       "qnYS9xnnW/Ci9A5ZfLaUacuXvxa94NxZ/zk7rl69oxWriwQSAOAuijqS+II8UW8F8RZsSfOEUQxM\n",
       "PqxcbEpb6v3DdscmPIQTmzPOYppC+QMu7fn/TXlWh0X7eHI46bdtLAXut8vVQrWJ3ttZJ3s7Q28S\n",
       "nGrQPy5Rh1DTQl0HbyayIFl7el19xBdZrDC80p0/3HGLQdrKHNWPl6ZQMlvv92Z35LxOQOU+hvgN\n",
       "jBOtju59Mw8X6rKefJ4mqRz9J0JIc0/vNQ+51LzfdWFmXKO/xoBFn3lfId8+WuuftF+m+38R4pdK\n",
       "hVqlRKLIzxtERMBwdd1pO+r8lY8nkKHPOWVIAeIKjoxVLqd1aEWDYiMh+Lgc4uwAv2tby74Wiqa0\n",
       "sry0QRYsJx4NYoRU/vWIxkxYJ+Y7W44YL+6NZG4gVb7EuojAP5TsqRx0Pz7CR+rhGFK2UaHv0GAb\n",
       "D96ynQUU6aZx5NoCdwrtlMVQ/NjZ/VN/lCxBSmXV9w+alg/K80AG9OrxmeC5CjJvzTWTHGp9OzV7\n",
       "z3NBcuQneDJyRmGde4ekWJXV+ClkirBmpWg6TEXGGhMegP+NjOcPqjemeOKWiRZDl5Pg2hIWW2/V\n",
       "bMN8xqnG4koxsj4GYf0fccm5HmnxOEAK7ttfAFO+Dj/VDwBNAAAAhkGflkUVLDP/AAADACfQD+kS\n",
       "VLdolwbdLfudKADcB+1Mu4GjItWy4DmO2SkdskDexs29c6imv5JNBEKimsPLL3mJJVrlQkgfK/c8\n",
       "DH2qTa1FY16l/6MEbj+QyF2b/oNIB0AGcQYgH7ZhKvBBF3ZTyGUFq3ipjWzRxpAZz5+v/mQQXz0V\n",
       "TM2qAAAAUgGftXRCvwAAAwBHWcNYhUStWwAZ2S8hc/AGEmptyv1895XjOEhuY5HYyRgUK9usbgtw\n",
       "EWntg5DyNjDxbEI3dIfm/bgsUb8O6cYe/QgVrUjQAYMAAABPAZ+3akK/AAADAEl1yG6jYxsCi/yZ\n",
       "xNIgdCGI1WLYHU19QqBmD8Fo1G94pgvfVtqYtZg4nOj+w+owel+NwYQOVPAxRlLS12vwUWoHx3eZ\n",
       "gQAAAhJBm7xJqEFsmUwIf//+qZYAAAMAd1p8G0q6dRJW++MlYYAOYRuQ2OX6i1J5pX2u/AgK933J\n",
       "NdeaSajBKXZAF/D77fpIx3ZtAFhz/0GW4AIAEcpsrA3PfR5cLqY79pQb4tL7MUcoTsOINpirYU62\n",
       "9N/4Vcw7dWkrhRow0qmjocEsINH7geCA7oYOh+6AJ+uuLN5Wy4piI+ffx+UXsoOqzSDiqNRupXM+\n",
       "PLRVpoerus4hdguvLEP/AGt7SCCdC+aPUTvLoeK6eEmx6m1w+mfocLAkG8TR7e9roJYAuR9fchDx\n",
       "O5UzGBXZ63E+NFZeZycosp44/vY/WS8cUxdUKOnSDcwYaRRSUHdAVOcnCsPZ7bFgNe9Ay6r3zKig\n",
       "fI4znHXPLaomuxlkswkaxfhb7uW7lcrCtPtoqpJWz+C4lBzdaRJTrzM0gf5TbqVhxBzF/KoSt8Z1\n",
       "m4NaolSi5KqtiNDlOvZMa6KBRFdgPxrVVSv65T1mOFp0vrwW9hvN+3S/NfBO1o4RwtkmLxGhhRdM\n",
       "z9ABqDKUB1Br/HZ0Qw/mVbFjrwgqUfudDlkBI1BiS/fOvpyj6QJ7gIJFx0M5DHY1coh4XuGyTI14\n",
       "Vc3udsJXikUS8cO6qIOWqkoDv0AVQL+sD4I1R6ATYSXl7UqTX2omfAS3qzV2B55OrAusMFtvy909\n",
       "8rzb2MR86GjstAjYIbGxSS0BzdDSgAAAAIxBn9pFFSwz/wAAAwBpjXjk1NHuXY1bpaqmuTuY8HfX\n",
       "XpI9uPCvMGjWamg8AWJ9Lv4J2rsG4r6wPgz7RhYOX0AGsrgcRmOsyg2+Wqkr0MOagnrSbkHmPe35\n",
       "qYDjxiOCpFv1OFJ7GO5XNkAXebQZgtm2IM3Y4EKJo4ZPkOYVoab9SbWBTC/oL7QaPf2soQAAAFAB\n",
       "n/l0Qr8AAAMASUtlIhcmLyrrbXlFU4gA3cxxlowhdAAzLqyVzjsrAPkCHSMvC6OgI52nJTjWaSMj\n",
       "O1Q6p4LiArf54EZTyyT/uzMDYkAOaAAAAFYBn/tqQr8AAAMAxDpc5ddTAai55At0Av/9n//cgADt\n",
       "G5awwgNHnX0Bek6N44a954llhXK01Gtg6SJOC/M1AQlpgUCEuNUCWaF4CHNNryBsxm7g5Wmz4QAA\n",
       "AgRBm+BJqEFsmUwIf//+qZYAAAMAfMzdiZke2vAaRaiguLBm9Qql3wMUZ/edOiOrnmag0Le+v195\n",
       "rk87563EiRKWlxosmuwCsTzCbVDZkrtQmtKbkNh/oP0Mn7tXYwxdNko/TMEQpmjY2Y90uigmXlOL\n",
       "Y7AsinrqBwjLPKCrYtRs7Ls0FwOK8631N/d+Evhqu1aY12SGD+K2H16fyIIxfRkaPlgHY2rinGx+\n",
       "9gOPM0jW9Q6mRFMSqZ8WcJpJqpb4Xkap1jEmmo1PcNXMr8pUNTSRwZ0uPRLYbE8tRMkiTBwisjdx\n",
       "l9wZaN+n97h1J1oeTZgefy3wkf81+taFMSfMkz7nG6nkRcr2+7CS4j9VwCvK3tDkBYqEkzGVjwFc\n",
       "Tz4Nj3JNqpfBBBuAxEWXqB7VO5HMBmZkr8bOLdtWWcAczG2ZWvJnrfJJjGzRm7cbeurkUHhKpMqI\n",
       "JAhcuhpN/4bgahhyFNOIGiBetg5gbWkpnZ1fmCbNaTEk8B0eDpSENnSELlfACSqJUWe1JEB4k6lp\n",
       "YkkUaBt62ymAmNTHKNKc5PRQ0gtW34TPsfZ/7TWF850IMlnST/0Jq1owUzLzxgVVE/oQq/lj7ehl\n",
       "eF1BCGZqdLhQbtJz+KIt7M0iS7KGnY7fHwNUzIqhC359l+B7LJjaRR60907epTNN4+L31YJ+8q1Y\n",
       "RBPQjPkAAACEQZ4eRRUsM/8AAAMAa/hDc4HADOM/ZMUgtgzR6m+NQFEK33j+UkNCqz8qLpcWUP2B\n",
       "lmQ4rKEkum9dS0tMKT1SrWFNV+B/o48QZDdv9lj8/BVsC89Kz/CutcXbi/kjGSJeu1IYXIsNxR5H\n",
       "ptiuasVITeoeVl9qOkmElJgmUgqHr0iSJmiAAAAASwGePXRCvwAAAwDJRvcXIaW5Kc0VHmLlv7Hq\n",
       "1FRuJSOmmxd+yysXmmEJ8XsHtOraceFy9IrQiS2H9FhsD4BjUEPZc4H33yaRIdP7gAAAAFQBnj9q\n",
       "Qr8AAAMAySWg1MrAfACNMcKPTTBB0N8gjEfFE0n5q0RybX4REnp2N7CWi1/+HxkqUJ85vBuchaR9\n",
       "0GM9VSHISK2YjANGmeg/FVidBDYTLVcAAAIMQZojSahBbJlMCH///qmWAAADAHzw5fhbvACWS/fh\n",
       "viwQv1sUpYpPvW79QzPtQ40M0b+kXlADPkTpGpn+OvNHreG2glYvHd+nugEEsok+FO7hTTNQO1XY\n",
       "3ORiybtWIrU6E6JswJVcE7bSTeFT66pGQ/psmXbKKkdfl6TsiFHWFytifWG/M+6MQlHyhxC6dOXR\n",
       "eZTgJc5Fq7QhYhFNe7noRzOC/P1stcWUkoqjQdXM6250kkS0D+gPR/jcG7Qlclc8sxa/x6u92mMu\n",
       "S/wNykfjeFuHqzb1ZzbaTdMfQ0z1LZY7IU3YERdUciRnYB3DIgGd9w0bc+wQJSXsjYE9fe8a9zqv\n",
       "ox9sENg4NZchW0iepun3vavV5bOcSuMnznkmQj1RGODvyHOAuMmuljmYf9MP1UkJLe+maw+MhH37\n",
       "P69WN4B2RAEnU+Sa46pzs81jos/o+rw9c2a8uyxsiA8N5GDtvcn2Sz+uEp2sNjwuCso+q0C17S4s\n",
       "GcnZr2hC2H2zX1t2bd7LHoRkOgYN2yXITWHyJYEit2D5OiRDhx9JRI0u/kWaFd1h0wsYqcsmV0tm\n",
       "LMRm59wH58J7OwO3TgboIGtmff+MigSwQh9vGgj7yWyO8ikV9lXvY79P28Ky1MnvN+vRYXLsmU3R\n",
       "kpDSr5SB4pOk6CsFtSHt948Fm0plVcqCk1dzNJsnAQjymhyIuywAAABkQZ5BRRUsL/8AAAMAluKR\n",
       "vhaJRIwmnEpwmvbEzoDclaHf9gC9PYIfIzEZBkVuAIbqKChiMWnaOGTUKwGHY4DKEjnOtUPj4I2p\n",
       "6MrPTO6FiD+MjvEAGjT09f3s/C2upguew/TiNwAAAEwBnmJqQr8AAAMAzjE2HPtsFmx7p6o5+gwe\n",
       "/FYv16X7G5civKIjybYXgM+M/61ew7RAqxGwV9qwsK4qt4cneJQa9V9YfSexoEoIX3iAAAACF0Ga\n",
       "Z0moQWyZTAh///6plgAAAwCAGVfGfNACMUC+3AwDvWocBjUL+KvmAUSxSn2qZQbqXRue2khjppcw\n",
       "2FykA6dUbuHExyc5f/qrQ50pImQWTlmc+5/QEtnIMnqZOxfVxpz1HrzU1NNit3vt2BZcXVMlxgAF\n",
       "Up3JZ25+jQ+j/03sFh+fd3I4obNlDDQJCd4eS5BcK0Z5U6OydvHMmA2S49yicpLdSd+QWMsatM0v\n",
       "qi/6kQgx/+LQM6wmbcFMCcTAYWaL/n/j5FCI5FIh+FpA6d6bCz56fLesCmveYNK6R+PT1n6vmifD\n",
       "NDwODRiJLoiQ4C+LFMpHNnjoNUsd3/fevXZ/TJwYS3itQqIo1axuCl30UlQRWiZRVj8S+zo2VMm9\n",
       "3CCUiEvUnkA4YAks3KmtXnEuS4rZCuQ0WVoseKPYSsMhtNismimTKig31a8q+B8aCYBTonuYM6o7\n",
       "BcoF2zaerOccPHuupa9G3peszT4Hx+pGhVfI4JEHf9wgR5jqwltiOq9bMcZuI4nwFIFtMZOQk9UE\n",
       "1kG/2A1Trtf8EuMHUZxC9kL8rEjrs6ozRhJJ0jTJH54BV9WYQhLDzDNNLTG0inQaKCTVqLvCf2ht\n",
       "jcH7bEtreZ9Q81SYd9YRUruN9jWkHDPKbOMhCMYelMpltoK28oYO60JfOYKskJLeMzFT6mG5qpwq\n",
       "fu1jsaIc/Yxmm54d3bY9gIBqmVkAAACfQZ6FRRUsM/8AAAMBNbium5DFCExzx/K63oWiVrQADks2\n",
       "IS2fYGbT/GfL9uNp5NMnmyru9vPsx0jDv2PP96G1D25UdlP3JqSyIhi9SkdhOG0v7aPqgL9ibCtS\n",
       "pjAgIBFt6MZysHPejsE7m0NUmOscJxBovzLinBCR5wbljg2xXzDLLjRfckgSdWF/6EvULl3vXwnd\n",
       "H8S38JiZxiaMFgXpAAAAXAGepHRCvwAAAwIr4kv1MW0Si3QEld8ip1b+7QDuEySbGBvZcyEaOmRH\n",
       "T6rABn2+sePThRrv8MYoe6lTJEF2qityIWYPNq6ixTCw+FTIWpWIfdoBQdXkoWFmCowRAAAAUgGe\n",
       "pmpCvwAAAwI7rpV2zJG69GUCTW99Rf+jui5sqr+/QIgCM61vCGn8I6OQuXUPSwo9HmMqdBf4Vgmg\n",
       "UdYYy+4DBuLgqz5aRj5XHP75csb3N1MAAAI9QZqrSahBbJlMCH///qmWAAADAWZPYqS9poACavgt\n",
       "x+wTrYRQgkAvLr8xuHe7XPIjiVoaUlIIOuQd74varKb6GT1m34PYGU/yU5Xc2IbeEOW2BR1JgSUO\n",
       "1b3Ox+KfkyOvPk7TiSf00MWTelKZMTuLkKNMvyoA//O3ngSwDoLAOPDbDVRd+Mb+9+A+gB+LVRpZ\n",
       "/5rWBO2VVGFfdk5jJTTrmB9W8Eo1OIqfdAh88EzL4S6KVhM4xodlBL46JARDesb+y5GjIOeUyt/V\n",
       "Mc9AfUnjADy16XErUEh/uep9tYlwlMr+BLKSbtNeQlYqOc/hfy542+hN7M7RYrdqUAYTbGiW2WUa\n",
       "hUAkV6nGZr0KPaAWllKFyH2KhNAtMgiE+mBxkZTwSmPvt7r+n2FcevTLTcdi0o8fWLDhjGHTX424\n",
       "DGV2PUmfP435p4CpHjqEeb/kRHDJMK1nQ2ukxVsf9Fufaz2qo0rXOsPKyPFrk7TVlgEA8pgmZNmw\n",
       "poPX/F/OUFnAIVOD/81Q2kP271wllfD+HD5MNPXiLtxoZa0OQNAMTJbR3sUh8JvNqMRKJFAxI7X8\n",
       "RSMXo8BPyLimdkf2BEPvRFkSHiQRpuRqIXXSN/chXU0TiOgvkTVvpBKAFS+oQDF6Z/30tk9M5Ekn\n",
       "T/W5NfcTTcsTJ+VVrQJavBrdHcAgCAJbGoyzDpCcQmV5l4mh8/PF2ISu8SwjENda7Vb/s477eANS\n",
       "ndft1vypw/QP5Ey12BIEVrxbWeem/PMNbrg4G8UsAAAAskGeyUUVLDP/AAADATWyjmLKts9to4lP\n",
       "JIJJQdgaPfW7hZr6h4kI73SB4AIBeqMmLNkJFJ6WoMHGgp0/NCO3jIZOY9SAcWcd2jgr7LAdX/aE\n",
       "2wgicq3UtFvNE/NcMfPZyV0SkBLxgeTytvH9w5XL2MHqQvd9tDoRfuQWzwSgjCybzNCN5gREpSbI\n",
       "8GKhqzaUz/rPLzM9lSX3Q5Ap/8XjaSk3ljdMeVYkpGl2xeqfD6dSi04AAABUAZ7odEK/AAADAjSq\n",
       "M4Qtn+4EECRkEqnVo810DSl4elY53PG7F3H3lzbAUgxx43FjPKnFvvhs3/85iDGV2e5bpe7bBTBP\n",
       "2l6kube6fBC+tGDTVbuBAAAAVwGe6mpCvwAAAwI7ljJiTssJh5afJV12xiE0h71Gh0xyNL7s6jWq\n",
       "gFQEaOmKyYtMRzzK0bEvQQB6y5AJcjIQoZOPOHKsCoiQp3D6cgAe4g8YuoDek7Pf+AAAAgpBmu9J\n",
       "qEFsmUwIf//+qZYAAAMBbmIHQmZlABdJ/2/27afrch1FTLL6G45GIKB8xoXyVrSOr9u0ionycHhm\n",
       "MJt03g9mmDjZRMISk02mrak9r0voVE0R7rK/O8higMNzYcPplWx4tFfhSfn3XFFq71ulE9AN157v\n",
       "aj0S/x+bNyzvML8mgT99+r81K7Alh5xnjeAjmvSntbKibDi516cAkzJ/et/BveAud8ObCu0qhBk8\n",
       "2sclJlPsbFYjIPRfJ6IaE3F1R9IAWQszD9FMGiigwiqRalI6pwpKM9qiAKSXsLD2u5Zer16g1h0i\n",
       "BdogET/fGluWXJjh2EY67qhyQepNAlVUh3GYs1EiR9IDNRY3oIzvFBBS+Dkk1eynshD3Ups/7x0+\n",
       "d89tQWBYX3VWnWvxOYvQjlCFCDqEStGF/nBvsD/sp+MOwhUGHNljC9TZGkChHkONyVTPOxqTP9ji\n",
       "cjkpU1wOsf6Mhwl3mLplFEQJzL3153K3xwsbH1MsN4vwzly7Xj5W8UE7YfFcZkyE7pEMRZ9fab5i\n",
       "pgmeLt/bA9Oz1X6b1Spokx9ajzwHQegK2Vvj/WTEOULJB2BxpDQm5OkmV+VT+xRkZLBxuyZGqdtA\n",
       "CNU0mnzJP1S+32ZJIYGpFgBiOgyZWNZvZ9GkjA/Ha8ZoOnDC/vZg9fWD0Cv957+IdcGWRRY82pdF\n",
       "YVE5EMAAAACrQZ8NRRUsM/8AAAMBPoIOnmIrBRg+j9FMDhLDMEa0So5UXsyXBLxdBqcz6rt8pBCh\n",
       "Q8zsSjHK3iwCcDv1q12WQoITgan5FoBXQeQkzp86dk0ibH/o/d4JfmLgbCCDRvkfH7fVw3NCf87h\n",
       "WYRfEy1yourlvotU613LCkB+aetycRAVZsT+poJ/sydlLJ8PS/oU2dhn7RMu3fTKf7M6IANVCZC2\n",
       "8mSW/VKSA/RXAAAAWQGfLHRCvwAAAwIzmyt/gWHVC95UaCLf7f+VbzuREQ1D/1qzDpg3dZV6nSMJ\n",
       "J2S4ybIYOGjiQ2tEbqtzKOlEz7LyFdwtddpTo4Qsf+aDeT9cPpZgduS8b/mxAAAAVAGfLmpCvwAA\n",
       "AwJMFFJwXwDp29PHcX0GIYOtIsy+TGeZfSjJIxmo8r3n2GTh2ht9WsSCbqZKcdjqIbW7iY/tRjON\n",
       "MwAm0RcOHCn6ntbsOJEXp56zgQAAAkZBmzNJqEFsmUwIf//+qZYAAAMBdum2iluyvO+9ntpBsgbw\n",
       "NjnFF+rYjwnKv/vNj3SI7HPcQo0vdBg671iD3tNz87XXE4ZKEcKX4txfhL1fx9X28+oA6lZOxlE1\n",
       "4QU4oxIqJ8Nnk2ZvXsWBPncY+ohcwnFGiC7wB+tHW1cQJMmbhbgKFVPjTSvm/t7iey2bYma8yodr\n",
       "SbdQbrB0hQlZQCU1c4blZ8PDy4ujsUMCTrYDhMsMbHAXnHZ+s5xK+qRUKpgFrJBQjIeePG6V4gIK\n",
       "Kbx8pXCuTLdmqJzKJ3KaaeTa/+LClNsjEkJV5Ko6YjBuzGX/ud3VytUr5cjKAFKeMVRoNhxnTACL\n",
       "mU+5A5VvhIeDoxXXlpgJaAp2UhLMi31ijkj2K5FFz2w3nhe34B3gzCPgFVgUG+TTwUXDN8dtb08L\n",
       "04GBbtO0yxiNmgzbIlb1zFyugxEMGHrJ21uM9o+ND/B4UwKyHxsZMXzbLpISuEEvT2uImp7qHk0W\n",
       "C01tyxdnjTLPHDc7R9e9GSNqlk4flehBojo/hiWT0XY0x452AEe3zTS+AnQZhBHR8oPzKsgQ4ps9\n",
       "CnDv5+HsFLtroIL9sN/PHMNsucYXbucX4vZL0q5U0SvP14YwgoA3VuWy5DQnhrzyTMj5EMom9w+A\n",
       "7xIJ4cTwQstLk0lJTyIy8JOaDjnbqbTcTS2Cc45bUOJ18WKpU2PGoXCKuroEibOf5jGfOhejv4wp\n",
       "XwaOj0fx0xRowFpfsjYzNVsQj9hi5ADoluqbzXOEkZ/53CQAAACfQZ9RRRUsM/8AAAMBR4B/RjGH\n",
       "E1EHOlwWcHP1Muot9igflDZykCFkdQAbK6YjorXeI9Yd351zWqvakuG9eGXqjLfD7L3tV6POfBZc\n",
       "SKaa23ULJl1J+oLCqewryHMZPMuisNzUL+2J9ovg/jo6YsdDP47nvgdiyi1ZflGCRWBYqmZnABKv\n",
       "P4wTFwlZmVZBH3SWR4FC8eeexrIXTuWWJJpnAAAAYwGfcHRCvwAAAwJJFhT1mvPFARGAAHYpUCsw\n",
       "9upmseZp+wrn9Cer+vYl3oUlHKbiz2pdQS2XOxZrDXtSi4JtOecr1JA8cVnbUJ370im/+hFWGSN8\n",
       "Vd80BDPVsFZyp2AwCCvQrQAAAGEBn3JqQr8AAAMCW64KNKwLqUiekqZOWXYYedtljppCLrj8yDc5\n",
       "cIWDEdrcP/KOiiwFqVnFTaigHExZ6mjU36Gd08prHjY4kvD5Ccm5oGggbeu4xZXu26fIgf2Di+fm\n",
       "xcgoAAACbEGbd0moQWyZTAh///6plgAAAwPnWX+nKOcwA49rVejodXxXWfZGgOZ6cN7F6wc3/wKK\n",
       "Uz1DAjnE/ix63UCNf/TFZ2ks9pU+y+qOwxbm9MB379Sbi8pA9aCggcHGBMJRluxK9rjtfSlXmUa0\n",
       "4prQSpfkkpYC+N3Ojs7OSi4WnFguVlLC9RqmhYsWclrnf1OjI5bC2/Mb25Uj2w6dD5qwYoA0dLFW\n",
       "KTM1pWq0H/ZSR/3vcwi9GbDq862AovzSTJdF46xA8mQ+f7Y4DZyb/8KwriUH8sNYmNljCUH/dD0f\n",
       "pipBQ49DpJvvZK1asZCJYjcl8ZfTdaW5LAcGc6XOYumjwDpORCMnOrj3klEuNVe60ZeRwfSK1a5r\n",
       "tLhBXTAm4qyAZZ888k5QCAQ615HkXe+phCBPsy2/ZfU52rqG5BRN7tb7r0SgWbRbaeY5oQFPzI2s\n",
       "6YmJJbyMgXOJiTBHX68kkFQTcfVph3FVz3I8BrB9ma+3rrvd77Vm5kGoHrDiR3m6Ae6wK5ZmNsId\n",
       "8ABbuAylp7ygkV/BNpUqUHdCZHjKb5j0hJOOWQWVUgf8b4HqgV0+MwizN6whvdW4YfglaZTc91u9\n",
       "ZZsH3VwiI7tjQ35q1sifcelidtSIvEcz0bnxZyX6rU3usV4dGPXrVcbUwZL4JFhqH2RwW2rpyerN\n",
       "5DeMd1h4DzXpENg+SqhU3awj343TE5LU/SVP8ARjlTTQ8UlC5dtd9bmyNZirPPLWX0czREZ2Ir3b\n",
       "Eiigmwn+DkoA11P6Yk4heANczjgd3kaaUIkeuyHFe/n1LhJp4A0oOTbIbEeH//en8LlHFdO+wrP7\n",
       "AAAAokGflUUVLDP/AAADA4pXtWJCdZ0ZI6kOwnIbPCNKDR/DZPKCVm86afmMfB25E8Zjclq5mqvc\n",
       "wC46+IATGBZuwhekIULzjFigdvnuL6MY0yc2cynKJx/ky0gM93dJpLJIrZs3zVwWLgJZdCluS59g\n",
       "AAADAABcNnWA45ftRs8UPnZ8UJsEfMvJe3GmcwYGi2zUuiqi1+bxhhlO9eKvpbqVDNxz6wAAAFMB\n",
       "n7R0Qr8AAAMCWtOlEYbPvEIVL7w//nwdJTKeD/vXywACHA4Qs3GBTmQCzNDFlXBphMCASCxF3yVv\n",
       "UBKexfB2KEAOXtTsbPKJORvNTQwe4gDUgAAAAGUBn7ZqQr8AAAaZzus2/l+LDbdePvEp12EEnrI2\n",
       "5RZSoF1I7EmYAYSv7+qdQ7Z3Xq0gevCEqZL8i6MPAFvGxR3EGc2IgQ+IAL8V0EUledSele0uxz/t\n",
       "1V/FlPa68VHoTVq3YYB1QQAAAihBm7tJqEFsmUwIf//+qZYAAAQCfqr+F8IAXKP6qF/nqCOZ4DF8\n",
       "8Tlj0OW5A0aRSGwvuYf+S9fiqm6vpR7/r7jXOOJ0Baa723osOQgDjH6CQ/UHwEzxXSxoktf8FMl4\n",
       "zjxerQCcFH9ZWkbsbHenpHhoo6TxpgpUp5G/n4VVqsPFMwVOkDs1XKvk38Crjnto00rZoU6TBNEQ\n",
       "tr+HZd6nLIcYcrTkbpKK0aSeFtbiJDR0W1swH/9PMGVPqAQBvIIE86kDC1r6g2Sa+olMV9uL3se2\n",
       "8mm2VDqzxb3vyw90Hqo877T2SFe2FeXyx8tsxefi93ET9YELYmU6SI8g/6kJHXWj5cFuDldNZntI\n",
       "7R25nQvdrNtAU8yfkirWAGtJitFJ9PKWrT6ZVCjWcFF55JA+/skTV/1VIkZaX1VF0xOr8CE+IHQD\n",
       "ZQPk/KMHyLQTHBUfd7Zl6A5RBRb8RVHEab3/6B9+XSQ/gkw/dIzvlI4yP8mLRDWeaYpQEUTWRvqN\n",
       "tRPfzUNaqFDvhos6odBu++AVhfGGyzvU4feW+6W8vy5QfrzBbNdqSpDxwDgyGBfpZIZTTFhClXJw\n",
       "fD3JuQraXhrczY4g9XSA7DnyzFn3+LbMsSfCEudMwYpcjNaXznSqmasghCiOqexL+9+AoIq7BTSD\n",
       "nukwUKEJirDt7MJKatui918FejwQ8z12otaOxJ2QRVCRz/dFlAytxh5huyaBfbdGESeQVTN28bjh\n",
       "SGEAAACKQZ/ZRRUsM/8AAAMDiZYIJ+MulvLMI30yd6ib1OjAJ1A4pCcHa/1GTY1amzqoUrMBCBdW\n",
       "0nOJwUGl/72Q20Jw+EUROpNZOYNs2pDwbZBJtYJUX4hCaLBGblQJ3mV0+d3DT+7pZI5Vqfcf8bgI\n",
       "nIPWEwmjr4cyvwgmGzpoH5QWy6Ld579wnWkKYAfcAAAAUgGf+HRCvwAABoc7s50snh4Fx4IY88t6\n",
       "Evik3yeW3ogAzwuQDIwfBOWo2/F1vRBlM63LpwsDKAODAGs/O5xe2mwC/kGokbmb8ZUPHP1deQ6s\n",
       "AwMAAABYAZ/6akK/AAAGmB40Toubbnc7aOKhIJOdwE3SbAhtbVttqbkkOA5RHNCTYHIMbJ5tHcmh\n",
       "ZVn9mYe8CdHvpO1L0hvWDunGqUZFro1FIrLZqouc2UDPfaoBZQAAAhdBm/9JqEFsmUwIf//+qZYA\n",
       "AAQgw5m4neAWsiFcErX2eGIFi7AD/Gmk0VMPALUVPFw0nGWPtpbgJYbNgBbvgs0zd1dvQOPX7B/h\n",
       "2ZQbmyPTElgq5x3huTgBw8PHh3MEtJ/DgL/sozgeUyRspuLeDHBoSUZJ4yOxwoViDoAuxDEvLEkk\n",
       "r+nWzAVOXSuD1b2tEISfx8ozIHkfRSuleDXjhi1O7K5xw4KBnlXTAkfHzRPoUDSKhGwIZb0X9CV3\n",
       "G+zO+LnUwv7Tf31obHFvM/nPsHAB1niO1kOiGMfltjPjKOX4J9vciJko37fY9MTI351tXvecDIgN\n",
       "kal1cezgNBR52EUi9S1/vwSe3tmeEWd5dfn598zNjCylwP+Ihz4Cqylit9kS7GhQ8uC8xi7LCv9j\n",
       "n8ogvKuojOj++/CfIxDrzaYgJMFUMHkKDfD80Vv3xnTKyI6diVR2n59WoMZFLPYz4EzE3Nt3t+Ic\n",
       "KH3XB9DNDtAxJYwfaGY9azwIdzqaI1qCwKw7i98VjrOe4I9/griqpxjpH64KmtKltNj6qqgvkSmw\n",
       "ZpeYGyJv+9voqRkCtPRgicPgEqZqIoFn6IHCB0vpnGFCSFf/50wkoKUj0O3lq8qBgNm1HCItWS//\n",
       "tMCrs2NQuuKxnvCjpLKFfmdaBgxAqZPpfu01JLvRT0DBowwqozZ0geybZy2Ufn5g/EDU/NahfDe3\n",
       "O8xj2pVBAAAAmUGeHUUVLDP/AAADA6BXSm3iBPN7jh5qSGnEw+xdTntN2s707kM/eidXzPpVADTR\n",
       "5ywuS7CaNprYhp5wNLjRmUU0MNCQySgSkFHWc0L47yM0HYm+jj1xelP0o127luiilphRthp+o8vV\n",
       "dOy78lvlQzNMq0u9l3RrUJUz2L+DGP1X0ELCfIPbNqJ9BLd/0NmdH/oFI3sVi3zD4QAAAF4Bnjx0\n",
       "Qr8AAAaEH5NDQ2V2m25fyjmR0c8mrm1YcxIYTC9RTbsGoRTAxRh373dyBpjz8j+z2yv3vyx/6tON\n",
       "wJEcoPpbdtyZ7x386AFdYe1UV/fledOhtBrPLv8UsBMwAAAAYQGePmpCvwAABsHLeLEZQyelwEC3\n",
       "vEKy7d4OZwBXwojmSdAexZG5VJHnhcw8jVQLhqmK5JZnfJsOii8NqDD2qzZapbQ0miUEHPBF7syi\n",
       "P9TLr1HD/tML2i2aaECmnQcgJuAAAAIzQZojSahBbJlMCH///qmWAAAEIBqog2tEOX83JKoAGiak\n",
       "BSve4DCsyqTYvhoCC41QI5Lb58yiFsdPHKCq566YZi1z4cX4rLCW1ZCCSXfinlREHjEjXPnr3VoI\n",
       "eVjgTPXbFBQZpPy6hrMpylouCFO2bYwqtI0GJUxwV0zmSjQwunSdtZznZ+9n+2mW0q/PHCGwBQVG\n",
       "0+eSRkQhxTbXTqGAjiX5AGBwyNbfHq82mU7fnYcKG5tlZw/lmAnUUSSc6RBrx33urGcEDRSgUnjG\n",
       "FGFbaM8W1cFTId6WACV7QNnrixy33gi1mDwU2vxCF8dPPFjKr2ZLY2ntODErUQ5gh1Yx2Ae4IDC8\n",
       "W3gopB4fAhA5lG5ya9CfNavL3xW4UMZJvJ+ABX02dpuUhVi1nnWEyX6StEtaqpZTVnRrdWLGk8tR\n",
       "vmpkHISMGDDM+gwg8FtJoMMCRR2NxlwNG7DXULqDmtgPR2sUwsy7vnWaRgm238oWqMcDbl6K4Vlq\n",
       "gjyJcBnsjwPyEfL2xCczIG+2EetB5qqubadW80u4Mjmh/7/SF3p2ObZpbd2YUeBYCh1tyMQ/CN+S\n",
       "DkP6wGgzew5wvVDjBnOau6FR9iJOrSQmOsxhURd4wNcpeWUFde2fzNVL7MKChJNq4nxtMBclMZGD\n",
       "MSRZ5NSglkhw8OaVwnMI7TOn/1/UVzg68oCrlyrkpSAJg/wT0pXmrmDffNqc+ZSN9vlJlsZFw29j\n",
       "JulnVS2/yOsOtjclq1E/a7kAAACoQZ5BRRUsM/8AAAMDnDNP/3v58vgb6MkZpoQetzztJwzhHJUS\n",
       "+i1LLOF6DBlKs7U6CYPD8+TFmQH2ULNNgSuXzZOcBUy2U46uMZG3+uGIbjIgOI0M+QkYHSYOqbkd\n",
       "qWQftz6wWaRSW0zP31fHHHR1Zm0f/qK9JFiiyfut8vmmItE28lo7n06jXiE12BqmzPewhGKFlvQS\n",
       "x+NdnnifLUrVJbheIG40aQEvAAAAXgGeYHRCvwAABsBcOyKLuGAzkAAQ6yG9VVUinpeeoThbuht0\n",
       "Zj4DUw68mRF7srWfqfkB070YkpJ5FtoS/xSk7gfLpK7dL+D4UFTKbgBK3bNVkpy1SZjoRt2vAIIA\n",
       "MqEAAAB3AZ5iakK/AAAGvyrkgofEsp2Co8Q5EfhLbU3gA0ajCG6GlqX3WVgZWKcJu3WxfSARxB8B\n",
       "DU22Ap2xJ3jEF4ZprfG5BlAf4LjSz/5HSYlnKMq3S/qsO1HDpuTwfIz1s3IMAzsYvfy+w1b+7tDR\n",
       "ZM0v4b3twcG69oAAAAIlQZpnSahBbJlMCH///qmWAAAEQMakz+AEtXZVqyaZy3HcF1ujRiwWDO3d\n",
       "qtmURj3zJbuCzXsS2i4zGWfuruJy3dF25h0IplAF8YmosLRFatQbqpMfjzUfbOLKyJctWmyUuN6n\n",
       "ULyrxBCX5/0zTaHxsM3eS7NxuHZYNt8Ksei19RM0oUKFUyiu7p08u+RF2z8kqFGG41gk09dAe8ui\n",
       "NMriWKGxhewQv/rgFvS3zGW6gDOR9hvm7WgWP99LGStoD7Af8lvx2HBIIuJ9iHZFNIFxS9BSIl1O\n",
       "Um+4uPDu7rYKelue1byelnDl3hS27k4EvhmTcPX9GCeaPYdp3WCpM8saeLo6xbWMxgXeyfvKzT5g\n",
       "vB4AkEHYIC0qiAMSwBtVukKFS5tBB5I9lMfraudORoOuPLuT69QskmQ5C7Xl7GR68OwZIie0UIGm\n",
       "QzOts8pVjSwk+YULLSbugbrnkTMKdtW1u9hpiTz+risOOeF7JkbG0tsmTR1JaI854bi9iLZ22qLl\n",
       "PUjGujJrXrPJSxu0LVk42ZG3QB/uuLd0vqMtT17mA+d22ZZ+zOOxaIHhRUWW1TB1vl+xwOT8xb2k\n",
       "P7hbR/VB3a3inYQaQ9ZylqxPwqIb1oWrm3RO2f8lgYZsil5CMP7TPRVN9ZA5yVuynXO8tZ16hvho\n",
       "T+xs8yXO6aUpVO2qvrU1+qcJLMIUxLWkUYWjrsf2b45xURiQubtK70EIaAuuvd9TYBQRAAAAnEGe\n",
       "hUUVLDP/AAAKPAa6QTP2h7eBKbtoAOVktSa6RYAgClmwsOCb1JGmlg9fJD5KlF6WSrYm2PE3uWP7\n",
       "WSTXiv1VrUBHOFQGVgimcGknBfxpQ6tzvymI8F4XrvUE82DLzKY/+nEzyPHJwH0qIxHLIKstgYrY\n",
       "QvGouOVUmZVY4NCAnQcXVgf50Vy5WPwY2oIMZY8XYZoB59kQpEgBnwAAAHYBnqR0Qr8AABLfEmML\n",
       "Z1Cyiy29Iyfs2LNNwFBxxSXabJQJsKrVNRFB0UBIYq/b3xoANdsRjTg0AqfPtwc/G5I9AExJCXah\n",
       "4DLk8hjbx1x9nIIykL5Z1NjWJakBlxySvqqCbEwBbHCvxiAV7ETm3ZGn30UIeQEPAAAAYAGepmpC\n",
       "vwAAEuDMwrBgwRZCGBmAFb2JyohY2q54t9CWtw1dukefajTSmsK1O4AVKlg9wlvkBD0V/kgahUsO\n",
       "asT10oG3S+LsTjUe+sagMa1UOlattMWcYhEWRdPWDtgDAwAAAhFBmqtJqEFsmUwIf//+qZYAAARA\n",
       "djcxyTp5b+IAL2Mv5RKZ0a6pJKn8TwAb1m3p8rfyH1vd0QCJPxqxSinbeEZSaT3ztPUdvmvbFSBt\n",
       "PYTw9msZ02D3ZGu7ExWZmtk3L3LJl+gD08d+/sN5/FmWD3yJnWfNAgpODjHNNey8BAnlzCdmmS3N\n",
       "H8IEhYr9XgYpEiM0ZhX9ZzcMZwr1tAEfnFrWT1fxeazm4oF3VyqmUMQLBG5Kc/ogKghy+gRZTSyv\n",
       "+ixVTPyGHNUk9O4gXYzgSwr5Ox8RnkDAJ7Lh5TTKiccjY6xOmB5hvNoXwu/YOm31ZM96FNnVc72J\n",
       "6jvK/MLTBV+ZfxfYiQLKjuYSiYg5wvnHPgm450dYLBHZAXuGEEIz9k2B8z0GegZOdWNFjU+T0AGV\n",
       "i4ajqyEuR5r16ZB+bqNBXVA3RSpF0Ltxd55LF+SzkEjUEErecLU4d3LWTiAyb21AQWp5hvY7fQzp\n",
       "y9G/2Ya1NAv1ecJE11TlDlMJJsqbuArc9ugotlSgEf6eFbl/Xt0IMkDJNvvc7KfWng83oWQDOyjz\n",
       "AMtdSh2ZKRHjeu2WCLgu8+fwBuoFGq/IDOUZxqGwDK1L0HX2/ekEh8ATeMEkQ16UXNQDOXQTFN7k\n",
       "V5cmT65qXIUDYM5R6i8RhAtg4lq1RWBfCrt926LO9OJ0gMu7/thOq+b+J1h/IScrKW1NGgEPAAAA\n",
       "m0GeyUUVLDP/AAAKOod+N6IueaoDn/H/dAA4wj625B/qAm4CQCmTvFDolMhgtpClYISzuF2Iw8LZ\n",
       "yW9hcTaDdYWGGZnvKi5o+oK1kvsd3awUhU2HL091yhzFSktxtAplq9znpbYwbzDQNWqxkdOhd12/\n",
       "7pQf2bJnUyF4Sfmb/aR0aVn1ztlz7sBz3fNezZH4hymdgLpy1KkmyAMaAAAAZAGe6HRCvwAAE179\n",
       "jREj1wirSrXxj4+EDd6g89eoZ4bVTRPrR/EUs18UXg9ed62bmIvVRK3/23fCiPhUAJQoTnY3rpMm\n",
       "uBGGkcQrdNfdZ8XS9uOZ9/Dm4qu9w/SUT252ao2gHTEAAABdAZ7qakK/AAATWR7h4xSxJXRLgWRE\n",
       "QQY7pDdOXffV8MuhQoayiJCfVqiuiIeGKU+/pGmyJ/mhp+4LpL/BqCEibSw+4ASlPNxfUuDVIi2L\n",
       "UzwKg89kRMHvoisVQCPgAAACBUGa70moQWyZTAh///6plgAABGAaqKXj+cIm8AGwGe1JCMDjWtcP\n",
       "8zmrkL94Ukxf5Fu7H2nNouDGHieU91dJkFu0vMfGqF5SV8xAYNEH9vSguT1MiLClTM84QMMH0wIq\n",
       "DBdR2CdSi00m9vij7Kn04KyXNLlIgERVVsAKfeYrwauHltzo/BavWFs18codj/Com5D39ko4l0xw\n",
       "160j/L9bb46gA93sV2NQLgPNHcLADYMozWql7DILTz68zb+Pe28AsFecnLxDS6Lb6qTXGfK/YRGw\n",
       "9JIhBUh2xx1dfFU279ziN2eyg5dhB5zjh0joIfq8QVZJBxfxQKsXzAMCICgwIYlVrSL81oImrSV0\n",
       "1C/7VT+vaOAxQIulYs9fsE0FzJEwf9B0tpRNf+knlL0AfG6EHTBHb4niXxVU4wos1MtqGPuIK5Pb\n",
       "dBshNS4eEpNR3DqVEDKBjOkPALqHGaz/J+zJ6KUtJBYnZmCME6isS0OZJ51RGI4+xVSlHOVacAnx\n",
       "Bz6CpDthk0jj5M/y+ABfeI6DGkE3CHL+/dhaO3+8l7M+GMl1LUe04/oz7b1uIDteK/1N1c7MKyw9\n",
       "mcxRl76jIfSsJHrf5Js/ShxOR1nxWt3vUkf4nXrqWgNt1apKdBCwzj4OD0XajD6ZFu3zj0UNKHlR\n",
       "uWyCYfYMIjHQSn1NwoXklaFCLmuYyqAAAAChQZ8NRRUsM/8AAArMBPJsFvL/YvZZpU71qU63sIPp\n",
       "6PgA+CjScjTr7D+UBN5w1x+xcAmZpu7P22aG3PwDQpLjK/cGiGkacll0HN9JmrtkLPChWaOayCEm\n",
       "zwCD9iKGUtZD2rp3sGejJriEKohSJtrcfq6m8/Kfzuv6pw7x/H0tgSy0d4Nev27uQ7w9Tz3Ovzbk\n",
       "U2w6+W4kkS9xdG2pIPqAQcEAAABoAZ8sdEK/AAATXxJSIyqGAI+8qBgF4TQUNjyFV76IoPVFfIHK\n",
       "l9I54RKMOLIZArYFddtn0SgsyP+iR/VG4v4jVk6V+EGrTR8UfSFUtOT4LTpj9M0mKK3HG3xYLa2K\n",
       "98YC5GTJLqWAOWEAAABgAZ8uakK/AAAT6vjoqs8aAy9jwf65Uju2yUCoABDY4jBa+VyiXnztm3Hr\n",
       "i1rIsS37zpUqfuSDD1T3FWABgWis7e4vPewFVws2612i10uLxer+5jyJE383HGHHVKZR7AGBAAAB\n",
       "eEGbMkmoQWyZTAh///6plgAABGAX8B3cJrvIxABewcXyes0VanKzB8T0M3Rad88YrAhNXjuDj/Kx\n",
       "u9VXr1CTs0kGlhzFont1JzLG1FQzIUrhB2zXYmCO3/Uik+555dVo+B40uXemqL4IS8vcIrkxH9VY\n",
       "HwLHlKpWf7QphkxSEQU7MFA+AmtCkOILYVxZEIiyUcDxloB8HGaHCEGPCmgfpl+l+r9FKjIJtgCP\n",
       "7C1ciGPwY/BQqvIIgh7SnJg2FtrzT71IEWU2k3mZsyt+A+3Q6J46XCvE66LPuVcW+G8OOPNQ9Ynb\n",
       "80XZDZMjzWPJjYH7zNRnls5ikNXOR7LruuwPcGg+OMJSRuFVf84ieNhEu1+AwoywhZNlqQjsSffY\n",
       "afRn/DLsrTqeA3T494vLOTHmtQeJ3HC5AjUVZIgKgqHjSZjTDG6HBkNUHx4m5xg9WXNVmsO1n7xe\n",
       "eEozeE+o62EkxBD5wb9a24MLyL32mEXuGZ/JQH+Z/DhRwqgAAAB5QZ9QRRUsL/8AAA6ERNFhzbqS\n",
       "q/WjIctNTlClmvTCYiv4FrYg/hVoD2wihTCNk/fQXiAmUD+ddEl50yKVlEDnyUbxmKroVqciDpAV\n",
       "ch7fN5l5ERfVwfMjoShio8aFXlpR5dnKHhlCf0OjwWEpJZFplO1ZQc6TdIBnwAAAAE8Bn3FqQr8A\n",
       "ABPq9y/cPXaHwfewPnPAxcvCovS/aq+YyB5bUczYUUULKIOqkC4J5VC1eJh7qKLxLGXU7AbRz8WH\n",
       "3u7E3iHvcGdKTmtUcA1JAAABsEGbdkmoQWyZTAh///6plgAABIAaqMVAgqjAA6OaErsD7BDAFgfX\n",
       "7D9OOyuqKLrDrAbj4tPY7Q/eGZcd5m87cj99NJmCWMiBIaO62CEb3s4dmn3NRTRb1C13v6k9alXY\n",
       "xcEcdZ59yvF2JuQibR5eexeBMJ4rLJDIiprjSRvkgAGXx4+HRDPKPLYpP5z9ZOhDSFofCictFksh\n",
       "n2FcZCbd2rewXPe1wqOa6N2zB0/B/4B4ayQCwRuZvAznGp78EJsqTTC1SvcDpW+SOkClIwXntGic\n",
       "WJjKttat8ZKQQ3wIlCRqEJl14j26wdI/RcA3ZTlybuJS9mFgL9F/83E3QTFb8tfwUB54DCCJDsQp\n",
       "uq8rQ3D+dTSXmGgI3rN+XzWv1aHQCxAkIXB+bcbVGAx71Ufu222w6sOt1b8MSlN+NccQJXN+CT4X\n",
       "Flxp7PEQ2PBKMOCYAsNBt1fwAHSsiJzm2d6XKxe+gGrxNSNCaWDxKwDDzy99XcXoCFCrWOSOdIvC\n",
       "slCD4zSb/KVPpI++IyVqKRIwHsLuHtYuoTi0BU9+39KRS92ctruOxc5RWpNMFNyXOAAz4AAAAMpB\n",
       "n5RFFSwz/wAACxQFSw9zIa18T7Xq2IAAsHLKb9skVVAEWRHx5sdnEQ5DLwg7w/KKgP0/DkymoV/Y\n",
       "lnEScO0HRr5lr1VOJTYhy0jKvdgmOuRZ6YZnHOtFCIxSEBgMccMzpP1ZV372ddjrYp6hfiznyq+7\n",
       "uVekEsjhblBeW6tynhY34ZzgyzKtCv0Jj9GKFe9XViOitsIbfe59aR/sIltMpM78nwA+nJXJJBPL\n",
       "yIsv0j6mJpJQh9B2ji95usSwJFprzYM8W5SVdAI2AAAAXgGfs3RCvwAAE6syOaPIrSTwM/JFMuH2\n",
       "pyyASX5dP7sKNppcSiheXZkkx3lhg19+CHYI0HE7UWqPlA7gqfKvakrOCX9VoAQV1fZTMDCqqbF2\n",
       "L9g6//Uz6Jn3tf5AQ8EAAAByAZ+1akK/AAAUetxTFRxt9RVGQANpoO3b6xUWeKhXd3wcIhRWkPdZ\n",
       "PiUi5eAKpegyvl0Fysr2KjVjfR5Vh+SCh845DrFLUTee2Z4YRVdNlbNflGMFhm5I8sgVHLc6IuuF\n",
       "c/0zoTaJRKXcJXuDuXN+ANSAAAABW0GbukmoQWyZTAh///6plgAADGe6U/649TPZi6lHQCACg2se\n",
       "aYnnb8lTK+J1Q8jiRDvz3V+YpTYvE5z8sN6QajN7BnBhUb6CFwLUe1gMTD3gl3XXt2zuYDJGwJR5\n",
       "0ODouWsbby7JvZGEieeYfq3YE/4NALmpZ/Ct/p+rBIBdeoCusurF4jeYpjOLipKfaHvFF4KGEpOF\n",
       "49Av4owrjp+jpScS9aQJgj59undJ+SO0DIJ6WMUH/14eqonNGzgv/ejqkj7NuJCK3SZYfR6/umPA\n",
       "woKT7Yuu4SaL8HJXqvk2JdiPpe/jaMZQfjYps7qQ9iqM58Xa0fiICi6NXHtcteaVe2O/apKoqtZg\n",
       "whttYa2R3IixksFAkuDYZ1lo1ssJi3ev7hg3SQ69dFPV3wOKhdf/aUv5exnfCdaNafIpyBROO1kU\n",
       "BwKnSZYwiT+/+v6nyrV2xUbEUp+GGrpX4CLhAAAAo0Gf2EUVLDP/AAALFTIjeleACJo1sSFxIhAB\n",
       "2Z6/oTAtF/7d1F7dncY70RA9J8fWmKd7n2qt8vo2DBE8LRuZgPsreyVgsjoXVuorsD9xpABBEXK7\n",
       "oK5Aw90pTDj0mMFNDBtunodXNlRa666nlRONnlIkgiGOxzby/DjJD5PPKXkjYAzBmSlt6H0xBG4c\n",
       "bmkBPZjLSY035NbzKcW4GOLpw9DAMWEAAABvAZ/3dEK/AAAUOzAnQaZuYUOCtGAB1wNYPLHOtzyA\n",
       "xSNprEr670bttOl26M8iHNYNfoEcyTreGLETjS4eGAIaO3gDxHwibD5VktGgCAuab8c4B3Mx803t\n",
       "jFFgh/b3r0HiH89RARJhjLgSD+vyIC7gAAAAUAGf+WpCvwAAFDswJ0GmjbHfMoLy4Oqn3dbGu457\n",
       "y5epznackoj+0oAEP0o9tGrJFTmcFuyPtIF7cHU8zaslThEwk6rvXh6vZRSmihwKICphAAAB+EGb\n",
       "/kmoQWyZTAh///6plgAABKBDK+u+XQRvgA2k+Svj7A4YjAG7nNjE4HwHT3ecgkF6hPO1KenSY1Le\n",
       "OZucge2sZXhfUEoi0ttdMiDZ/UFpmOs088212sBtyfqR6e40daAebaOSm8kHf4++HaO54ToDiIUA\n",
       "ISPi8ZLsYoM92B8+ufVlGR+fM/5W0Wr7h90cQUcGkb4ThZh+PPzeKx3LoSkLtwj5pbLynyQRsnAH\n",
       "zq5tHCJid1NeFVFoaq7nJaMFHIVoh1jUKYIuQf9fvzuLlU1HXKuR3ZtmGiK51+wLLVLhe3Jyr3wb\n",
       "mDSqopABC8HClsFaxj1Z7jxOKJTxlg65qxQjUsuLZwdWDFyD42OahRF3nJFU5dQGHxgD/o8B2ZKp\n",
       "hyCnqGkW9c7Mz/INtBvXON/0PKoK4JWHaTR2/tn287Z5ongZvEfrmokaYqJ2rNzSm5mLTB7KR+Se\n",
       "BqCLSL+2gUPqwZi9iRzGHocle2QBU3r81oI8ZoFVuxt7WWNiN96lpPk5qW7+3MhtpmKxqaJl0tX9\n",
       "7sxqypvAttyQYm82qeEPxvg0jSdvgMneKxF34dI98sO/jgKHQHoUGNP+esqZBxfqt2RqbUnfNrhU\n",
       "GU1RWYgMLiqGlqQz3shqF8TMc60CTf++nuxdWB9rEiJX+3zEuS7u0kJpy3ADAgAAAKNBnhxFFSwz\n",
       "/wAACvUo9nKwakyHV1xAUvQAbTV1gk58gonWEbK3hlQwYUnZa6p+8lHnTxySCzUlTPWNQ3sg/MP1\n",
       "GJvcW0y2SrQUixUHra9IN0pF1sC61tjeHvO/S68hM4/fxUOmVjK1rnKLlUsNQFyPb4zDXL4yD8nT\n",
       "jgE6FZnVLJsj1tOfY/JX5U+yl9ZktJFhY2E/MtMuiQ9+Kgz0NNmdqgEXAAAAZQGeO3RCvwAAFQxY\n",
       "Hve0XwL5So48ARTn/ObXPdxtjzdlQUxNF+1LGeQ+dqfjRa7/Gfr026i5DCORNproy1exQfuaghMS\n",
       "B+Gk2979Wm+WP+Ym5AhzB/aYrFq+RzAcExJostc74CRhAAAAagGePWpCvwAAFQZaZYTT43UiW1be\n",
       "gA2gANBWnWiBsl378/c7gVgsZrL2Ppe8vZ3Eja15rWQATGanl3tciBDGtj6j11HZBs6ylljyJlIX\n",
       "qd+Kec0gN8OWhBOZPhWI2/CnjK2L8+ZXXDWoBgQAAAHZQZohSahBbJlMCH///qmWAAAEokI3US06\n",
       "qMQAXxHRTMitM1M5wv1yWETBhVbZ9OTmXJWuXZh4QcupyktI5LVVU4l7MpV3ZEy2fEAocqfciHYm\n",
       "SjVhvCADF4yFBJ7XhYj7o7E++QJO1nxl3h1n6dB/+pBTzUbxuoa3vQePxPIPcWAoaB41/1DKfZzX\n",
       "bzLhc3qRFmz992SJQi6QuCX1N1tQLVrdrZpdnLq9s3uXTTswEU9URfhn7/zRyTQcEC+oHhfYTpIN\n",
       "wgFY39yMaqei134J5Ba/8m3jDs72HlYubguG5hNj9mweX7E9nCiQ5VRk2wSLtddLQaronPpHHvH4\n",
       "nvnJF/VoJcMsTeeItEdkDJmlgtoVtgEbO+R8NVwk5nangU5BgBnNv9JozLLwzyOT6V+/2U41sAEg\n",
       "rIMsd7kGhHBXis+GI7jc9ddNwIlk5vCRa0+X805vT1mXvGYhFCy0sJ0CcWYFb1slE6ZMn3Fk4OHG\n",
       "0JvlCEDO8Dqt9KAn9JtprsMDeMewVeCFt0u0NCe0a4ATckn6q5xxxCgAY44LoSaGs0Hvg1rKPwoX\n",
       "Of79INki0f1Rn5CCUCeOVr7eRoOYc/v8RGbsBtu6fUM+U1vN5POz5WdZZHKVdjWACPgAAAB3QZ5f\n",
       "RRUsL/8AAA6zXQCY1tSwQI4YAOzx1qbGIaRp8BG4bZqC8OUuivVpumNDHrLZzs4Njlkt+Uo+rRaX\n",
       "L8p6H7vdLBBxaANKU2zbSBF+Nhz2i89octQbKhfi9NSgiyUAedH/MVmxOufnwUjDD5wQZiLioyAA\n",
       "IuEAAABwAZ5gakK/AAAVDkLBg2w4L3Juvgi4H/9VPSXoz6AEKLT/weFp0S2wBkyN8t8GyV3arczz\n",
       "2keyoxs5YIFMoM7BfOtDJd0Dm7vX6JZJCRTDtwH0iIXYHFJWIZ/jsPQRbPBtTEfHJwofUnGHiPQQ\n",
       "rAAk4AAAAjpBmmVJqEFsmUwIf//+qZYAAATAxpQJeHABtGvaS1I+tKhDuxgZt4RTWXH9wu23ns5E\n",
       "1nNmbK+LmmeHg/r6Axw0dm7rYjNFU12i009zZUcSSPm4O/DegAlY6y3tyg3vCihDz5e4dPW0/DCX\n",
       "7kg69OwO4OSPTpSEs3/C3Lur6XMZ6zz2C2SV0dedJVGzCvKkhe3pOWC69siN+AoXVHF9EtXgHeS0\n",
       "iOAzxe9uY9MsQcVKoSTeqgGlQ2PfFBWcTF8AxciHnsUo+Ra5qUSNzLfyIyUXilwgNBjDh9xrGRdz\n",
       "23A+QuK0mxXkYm5av3pB24+NMh7WGlynaFwi+lglvt9ISobS/XreAIlaHG5z923aNAmb3wLhxTAl\n",
       "aS8g1JPebiJxxGov7aMLVoETmrvcL1IPuVLMVeM8/cQ+M0DmCuzYgnaJAxySld196KRemFFQN0no\n",
       "pews+Dku6E8yqkF3VrNwXf+yCeoDrxijobVSutcsPsaaPogRui2KRnRfsgkcSv7kOprsGaNZ2lD/\n",
       "nIqEKHuNgWSlm8SdRoyOhpqHzb1Iv2VEcKeJxYy+nNislhLIsnLelN0/lra1A5Mh4xtYvkbQeN1c\n",
       "i/Gvtr2jQCX3YhrYc2Ft/LpDr9bpQnSaWK/K+ojCotYQfIawwsUH4pBQnRGPtSS/130qA7RVNKST\n",
       "uVOI5ZsSPLB8ux0mZTZVLRWZkJtaBKwmYcn2eE5caYKO4XxTqj5U146s1GCgNrQ/8zofCIvrMvzO\n",
       "2DHpEh0Dr/EAAACvQZ6DRRUsM/8AAAtcq8S67ToYHEZlqPPMAGe6ibu48PLaIaX4+GFYaHFIaEI2\n",
       "jE7tAxBhZ3/FK3HMIviE+8fSTHF8ILLOLobb8IPByQ1p73Igf3INivuFlahYeUKe4TfAopHyQjJx\n",
       "vMB0/xVzqpwRc5L4/C2+CoKrzn/JhYjzzezR4XLOKca6GyJoxZCtoKcUOBExV7hb2PZfXaVoM45B\n",
       "dtFW/LeA41l+VfmrCOT5egAAAFABnqJ0Qr8AABQ7MaEBhntbeaqpVbvH/bszeZVhD7EyA+iYJY0y\n",
       "L+NRLCh4gDFE2AAmYb1hQJquv9e9BSiS8fI0+fPwspkTFzG0084AI7pC4QAAAF8BnqRqQr8AABQ7\n",
       "MjtGDQO8GgA+sZ2Mc7FxtBPwa1ZOShYt4UhjSV+0JRqtFXpwXKqxkdGOMAlTYscxj6yARPxKaRr6\n",
       "J/wbQcM0HqGJLl8IB+De4bDJCBQLkfACw7ybgQAAAjlBmqlJqEFsmUwIf//+qZYAAAy3ulQQAaxO\n",
       "PiEAIUXZWtU3AH/Xo+vDVbRcCePbkE/2zEE2LHHiNXiW7ptvyAyKzHv5H2xpBhgolmlL9spizkpV\n",
       "ia4Ov1QIDosJ7esr/wVHKO6pkAI9+iyZrSVr668vdqOzUOi0NcceG9nE5hJMBrU1F82MmDFj05T0\n",
       "XFfLmQKEcbFLjDQo9tVDnoV3rpYhrBllwCqVXDTAhTZKkpKymQAIlaSCY87hJYWWi237zk1CW0c7\n",
       "YNil+0a9TdiRpDYvsfDt+F4vBh7T3Pvbalp0boFBriunirSep4ojzhP5wYEPk3W4vmNKc9yhht46\n",
       "9GzYt97Me0WpdRfqznbM58jtn1/W8Y82rfMMTkrFxcBH6qk0ni6HuZ9psDanfKkBbH6iLcMMsy0N\n",
       "HEzAN43y1hSXmFu8KVw4FVRPoUzk4a32K77AeKuVzMRuEDrbQBKeWhbTULlI7yx2H7ukwFcEwy64\n",
       "K49IVb9LUBmy38Tqpb/4jmvTcCUzdNrfp7iRquxSOVElo4rx8I4xVmuxa7mevgtLaPZlZj2jzWkN\n",
       "VAV12iqdOva7+RtC3CCJ8MYR9xafck5T1K5RUg8Yfwz7joknuU1mmhdFhkJXBu+DRYB6jED1qN/R\n",
       "tffHYlPqwh1t6Y7Jdu7cfS0U+/R/+iJB26+rp8EM9DF/4xuMQ6i9YxQ+a1//8r5voIRiee7dhxaW\n",
       "/RqqxCtzMk0mBCP1MdS2/0ArLeV0N34wc4IY8tAgRwAAANFBnsdFFSwz/wAACz0prg4EOPG0O3QU\n",
       "prqJbAAb08Pq0F3cu06rVdzho3m9rG0BDlrJaaaMJKts2dwZUKWkVOIdjVI0TYV5Qi5McSHrXips\n",
       "/Zc0t7ukWJuKNrNQAAcyRG6QBeU6wa3GKZhW6Cf42vxuP/3EpsrOKyB3g2ctUHR3kTaT5U5Z+AzG\n",
       "fhLIihhmYGEte2wfuu0TMAxdPSQVnIZMFW4D1KO4lrednD37PiTxPZxWlPlAC203CbWCt5Gf8Ykh\n",
       "LYCnc5IXgSYGzjGdBbsCdwAAAE8BnuZ0Qr8AABR0w10aFa8t2neFbKUvHizVUgj9fi7y2Sv6cYJk\n",
       "OBO3Kj1UMkVhCKG1SRPuzHpg29e9jgbFoO/AyKR7FkWmUX3GcAPMMDegAAAAYQGe6GpCvwAAFQr/\n",
       "h3lpMlbXJtFBA1Spom134YGn4ANTXK8I5LoVQ+Sf6oZOvyub/qvPSriVO275HfT9AtTTHZ/+lfuq\n",
       "RDkhMxV4+YL2P4JNw8Jsx41pkZ1n+KtHgG6mymAAAAJAQZrtSahBbJlMCH///qmWAAAE4kNEwnpU\n",
       "1KUAE7AzxcEXSxm2qCFjICqDr+z293RlXBvJhdoO+f6aiVq4+HFTbvZYvwa+gPDBDOMWl5am+8M2\n",
       "TcbECF/hFJ6PwH3kJdYThSNvXBlKizrSj1PKGzLRIoZTxXr0dAqyXbIBCr8KpLEi1ucd5EAVHwfO\n",
       "uM/fzFZZnRV2ckx7ynBsJf8nAowH2f7jIhCCF4iHWvkiIiJiB4gqlYoiLkV0J06KG5w2uy3zwJLy\n",
       "2DxGWydPFd/jM5IRij/ybqyiJrnn66wH+UbqtdRHyP8sYM7cvU5UIqC6zz+uQxdxMZal+eNZAj/5\n",
       "LvKPMlmRE4G0ZCWIkf1+l+SHC3D7h4k1Kl09mPKp+vd1B2BmhqP0NDRrkvLqg6usnmVzJh2J7nB7\n",
       "mFDab61BJr4SOWSuhB31681aAwBlZotjMktKNdCo/CJp9ShOX2sU3/4nKEG8D/2jUyQtNIBPExaB\n",
       "5zfX7flxS06s+uOuG2pUSFVYaKiusE1h9N7uwSEfGx44/KD5ApXRriQ83xg4rEk61v/7EUgLg2LO\n",
       "BZp3z2vrWX88YXIjf/6SKBnXUl4rkQgy3DYEAvHMZcuRXsKAC0iMzDG8RheqGUyKrK6akSdMbz7o\n",
       "dCIS1waIDmyUkMLWPbOMl3saYENhMIL+tN+ehX2147bXuncfnpkNdFluRXph2K/GbFGnN3hWFcAg\n",
       "YNYP3Yj85iMktamDIjrGslPAYfFrSkSPVvm1hNUmOKrFyORDQcIvAAAAmEGfC0UVLDP/AAALXTU8\n",
       "Ydh06/0AD40J82SZOk1U6DT8Ul7fhLFWVsFmv+R6S/OIsuQzDvnU2HiLJMKj+8UrLQJnR79cmjUT\n",
       "om7tygnKjDLN65PXAJjisT1sxo889VnvRQmy+CCurotXcRcajPiVRkmK8MyQ0dUCNRssaK9hD5hD\n",
       "T/08v0pHliCuelZ+Xbhe7fk0950gANSAAAAAXQGfKnRCvwAAFMsyO3HcpacAHgSHjV0vaLFUyxPX\n",
       "NwyidNJAkymkhyD3DQeN5IJlS4jTvuTjtkGlYhAyjqP6/51Q+DoheLwLs5DmKdXwepRJF/L+6Sxz\n",
       "XwntgABxwAAAAGMBnyxqQr8AABTBwrqRAddpRr1lAdQ7AtzZAs7wLoLLDWw9OgqR//wZscmnodfH\n",
       "hg5gA8REa6Gk+0WoXcTutiais2iE7MwmXKdvF02ekU6D3Fnj5/iQSXhQ/lFX3GyUYMkAAwMAAAJV\n",
       "QZsxSahBbJlMCH///qmWAAAFA5zZq7GVxh5gX70IAbncQi1piZMr9esF1A7OxGuHYd9F1PsKoSSA\n",
       "BSm3YfEEgLCHabxy34vqD50i02zCr7cHufC0RYbegpo0rvhkK0Xpb5TL3iwPrDhXNoeNzYeA5uFB\n",
       "8ZhF1ZzWVc2gJXZ8XyrA3LVUdFdwMjZEyv8ZxlUw2uk4il1jOsqPtmMIX2lw+/tE2q0q9/Rg1mdY\n",
       "+B6uDewC6xstlY69b6SI86K7836eLBefzn0ULqsAWE5szdg+Oqpig0TUxQKf6oj26Reerjw8t7Rp\n",
       "5lrJa7bxnvO9MAEW9pkoFLEonqiTdrpC42xnLtkkHmqmULssrPlXphGG29ddkPVK3h7QcHCUEGL2\n",
       "GpkqCAt5oOa/SMDEQnE1YaHL7nLSqJHINQAG4ZU8Yg9u57ll7XY/JxYHxRPJOI9TtEEjAz3ODFDH\n",
       "Z6qWHQUGdPEyMULnwRYfPbiptF5qfHESQQGrJBrJn25idN1g/PK0dw8q9TdGWjb6wtM9FAzebAzH\n",
       "/6+RQ8S/Bzv7oMhBO3Pq0MuOQE07PM+0KooUGraZ0JA3GkEGdIZNjBQIsmXGn0JWXN4ZcbcoWBeH\n",
       "xVzjOh79Rb1YcO/VwtXto0lSzMnS1V6s/Wyos2cImyr286SF1bJT9Ea33Bz6P0e2AL9WkhrE/DIc\n",
       "O1gOI1opn04qSJEMc+kLfW8onYpRXzbqE2BnEBXov4BvsOJGX/FHfNMRlr9TPPa9vXILk9Whu//C\n",
       "zLNkEHiFvc/EVL/3agsGfNr4+ooTY58jmMXBAAAAyUGfT0UVLDP/AAAEVuGpadOe2bGsF0mZ/tfX\n",
       "NaAJpPQAbvk/JJrg7VGg4A0askS/6yBtjQg2KVX8xkGANfhYrck/Un8Wi3JbN1d07ZNFsq3GUjoc\n",
       "SnPYYlubbXcsei9mE/DfI3V9P8Fkuc3oVCo9ll/iQWA1tJzQUup713Baufd+GHs+g1BtuUYZ1U8o\n",
       "PV17jaWRmsPsp6mgrb6jcW01fXA65nbL4Rja/QfVrjLU6En5/bL/q6bXqJi1snClShh4HtXONpqC\n",
       "WTll9wAAAFsBn250Qr8AAAfA3MGIYhoD9R/WErZq3WgPcwUeU2Wi0st++QuJknyKlCJFHP5oZBJ0\n",
       "gxYViz/ohKip7u2rL1qYeUMHQD2NYfMAIfy+1R3gN1EOttCrgAGbkCLpAAAAXAGfcGpCvwAAB8KP\n",
       "+dOIhBv/3yDBaZmMMCR5YP07OQHwAeIl8tNu2klqxKk/qUE8OqRO8GYQ1rbZ5T6RnpxLhm/DJvwr\n",
       "lOlrLxz+4+pnD9B/JrqP4NfQD96uf6+AAAACT0GbdUmoQWyZTAh///6plgAABQN8bsSgoPxwN4Nf\n",
       "Z+hKX7SFu24oeJMRWzAcuLiQRIfo2Cqlld03yWpaAq4uBpB+LiPD7vxmvBIkA8gmTGXLqDfqJZi+\n",
       "5qCA5HiAxqXblzFBkPDHX+sFspPahe+W4wz8tuSirQXAfQmV2MNyGGLIKsDvbuJgdQt1m1wB6Z8n\n",
       "ZzSxqSD3g8f9rhwjt3kmWkCOkR5lgmVtNHVtoaUYcUeJJ5BR2h/NfbC1++qqVZb85GxsE501lzeU\n",
       "sqjt0GBkClO+8SDleBKrz4UrRu3BtWL9JtOhigW+UlpZD2w9Vg9Y0ThloBOCR8CeEB0+LirB19Y7\n",
       "bN7//+OJfFVSJ/YCFpmunI9g9L1IHBpmoKhytW443MXHjTYa7LSN8fk6nrmYfcl/ypl/oYlkHPep\n",
       "UPqJMHmrzh/JUE9FDzEtV+z0dqcj54uccXC2CUvvAD01ALtNyeJGvQdpZ9HztZZQ+eUPR2ODvtlw\n",
       "58TeSVpIENs1IQsaW2YI/I8M0YLSD0sL30pTLONsekI7SjIaWLR9sFnvcw4NE2vTtuK9p3Wpr+tk\n",
       "MZvNyc9m+Gg7iZxwoyW1JreB0xKPG+1OS0b/hMyp7nI3SrHdAJulav9tJAlYaZkIY0BTWKztJ9do\n",
       "acJ0gNV0DB9Hz4w9dWXmzMgusvdOrW+1l0C/2DOQ3Oolf3Qv1I+So114Pn+Nn/eaO2Ui7g6Err8L\n",
       "jHqH4TDrNN+Kwb2jvrFne/5uvtPtmg8wE7V9Vmc5cVgfgaBEJVj0zogZrXIX4J7ROQAAANVBn5NF\n",
       "FSwz/wAABFddO8b3foDfqrMrcJRxpmExYWeudqluBAQxmfkA03nkjukR9yDnp+YnUz0xR2hl6L9+\n",
       "2FRJtnHgBCCUhidpSR7ogIOI/WYTXqXt4pHDkYgOwDw+PX/LF2dEubQs615BupSPeLRyGh0wUw1F\n",
       "xjDYY8We9dJBnLugWK8vZ7+0QJzWH19cBBH+5UK8tqIAAAMAKFnd6cgeUDnKE2ezdFg3L+3zZDzo\n",
       "xppYc60VkSr4tPfs/ZOHlM1Pghg9W23RrU8mXzV4c/kA14NHCQ8AAABYAZ+ydEK/AAAHwo8f6p/d\n",
       "Vy01H52ex58YQ5Y+X+VgE16ECWii/hHDqbkaWd9BvYsDLsWT6b/uda3xENzs0dJ8Ztnh8kv9+/Yb\n",
       "i5tMMpqAEs54oBJRF47hgAAAAFQBn7RqQr8AAAfy1ybvh8mZkf/WICDk+5Uo1MOr3WXB/GikWcvI\n",
       "XRUh4N5/3must7uABCj0e6eIyZATSC/uP0LJDPawN0wknomZVhtaSQragBALu/kAAAIkQZu5SahB\n",
       "bJlMCH///qmWAAAFA3JqNWjQAXVamn81rohLwTO3rvou8snEk8apdU3eEHGT92xWj8NZq7RYpExo\n",
       "6nJPIaJwI2KgI9Ujb9DyPPRAE+z/5g+PV3chFw4sXRJGnuSCPcbvu7UpW77dIGnaSUfIy4H+PSkp\n",
       "Rq+nnqk6do1dXgcdgT3ecBW/jB7lqWd4KGuvMpUKp4FSQKVYR4qlT4znVqMGK5792pr7Rqxje9Yx\n",
       "lVYqnpdOVbidmeFXl+iTC0gfKcsWdo33MNO1JRUHB1sRsq2tz3doVzDOa3VkR4DMSF8OD2O75L2p\n",
       "I7cV5loyGcRKvIHz149dEJq40z0g47tv1io900mB3FnAa3UG3hDRH7FgcDyoW8O0IhF33ZdclZM5\n",
       "K0EfUYqmgnp+sD2oKVfB+0XnMGpYzPLrd9aBSjMKTQ8cp9BCcEdqsPVa7UVXoKDtmlotJHmep4zd\n",
       "lJXvVjyUm0SsZdEkwNmhbfcdpvyXZwCesE9ktXPFFYxUgUpUxn5EFj4U9mx1iHZABkGY8ZMQJrP6\n",
       "wO5w47wW9/PhUEmS1Jk4f4v0AlO3BuLuNEICDaWjeW7Y80h4v5Qmx5O9UphozHKqDIUzN4vtIi07\n",
       "ruiUowL4PaaQMG2BKIVTJe/DvGCi4eNpkyL9oSxPIHL43mzLn4izKgErwjDyxI+cTrdluuM4Y3ya\n",
       "ZI+Hk5VaORXVZ9bXGlBJegFeQraGacZbQfiAh4AAAACvQZ/XRRUsM/8AAARVeAO8uPnutN4+EOXV\n",
       "RWC+CjNdq+xgFgAeMpFpWOxFv1CRusJlGZoAPqwpnXQWglaMETCgTRvVpqxK7imcofOeYhaLq2SK\n",
       "4Z76Da3sq8PKUD93uSgu/RuHgKiillBY3LBSbHEwjmJ0xc8zHUbtpO8dmwgiyAAAAwHmxSWHFbvd\n",
       "I1RNAAPDn92yT8tyLcMazz8eayMMmabRE7VbZ+NPANwxX9XuVwAAAFEBn/Z0Qr8AAAfvUP6ZAxHW\n",
       "UzCEZrh6OLTEslgRTWqw5F8sJIBjBZFRA+YXBJxF/F9bqKUFhgac2XmGdBem9ljYHzWe5jibY1pu\n",
       "F8vIkAMx8hcAAABXAZ/4akK/AAAH8Wj2cC/NlkSRxxY4AIC8UC3c3tGUwAmmg44Mt/qoErSaQZRZ\n",
       "wqRxgWhSzKm/JLIl+PJoatRd51Pkd3Q7Mzpe/+5PqnbLRu+pdAAJRNdMAAACckGb/UmoQWyZTAh/\n",
       "//6plgAABQNyK9WiUAHFTZCDbG7+vv9qKfo9+y1S/ZzgKrwC+JkQvBJ4/7/O1Qi3RJRu+UBQNB6u\n",
       "n215hvxLlCKzHWtTBJsXdDLTPiI6NOty940Qpp1M5UaNj9W0kS+9xv7GUSy4X+w4UKy/CJJTO383\n",
       "OByWwVWzA3lCAeCrVKjIgYWvW2olPMayBPhOnw+vpyIzsCUIhLx4EWevLrlGl4qMjO7XwYCx4Gph\n",
       "yFE27+WpYAFqbjUJ7HPfBCRruThpp13zxrTQGkn3KClkOf85xpfNzI1w2Dsl3VB0rYjkzhGADGoZ\n",
       "QCCSoWmtuSG4/MCSp5HYfDbU/UmqdPDq0RIbC5cr4Kxi+NHp+s/R1p43Mnt+NTaF2SliWuuR4svX\n",
       "wED091cwvM4cx5Jp3yVz79p0ZbKqphO16QvmHX/yKJZREW1iREz4JDNNwAQ1WHa+ZKoxSIkSSwxp\n",
       "W3A7GglUMllKGzrrNcYHXe/yd8N6wFKgymekwmlyaR1NHpxu7aZNUi8HLA7P5WNJGiK2V613q9gP\n",
       "3sDN26kUKCYdcLsHgqcNXwwQaz3bIRus9ZNc+a4fLmnexlkAWd3Ayx/GhKbEblAvTBWYwUSL776F\n",
       "YubLcXU/3rEpED6/M+i7Gkq3UKoot+ULoodyGr1UwM5T8wpQOlVBroiXZbfWDYPW736mAahAx8Ax\n",
       "uaqPSn9k/s4WSbkq9d+ridDzAdhKXLp3OErL7IpNdc79SOryL7relENCcJBt9q5A6JycsNyXkLnm\n",
       "WoZvjBF95gKMt1O+avZ0ILQx/AD00fC3feVx0CaOWp/fRuRxs5U4X8JSoE7BAAAAqUGeG0UVLDP/\n",
       "AAAEVfC8fPIAW6vtrKQCwlkHEnKQjrfNLmrVolO9AmUTBYqeA/6m7T9146OpAG8i0d7vmWaeqZjh\n",
       "OLOWCOdKf8NUAk50HM3NvG0mEt/RFej0wFz5fNmiMbGIqzFn78F/YAL97Scmh+BmeVspZve8W3XI\n",
       "X6VXegZN+E/pCq1HHoG4vps+qGcJ0MeMnlG1c9cuATjeGASXWzG8K9qWACxJmBAAAABfAZ46dEK/\n",
       "AAAH8cnrkCP1HjY72qmcPDtY4THE/IMGusS/71D6Es6ncan2OiL0JT+eHo7jqgA19dIhTv/kIiM+\n",
       "WWgTPRr/r3irQK6MRC8zThXJ9ANsfz01c2YA4CK5W2kAAABaAZ48akK/AAAH6Ql8Jqn9kN9/P21s\n",
       "c32Ur0L7M/kPEndBn4BSAwtVip5rw/XZepP2nTH0N7sUobRqXYtcABi/d4iwQWMxYAFjNsILxm7n\n",
       "0C3y+HQDC2UyAArZAAACTkGaIUmoQWyZTAh///6plgAABQueeWX9cxKGBTl/6c4hwAF7J9esabcM\n",
       "PfbO2Dmdlwrg5o2XcRnH1cIxYempsfvHnwv33SX0/IYZ3ytqew9pildw0rgQi7ZXTNSKekpiwocZ\n",
       "Ycsk4H+JBUDuN2EwIUMhpA6iZ3MM5i98oD3sZwE9+0WZUL5hjuydOE1u4+X1MRet29B+VPLvRPyM\n",
       "YBIRs8LTU8ud6YD5b4Jg+jJdLIqJlRk1ouNRy9Agm2m9IX0iY90D6yz8777Co833YmEXrtYE/TBR\n",
       "6JBxOR5sTEim2B6F5ycLE5yk2BUQS1fAIsjOT0f7zvCKChaQrCld/K/Hd64FXWR8okScj1Zt5BBv\n",
       "EEJkF5v8s5Nv++u7iFj67/XWt8BTig6Fd2cZMatK4uchP8s8mNM1K1NGCqOUYQTHaP3FgwVyHUkA\n",
       "U1aLFOC8XQ9451zFKdDmO0GBJN8SqJjj+B/BxXYv1yGJ4lsW0yuRQ+jznWCnN4sD0JeGijkdJhQs\n",
       "C3Iyk1pzzEb4TFrb2bkpjHSHqUycIYuVNWCFQpWWQmvVZyrg7TY7sdaqhs5O6d9HA4AbNsg0gDrX\n",
       "gtJVbJ7Xxy0NqaeYTQeKM+4juxdLJfsaW8kjs2nyWPoCGYeexbKw+iElYC1okq6Y0zQ/P2Fih3dt\n",
       "Sr+YONeKDD5cnBHebEnJQLFR2dPF8CCoXzy7fiXuRE5h8tTvw5SWCmuZjwxkeoYkuZi9RW4fNhI8\n",
       "4bYdVB3XfU6xY40FtjKafBm6y8gKgzFo1hWazOYRpgqI164tAAAAlEGeX0UVLDP/AAAEdt+xjlJe\n",
       "nO2Do4Y7uMHzMln6JA0u6CcI81U0YeC1sdgA3t6MyA5vmWQtQ7kHYGi5GpiY9lhXsGJEOG812TNT\n",
       "L3uN7JthoRuvpwG5p+wlva6yKjWncHwg/KpZGICRnw/NU7eeY3a3QoTTPjDN5w/bE9VG9U45ZVa0\n",
       "e0ypd6rekt3XKxnyEogA2oAAAABRAZ5+dEK/AAAH69+dt1Lhlb0GcTti7ikAkLRNjbOElYeOmUca\n",
       "o6XwRKVGn4uJ796r9nfI3F+V20H3/5LBLK1VL8zLcgutAC5j0Ps9dA4jAALvAAAAUQGeYGpCvwAA\n",
       "CC67l1Q1nyuTn6VDtZaX4MwRlXyMYZeveOUlaxrlpRwSmvUV1Srwu7qWqR45h0CnhrohsC+LUswc\n",
       "QVBp71tpT25Orbvy/QBUwAAAAjVBmmVJqEFsmUwIf//+qZYAAAMB0iYZQ4hqADswNV07gJaCzvlR\n",
       "UyCg4CtCz+c8c0NqW9ujvbPNE88TpEG+z9YaLDLewaYVfywCbQbp+7sKP3iLhVMLaTnZQ/OWrwvh\n",
       "88JO+RRfwaDK5HD3S+iKxTdtbN9f9ZGjQWWvKvxCjupMvaYmb9sO9DTMG+ZwSmE+MJCnTDpHqByI\n",
       "ogFYQnZYvE6IKE3b4+WpI3lx8W1gsFM9EjbBZJBVUTUPFfq5XK6U+hOIGAVagVYytK8+zyXBKZpV\n",
       "b4E8H7oegYLFpGjnDNTEwOY9gelHnCUh3+TAD1g5JyashAuGs1FOYy+RIza6j7uvIp82GlpREgb+\n",
       "0I4Lc/2qgpG5vuBptL8ZpoNPDYL5hT4g9p5scZEl8wYeHxwKH0xBxbvMyfibgnU5SlC/TTx+VID3\n",
       "0Tq5kZvSNb2kavtA7teLN2+uXQoT7p6vGgiANNbxET1Wny03uFquHeXQsQ0VDuBmBte7a9UyjCQ2\n",
       "w45QcmzuYRmXBUY1J9YM7loB6D81xxJJF0PeM//RsGC+m51XvcWjY6uZZOTGyjMdYlmU2T8zZIYi\n",
       "vfAyTw1jUkiLFCEsd6Ins6BI2a3cMATlxX2yhBXaktgeNk4FdrZi0WzjBSXhh+S2cER0fRAoCDEi\n",
       "EpJe8+ljn2MrwFtA6GsnjL5GMjqw1tl2YdLsUFJKzdTye6BUVoYkmAF3rsPWWPfrKeHzb7nNCICw\n",
       "BJHadfZd/gBXZez4bjl1AAAAdUGeg0UVLDP/AAAEd12fSJCJXVqv3SB3YAAOwQ0fCh1cyWly0W18\n",
       "EO50nLcMgv1j5vkzmIj9kFGItR/aI9tc01CwicWa79RPv71dTquDb0BpNzyRKP8W7aMCCmnG3W1i\n",
       "1SczuxF7zQwCkiLp+4uX3zM6Co4p2AAAAFQBnqJ0Qr8AAAgSqNCAfL9cSAcuZk3RNgAejrfGscFu\n",
       "HYTz6sEAeEYTY47EgRrT02OfQnyh3ZkKvnoJCou5VCEZ8EAd6hjOLPd/S0IBeyc7PAAAVMEAAABd\n",
       "AZ6kakK/AAAIEqjkP771Dxj4YXEUQTprYEivBJgJLN+yk76D0QN7Vu8llrX0Zy9LTgyGRlSBOMz5\n",
       "KyISmy5EQiqTAlhxL3lq7qFEKYyhcyX220JgvUir2gA5qs1bAAACG0GaqUmoQWyZTAh///6plgAA\n",
       "AwHdJkhaDPdgzsroAPKrX4zI+NUMfGzmWcTlI7vJ0BLp6tt38yv3RIbMgktKnYh4NTA+4VuAxB0G\n",
       "AOKB5n772jdwktWrYjDDdLU2lUw7QB2uoo5ATorXWTmVlvvh+KuQcgfIoIyXU1GEdv7q3jJpDEtG\n",
       "mnGhBKTTKtjAUurY4P8zkjdVEMzOvn94hb5u6WFLO5RR1qqUfKdHDY27Huc0HWuse8hNjKiRftGZ\n",
       "5qC3+4dot07z6nCBt93EXj02AGJ59fObTaFLx1CHCWHn7FioNbCS9RnI0vUCvxhVhaiwMjyUYbor\n",
       "P0Bh/FLJlKTFduKjTQgjtOQJp2P9WtDK0CE0/SXQTpu2XqIn7u2xj6Vy5xnWeT89/tURG+/CXeBG\n",
       "xhDdno0w5Do5NE1OG03D3gRY7d2vRxPBbcpTUQnNE9khk0LHyQ0Fbj75p9wfyxCbp0TQejHHN53Z\n",
       "XFHyqVutMhymqg6plGSBcHx26L4F9O5XDARlYPD++tjxvIqNmB83SxvRaV6eGOrrq6PTUJASYEBO\n",
       "5iCOLpofXqwyaIsssAdfBezjJXNH4D9QOSTRd8eKY2zElh55XnkPRXk+phGAHMGIK0bE8149SFrg\n",
       "20ebcavJHhmw+3fhg2sfH+bTJYUSH840HxwZHqByXtq7lexgXz/6NA7rbvqLYqfBm4g0vPF/SkPV\n",
       "vTWDRQAEXg6BAAAApEGex0UVLDP/AAAEazfnuwER/lSHTFXx8TOp9R/D/jAFpUwdO1g1AIREtqXs\n",
       "Gj/H3X8CCKFdrzLyq3Pscbl526/olpmgyu2H8xB+bDShrjrVdaiyW0mbL6HDpnLzeYfV6NdLbwLY\n",
       "Bxcvn5zLNewUHoktIIyr++DAEFCfJf0PuT1R0v9jB9Ld8d/UKAYKqBcIOP8t8FaqeN2gZm+/+DNC\n",
       "UgAeW6unAAAAXAGe5nRCvwAACCubGyrw7vkPfRHT2ABAYoIewe8BdqJmEAZB83SOzjH7YQV9rmi/\n",
       "Gcns6wUC+khveYNMRJs7TCrxu/o1UpOnnJN/tVNizpnXHk1EiTJV0MgENvoWAAAAXAGe6GpCvwAA\n",
       "CC67l+43UDI8S9PoB1lBcShUGghQjgyspbn4LOq9RKWoAPh2Q6vNbLGKA/nu/8679REq65ktAMaE\n",
       "pdBBfqfyN5Iu05Leu+pugawum6xfoeZ2gAtoAAACLkGa7UmoQWyZTAh///6plgAAAwHf/l6yX+3g\n",
       "bmt4oQuGHsu267O5gM1FnTJ32PYWfsXU/sht1btqXH27gCqsdA3bylsdEoP2vxVG0qbjh54dVpvI\n",
       "Qaq+pD2pNXRnjjH3B4/dSWRtaRw5JlMfatbTtzaqWubfpFjQVfkU9UqfEM19JMNSfc6uHYIVjw/e\n",
       "6hPR3FV3T0IEhwoBOSF25AA3vEwipUp81KMVIND/eWHLVPZeLl2mnrg98cssn4N0qTIBPUDUbQR/\n",
       "no2ivgOtpFj4fs2r/2UD3bFnJmsqg33E6B1w2jSz9+JQrwgHeyfMs9YzzyktAqj+rqQWuT/+C4w+\n",
       "nxAtUtR7Y0iroWHxN+O6dncS+cQ8MocRXp495LqMnYVJPOWjg/HZ85UY1m0hRtxw3wkHic5TbPxr\n",
       "DzeG22BiqEasQrCKean13kc43TxHyKhJsLYz5enMvFlclTFGPEXqzkm9m0rksNzEBVOr1k6cUJSV\n",
       "iRRFPeU9w1iJmqLDYNe8boHt4F6WHDfxSCepeZWKV4GlfRFw05q8m/kCDfBl2Y/AKwN7m8Yuectp\n",
       "y9+kjDuysn/SKd+BrmXg2NPUZmTKKuzH3xkW+qPp3d9xh+1IdyxZKH2IPdLgq2uvx9U3l/xKerhn\n",
       "jLNf75VTiQzUfAYYZGpebU2to25YGT0Nu7unjqDgUHmaxCKiAK6FAT3dFlUXfLrv6ZlxKw5UFMXr\n",
       "4qvDE1ptNkAIOjuQk5Saa47ycQAAAJ5BnwtFFSwz/wAABHddn0iOHeK/vgBuuRg33xCyOkDrwWoy\n",
       "j4s8cb0HpU4K6kWd3Wu7+a3AUXesPw++KkxhUalfY8BBwVSiCunXDyuXdkMsSi7cWRsdwTJ1NpCo\n",
       "3+g6cD3ZzFYrTJiS+Q3Gsk+Fv36U7iv0b90jfoTApbfhCe0aOGGf+WD2uzddGXj8gl84ZEoeoT4N\n",
       "t+J8KDYAGb9CDgAAAFQBnyp0Qr8AAAgrmxsveS6Jd2v3SNj9uyZJT9X8OCPJACCHwWvgqa6E1hC4\n",
       "oEIxSrP9OeXKB+8jMqy6r6/tBd8B1IREz0oWtZ9LC3J/bEmHjjAAGFAAAABuAZ8sakK/AAAILruX\n",
       "6zLpH9ytAHK8t3nZ7m4BPO6LW/LUOVoNA3pauvCh3OQ2txIo180gHuYmT2jaUXZCg/14GjREizVM\n",
       "22c4QmEjVdF+c+E5KWtVJ+/vq6D7qd/XI9UI2VwjEI6hdySC88gABL0AAAITQZsxSahBbJlMCH//\n",
       "/qmWAAADAd/3Sn/bqLLj4C2ruYSfon1oAInPe0zUlAReGgxfflIC3YWTkw38wWJFk/9HAbrGF+zH\n",
       "nj336E0IOX0mK2BRlAfxtNcEGMuOCP/3Q13T19JiUEdtupZnECFOQzU4/gKrKhtKQckm3yzUKxXq\n",
       "GzHos04GLxIFyv4ORzy5UFhNv5ml+7K3eSrM2ObdEJ8WZH5vQHZzEqZoLd4+DAPU+qu1SAFU1Xcx\n",
       "fzg7lZnKBnJNCcBsmUAAwTEYChDweH/mzODSb8z4tRILoA3kMKvMEBHqTApyXrZYkYKjsJiZs2YQ\n",
       "AosBLfvEF73QM3ZJ/gRvEPlJTYcbYGW1zaL9JBCADK6/Ur8pMoGhc4za8B0VeAn2UuA9aT20u8PK\n",
       "LWDMKKzUwwfTzv6Ulz6fLkt642NYzhMeq6dix6xc3sLW2QJgxw8NGGdnChoMazJ1O2r0M1sX559L\n",
       "YdT9zzzKmPEXOkmCpvPAb4QLsXsfDWM1b7kEx5pOi0Cq4TTDAM33JyazhpxgGovvnH1JY+t6H0Wm\n",
       "FcnZIEALS0WqMQ3aNq1m6wekE48Gv2kPt1iHs+64RDhNZU0zlrlNQ7QhjMceC3cLZ1CSoIube5WO\n",
       "nB2o4mu3Q8IZ3AEAnM9a5RRfdOdfKsz8X72P48COE2VIMvnMXIY8VtZY4WWvpMqSjPdp81JA7Htz\n",
       "e3LA4BqRAAAAhkGfT0UVLDP/AAAEd12fR8vcATS+ripbEl0R1pGoADkCPgtjFgsvebODeN4TK9LT\n",
       "PMLAfmiRfqsVQBSWOwyyO+ZloN2PilzcyxT9yhSGNcdkXYQBM3Q8GYHE5Ykm0KXkfe/I+gPefWZw\n",
       "b8mRLxQMi12tCm0Py/DzLYyMqu+zm12dSOoSAAN7AAAAWQGfbnRCvwAACCubGu+x2mNXRzBpkYrf\n",
       "Epv+lSnQgmnEJVvP26vsfmq1AB+r/sUFQ1sqsJi4t16yJet+Brbp34E9//MVj03lVW2i87oCAVlo\n",
       "tWbgWtmbAAJmAAAAUQGfcGpCvwAACC67l8wzhAYevqmvTQq6SR8OqsuaANDTI8eVu1sISzj1lCGi\n",
       "8GOJn4XLniZvayTfinZLKnI3G9nMV+tBytttv4SuNFSlgwADRgAAAkdBm3VJqEFsmUwIf//+qZYA\n",
       "AAMAsm4Hno9KAC2qyQaKe42Y6sDF2H7rPT83rG2/j3qZ+q9ykBtbDN+5Lh/nQi6sxgKTrZN4z0i+\n",
       "88S/19wE8JySxzjMnYTBilncOPlaxlDGUeUjiiL7v3xy2yJyrEPCgF9HrdqMGEu/TVfjuMAozApO\n",
       "CXgD2oMwagxplHMsPyimOUy7odrtM5aW32WlVoV3D/gAh/epgZou80u9R2z1wcOMx4cRjGruhVJj\n",
       "0GfeN6QlQX5DHLAqeBHGX/o4D/ojSH59gtkdhnhVMNeL44xSAoc+/7MLToWJEjyB91BBWfa4XrCE\n",
       "UkIqrEPUJTOkuZXVfMpqD/r0OWcVKmhp1bXSWy3uiAiY4Wm6xf6PVdxa5aMVkSGJ28ZfEl1khpPy\n",
       "rs2wkV1H8K4gn3K2/Tm+zP3XppQjHyLcT6evRLNsYl7uJWowjt+ij99ArnPI1EAUwCXGoX6WoRte\n",
       "ZNdR6ZLz4RjABo0a+oZIQbl+Mbhx3/UiXRPs0NFbD4UGEgpkmLbtiY6Zh1HVhkxHcFemxzJY4V37\n",
       "sNV3IFdbKGIhetFeoktp924czah1FU0SluS84wpyD921tkK39WV8ys+rCZRFc4MLTVypXen2f2Qf\n",
       "nLCGNWL/PdoweRMVwTjz4Mlnw0axf4CPHgcPgiCM7GbhZw+uyT/AHLU7TOJRsgBvtRZABhxRuPtY\n",
       "2XOV7M6uEnSsxvD+TsZXupQNca5N+QQLgHF2LP/IDXrtOBBdD1ZUSPatyV5yQexB/lTAjvMhAAAA\n",
       "n0Gfk0UVLDP/AAAEd12fR8vb/23mygepDOelZVECwQAIFEuHBTWSv+kZqbTRbRbVui2qvvk1ztwg\n",
       "aiCRB6IBXDk1u0gtddX+uIx8rkHc2PSQySHmuwZ6jLxn594a/12fKsI24KJo1i+eJR3dhhKsl8Go\n",
       "GucxDVsFoh0r8zKmiYSAcy+ZeoORA2WlyVTUT5fMBMovaLVu6MVouOMkAU7kDwAAAFgBn7J0Qr8A\n",
       "AAgrmxrvsc/CcCz8nxQRABy9htha3cjUhflIktRMRvDMED0b5nip/hDgqpAbL8s5hyO4zTBlPOwi\n",
       "f0JB78o2XVFTWkJ/F/rdtvx2bJDCBAD/AAAASAGftGpCvwAACC67l8wzhTgu+pJmfKq7Ytz7KTst\n",
       "dtPxqxO8DLqB7Zaja5q8yQ1q5RUpVc4KSrwWXLvu6wymOUWuTV82AABvQQAAAe5Bm7lJqEFsmUwI\n",
       "f//+qZYAAAMAs39XANHYuIHdX4cDjyBDfTl0O+sBHfs0Sis1gV6ix/NvxPe+n2Gx2JAp5BZrUv9w\n",
       "Gck7Nc03NFxmTk7UVhgwwos8Gh+qrMmNsQ6QYo+YLcg0nTbWPp7fSjH0K2aABHknpgMPCW70iL4T\n",
       "2wos1bGMPvKccbVxIZ4j9AmlMkhhC0HmcjG6GOPyiCDcCZz1jcJIjZb5sMG5CkkPjFQflqvezNND\n",
       "qR6yNv8qY6/lLxkswDbz5NBgCINhsphgpN7BiX3vdsj2gEr6UrUlUu3QnZSSrYKVbI47k8sCkZSp\n",
       "Ut+8fMpq3jMFagkxv/qfuHAyxf2lhoc0lS4ikVqHK3p8hOQL2QJAu6AlosDeftcu6rWl2d5poCAC\n",
       "qWy6abKlWspAEN/LRd88P11GTgvE+pZgCBIyROaQx/8K8CSJxvbX/GeLCNpe3Roz/0pfxsgk+rLl\n",
       "F1OGfNeO8OGseEt/Xqy/8kpqLH45d2IpNq7qRcVOPjqVfC9dG5i0oKu39qgftH8ibJZ9/49kq/kl\n",
       "25zgO58lJILrK/59QioAhQbxqmWatPboQ14nVa2MOgwXGRZJS5nOy61BPPNz5ZTo/7FYaaI36lgN\n",
       "gpfZ8g01Lij2KbcNlkreTR27SsvOP3WDQdibcAAAAGhBn9dFFSwz/wAABHddn0fL2/83Y/4ZbMKR\n",
       "ly5e9wMHEbaxS60Uth9SI0Em1U3GNc0wAbkUkVZLuOyt1sk+HfYIPJsAFKWEl/KHsv7E7sijr3I+\n",
       "V6ADAFo6W8OkRbb7GUvrqi3ZiQACpwAAAEwBn/Z0Qr8AAAgrmxrvseD36jLxve/nV0FM5sNQ5JKJ\n",
       "5mZIK/kPJez6uE5Z12GKKJWeijfMJyQohQykHLkdzrDP/277GjXifL9AAPuBAAAAVwGf+GpCvwAA\n",
       "CC67l8wzYcoSgsfsXyiADnSVhshVd/GGmWzX0QbarJRX0AAAE9lfUlmbnI2LM3EipfIHoUgRkjBO\n",
       "mY3M/pcxdOcEEIseZHcwLkQBm13MyAAAAfRBm/1JqEFsmUwIf//+qZYAAAMAPqCV1kHtq+YAJaRV\n",
       "ZA7bpcH3vp6VDWhiZtXzraLyeaCb9nyc1IV4TDBb8HRoTIgOaV6yOsr4iBL4fHuXOVcs/D5CsXOH\n",
       "DtxsHZZ8WXN4CNbtd+in9N/XwDoi4s0lpYD1t2xnlSp5q609ono81LAiOcDdhcjY1zmeTIJFDIRL\n",
       "fYhlPACEbxlTDcUv62ax96hBAGyCI4RvZN5QdVWiAOcOX6INQyRmC9D4JkD/ElY4SXTwj7DBeds9\n",
       "MLJGK1JGTzWN/C8u/sxcq2smN5v+I5at29+qZdw0hA5109tUMO+7cMwKBaAzBMY8nmeMGdT8i0e/\n",
       "Z6qMjnt3DviIfBpIeR/a31Jn/qBoLwWYVNDwpKV3PUESUvb88wLzjQg1HHMYMMkUnGk3kmlz2kDE\n",
       "4LNZlDwFRbm2jts236Oqbs88bb36Ywxan1Pj/M8cqoj6CTa0YiVcmjUiUSWGnofWcJzVg0lfg080\n",
       "qlErGJlAQ5t9a4yJbvIN+/Eycifp8YfHP/vi/tMEUCSQqxnot8VPnY27ScTdLcLhPa8Ow9s44eoc\n",
       "tv8NJJgwMi7CxjSpf9yQxzfv32ddMoD032Ht7/7+3eRn+kAzfAhfWtXhDQEjrtAQVigXshT6Dpfs\n",
       "isNEmWYFV8foq1rNkQAAAIdBnhtFFSwz/wAABHddn0fL28i/kaQu4xz2Hcif0whuhk0t+ByCvAkA\n",
       "LMWNXvB2VBkn+kCWH3qZMe2FNoLLAe4ka0jfv1tkPad1Bj9sL1eh2U3eM6tw65FT1me+8LUxNaTq\n",
       "RJYqonNXk1RgDvWdWTE6+6XBWebQtKNPU+bhDwWHNK2QAfGsoOAAAABNAZ46dEK/AAAIK5sa77HL\n",
       "7Q7PrKFekU72lPItsHMl/dn37Rfhyux8cxhrfWrCvuk8njyTr22/NG+XSc6K4eKRlNyeQ/Q8/LGS\n",
       "xSAAq4EAAABQAZ48akK/AAAILruXzDOCxZQ7N6vrWimP4mFOWz1TMxIULx5RqIUeJtIfyckUc/Wd\n",
       "hAN3OG1P4/cwzq2zjLuAEe8sk0bvt3dDZDOlqmWAA2cAAAHCQZohSahBbJlMCH///qmWAAADAD5r\n",
       "CaZJM+YAP4RDpeioZ7gG1WUmBYfku4vniV9mtNoUZdiROuIzLL3HYbW1qh/22H0yaUr0Zk7EKpwa\n",
       "LmVEfcgJb5nB6/y6YGHTe2VTY3vwOE2dB+yw1nxoiITGll4sL/OQAP+gksJI8D8tNiT7hahxSKCl\n",
       "fOsAAsGKPlcvDXhkWC6ODpKSaX18IP3XamTxj6GA4Y/fFmgegDL88+GATZEauNQi1MVIIRfbWtLF\n",
       "q29Yls/SQjfsElndgPoLGrNtDTjHVlgyxWPGU7slA90FI2DL+iIAurIXGdHvJ/WjIYGh7rJEMU84\n",
       "pLMirLvIg7Tx36sUas0eooWP29eTekf68wAwZc/crkU2ORB2UW4ve6e4tjDfgPV3Ynkpn1a7lyxh\n",
       "PvNTj54HSeI7OMgdwnzpV15Tmo1N4FoGilHBeC10GyAmktGkAzL2MrZOcr/q9m7DNgSOvkDRqnQ3\n",
       "RnonUUXIV3yqUl+HMeMz2559pGFt/8RnhQcbkuxAK2d6ILLSvc4/YbZugfHX+FMG5R92HaEzzdxU\n",
       "05fjbQ9drk/i4klCJ6/8nHS/0qmwwSk0l+Q8p6/oAAAArkGeX0UVLDP/AAAEd12fR8vcCYM7GHjn\n",
       "HnE6XkiQQuViJzPLupw+5JiANXVazkZ1zp3h+QNIGWR6xzCci6AstSXGDNspWZ+VTNqwdm/nr3QD\n",
       "uEPz74hBVJD90j4macDOFQWBSa463UbJCKX4/9OGbqX/8I47YZKDvxvH+vmjz+G7qrd5Y2oYZwwo\n",
       "q1U9cse8NkOWbw121ClRf7PmbDqDNESFd+5zy7bwxeAWR3zUgAAAAGgBnn50Qr8AAAgrmxrvscvu\n",
       "hpw/QwZIAPtRbS6c6l2TH/JE7oYkbMpqQaAfQBYXHmkM8knPDsV+oRvZAMH1z2F2AB8YcaBZlwgr\n",
       "UMzJHRXU6gfORlwuuNPSgJc6kQghvuIyo4TkEwAMWQAAAIwBnmBqQr8AAAguu5fMM4LHtcIYKuUD\n",
       "ZsgAAmNgANqa2wfCTu7MtoKwV5LTEXMGV9bXf93agvRUpogdlKOUNJOAd6Kv4KUzLGswB520cqRZ\n",
       "zJgXG8C7uTpLgUNlXHmi0TJCKPMMMJN+e/rEJS+sXtBlm6frY8k6NaV+lKjV+hvTr3al0fmWS8As\n",
       "ba53EAAAAXpBmmVJqEFsmUwId//+qZYAAAMAQHq3kPiQlP7PGLdBRUACIJeM4k+/2O3npu1D2xZ7\n",
       "dFOAMsFk5TbhfPWJpzZ0EoBBMjcgqBgHnNx92uUoUe7yhqnQ1ZSx1KKC2eiIDRkc4MCKyprGse/h\n",
       "c4OiIyTzcmj4XpaW52m3cIM/NeqVtozHJ+nJk9RSODAoHZPAf6WpcTNvGhvEr31b0y19HVLrhBG4\n",
       "GAw7EKBz8nwWT9d4lQCe8vAD0xelnXuka+TF7XHzGr7TkGPaouQQ4v6gDmCXKinsSzLZZrOdeOis\n",
       "Ei8DtxqLtSrpmjwM9HhA3PZT+fd23k6DT7ZUUXdB/9HO1mRlrR2lO+/5eSquBaF1xqeJ8CxYRZXK\n",
       "9gnwv7Q6yYb+WzKVVc+cwpdudQ8dHv5L9WNLW+nFFIyIigmZMOJwS4SYxyLlV/kf5ALI2j9REgHh\n",
       "7m1x0jz0PVsBbplIbhh7MaIH/11vS/jDWSMG4nRoC4WGPy18KM+KVWzPknEAAACkQZ6DRRUsM/8A\n",
       "AAR3XZ9Hy9wJgzujODCW1R5NJRBAB+Afc5Vm77A+GPamm1rhCkfHMGf1xzzX85PbQ1VEaxC4kSdN\n",
       "NREQyOk87OVicxRmkCeG8IdzhNqI2/WuDDnv4AkuqRJ30i2TW87sIpb+M9UnaAx5pJX4RU+pFFRS\n",
       "jtw96rKK1cx4DyJjJYC73GTOMyiFQNARqr3XdivZ2v3xXExPgBGQB3QAAAB9AZ6idEK/AAAIK5sa\n",
       "77HL9di01qiMHe67ulsWOLsTf6FWuWBy1C5g2fLwClJVSq7/rvStKqetu728ypuyAoc3wIzotbl1\n",
       "oMhqOtdVNlIUlohJtTFhKZ7Ydhik5YUsSZMSRtPFvnbRD70Bon1IMF3KZb569zjUUvc1gQAAJGEA\n",
       "AABVAZ6kakK/AAAILruXzDOCxtHITk+3g44tBz2EPBsWUuzxztzyO6AC+S8tJbGja0MMnJwhf7nZ\n",
       "wK29lxEg4zZIB698iSLYjSz/RnYAMngSWpU7NAAsoQAAAWNBmqlJqEFsmUwId//+qZYAAAMAF3BA\n",
       "A+k2tABUFzcPVvw7ZP2HT42Uln3xKQM1IbGXwXZcB5Nl+sjwy7HZv3WBrrt7mH5An/4gvF13O9c7\n",
       "myxqwHHQe/uD/da679K781KjEGHAa779oV0riwoRWsyVKwVNhH/BKGquHofRSROT866MpD2BVQa8\n",
       "lvLY3sg1CtmUwcl5+bmZs8skoGGIAoPgzlKUvdM0lXa8/XrqY8ofIl5kDXjq3NBTXFZZI9FJ8ahB\n",
       "bchXPhg2GZmui5ry9ozhwgA2blu8yf5FWtxfTkYeJPACZZ8lde1sWmxXMO1tAb8zTuMO15mO+ks+\n",
       "V2ABq0ZjrjrvtKUYz9CpnuY8IFptnLjJU0vmeI9AP5z8Dd/0h6SO7mGjaDX2wVeZ3Uamx+dpNWeR\n",
       "ChMHLhJuM6nCMkGYALjm59ddlEXVx08xbt8BSOWq+W4Yph2UzJiUFVakZeXVF/5/AAAAk0Gex0UV\n",
       "LDP/AAAEd12fR8vcCYK4ef/gDoAIUT6m0aNG4a/bXPYINqHVYsisoM3Qvo7Dmw7wh6Rzlb759Adw\n",
       "hLcl/K615ETyCJU+Nsx79aRKpTq3GkNuGqTe1uasjE9+7DMg+xorwewZnDl3fw6Qu+wGPYKra/3r\n",
       "7wASQQgwe3V4EyFJvAfVxbS0fiomZzxIEdAHNQAAAFMBnuZ0Qr8AAAgrmxrvscvy31XgQBXg/yxH\n",
       "wfelG9Hxf4k9AAC2W5RC3KQ+hckm+KFOUUy9iSREygURNdQ/0snRoB51oV7sUZYQ52AOuHTv8ABF\n",
       "wAAAAFoBnuhqQr8AAAguu5fMM4LG0jNxLURgA8C0cl1u1dEuWOZPQ3ytXS3cYM8T5Hpusi38mY2V\n",
       "rYVs54K/yViBTq+m6kcXJjoA59pOd/YzJfDVke1GoYhKHyiAAl4AAADuQZrrSahBbJlMFEw7//6p\n",
       "lgAAAwAXjhb4KtfcFdXe98GGFGwDCzrkwQ/rWN8uFolMrHUU7ykBNmf09NTSUK0DsiVzX/8+axZW\n",
       "ZvcKJmm1r3P6fHmXXiO8hQODxMOnM2sXvrIr3+/1P4mcf5cKrh/VKYhkY4JSiTHrjpDk87y5EXam\n",
       "ZqQqwfdczqv/3cGkxaSDSKLBZilI9SK2aPQue262+d81cfhMGmIhImJ4f761k4GYzAibkn0NzNAv\n",
       "5pEg4UJyUGSqxlXUwWmVPCzXYnjsOa+IwR9gPvOxUZcxqonT0XHKL5Z2cV0jafp92L6XgQAAAFcB\n",
       "nwpqQr8AAAgwZT65IrhXKcOuec9KNUkPEiPofqEcfjZGwzDGB8xdVcw4rIOH0C07b3ik9PH4gBAA\n",
       "gKGJHHR2F4H/X2nhzT0Iqy2zpHxlAEBXBVEbbUAAAAEpQZsPSeEKUmUwIb/+p4QAAAMALrzLtME6\n",
       "guNRp6hdvW0hACH6IVzw3bIc49HPimUxwvU183egJ/pfJueZ+T6vx/gHBmTFCNlw+qAHMn0cHN6K\n",
       "veEglTLBDO3nyoDKqWtvL1wOb9cjdx9M6EOv/h9iQl41ALpZL26l8IlG/HHAsX7Rs3QMSu50XkwX\n",
       "ZjAVeUu0T3hL97OMaJ/xcyUxt078ZykIdLABG+9IYeC8O6q7Ao8m8sLgApsRNRSUDt9kfGKVw/EX\n",
       "Mc/sWNqgocfih4gHcB+UQSBgC5wcfRASlJr+ax6JrgCMjkHbSKlTPJ6hj2FSHE4v5hUJYLpjGMAg\n",
       "NvgEilbmhv5dweJpqxZQmSU1CSrMAxTimX32pChx18ps9hRQfu0CGmaNgT0wAAAAhEGfLUU0TDP/\n",
       "AAAEdyB6FSPUA158MOrn1zLtMrqqHHzx25PskaXTY/iftmdPMTOeo9CJtGQ/zMlodIHI6hUjerPY\n",
       "9iADjujFh0wdJVyzX1MLcZ0+8lmRNxYgP5mc5nJuMyeR/9Y3mAZVBf2OH2mXhLJG8T/44PYcGUSQ\n",
       "LLoAP4zof+gpcQAAAEsBn0x0Qr8AAAgrmxrvscvy3+0NgtXmwgpYGGdu6cDcPLPtY2M3qq9l178d\n",
       "lWqHNERbgAz5F+ixFjgEaz2q1joc6+wVBP+wYCjiKmEAAABTAZ9OakK/AAAILruXzDOCxoMDfZkN\n",
       "8srABfXF+yxnCJT30cP/XNnqs0rJRpv4bs8Yj9PEX1J9gD0U9TDRIGb9gn5nH6MFT7IVGD1yOgjp\n",
       "gIiAfMEAAAC1QZtRSahBaJlMFPDP/p4QAAADAD9fnYTYwAhTYW8F2ZIaKD+ML2NY1kR36cSxUq9F\n",
       "w+ghcoMw96xPzq3oTPiRv+aJkWS00zh7Ts8ZQ7Mv7dBs2qOJx8s9XdUoww0q3r//IOjZItkTVSrf\n",
       "SyypJAoqAI7q/224I9YrCsKhBRZD+pHgg37Eu51rBJnZre9aB9DfosMcXhKmUmPuov2WvEclmxP0\n",
       "+Hg2e2MRFTsfu+/iMZ1NOfEiQAAAAGgBn3BqQr8AAAgwZT65IrhXKJ/N87naVA7L1XaeQ7ucqPW6\n",
       "+kkBXz1U8NRCAEEdRaOlNrisTXSTLmNqWvekzKcYXkTxcePWMLrhYpOP/+3XcTi8Q6JbIsngMnZV\n",
       "GYy2awEJAKaLW5/BiwAAAIJBm3JJ4QpSZTAhn/6eEAAAAwA/jURWsgL90DgA+oyLoYDtUvpHchul\n",
       "sGQnPK20VNW1AEkGT02TRNMpBTSs04l6Y6CfXu80wDrofNS0NC23pMpggKGXXY3u6+KhkkIML00q\n",
       "H5BG8KNgFRclRaQzVHdXxFALCcU/XU3x1i4Pc+qo3LbRAAAAqUGbk0nhDomUwIV//jhAAAADAPfT\n",
       "9btzHCIU5IAIauFJc2zUx5aPVmTMmT9NuaYLcTgePOmxWQGHit+U5EpSmJPHxB5AuQ99w91SShlX\n",
       "qFxMDC8t+OpFGrVgVffZnYPDKPleW3u2nKQ2J6tNZI/7I6f/zfJQ25OH8jgDOk2GfOwQSDDwmZNs\n",
       "0f2lN+53CrdlHGDvWsMDBWLuZyuM6VtXNecRpwX5rP0YGYsAAAuCbW9vdgAAAGxtdmhkAAAAAAAA\n",
       "AAAAAAAAAAAD6AAAIygAAQAAAQAAAAAAAAAAAAAAAAEAAAAAAAAAAAAAAAAAAAABAAAAAAAAAAAA\n",
       "AAAAAABAAAAAAAAAAAAAAAAAAAAAAAAAAAAAAAAAAAAAAAAAAgAACqx0cmFrAAAAXHRraGQAAAAD\n",
       "AAAAAAAAAAAAAAABAAAAAAAAIygAAAAAAAAAAAAAAAAAAAAAAAEAAAAAAAAAAAAAAAAAAAABAAAA\n",
       "AAAAAAAAAAAAAABAAAAAAoAAAAHgAAAAAAAkZWR0cwAAABxlbHN0AAAAAAAAAAEAACMoAAAEAAAB\n",
       "AAAAAAokbWRpYQAAACBtZGhkAAAAAAAAAAAAAAAAAAAoAAABaABVxAAAAAAALWhkbHIAAAAAAAAA\n",
       "AHZpZGUAAAAAAAAAAAAAAABWaWRlb0hhbmRsZXIAAAAJz21pbmYAAAAUdm1oZAAAAAEAAAAAAAAA\n",
       "AAAAACRkaW5mAAAAHGRyZWYAAAAAAAAAAQAAAAx1cmwgAAAAAQAACY9zdGJsAAAAt3N0c2QAAAAA\n",
       "AAAAAQAAAKdhdmMxAAAAAAAAAAEAAAAAAAAAAAAAAAAAAAAAAoAB4ABIAAAASAAAAAAAAAABAAAA\n",
       "AAAAAAAAAAAAAAAAAAAAAAAAAAAAAAAAAAAAAAAAGP//AAAANWF2Y0MBZAAe/+EAGGdkAB6s2UCg\n",
       "PaEAAAMAAQAAAwAoDxYtlgEABmjr48siwP34+AAAAAAcdXVpZGtoQPJfJE/FujmlG88DI/MAAAAA\n",
       "AAAAGHN0dHMAAAAAAAAAAQAAALQAAAIAAAAAFHN0c3MAAAAAAAAAAQAAAAEAAAWQY3R0cwAAAAAA\n",
       "AACwAAAAAQAABAAAAAABAAAKAAAAAAEAAAQAAAAAAQAAAAAAAAABAAACAAAAAAEAAAoAAAAAAQAA\n",
       "BAAAAAABAAAAAAAAAAEAAAIAAAAAAQAACgAAAAABAAAEAAAAAAEAAAAAAAAAAQAAAgAAAAABAAAK\n",
       "AAAAAAEAAAQAAAAAAQAAAAAAAAABAAACAAAAAAEAAAoAAAAAAQAABAAAAAABAAAAAAAAAAEAAAIA\n",
       "AAAAAQAACgAAAAABAAAEAAAAAAEAAAAAAAAAAQAAAgAAAAABAAAKAAAAAAEAAAQAAAAAAQAAAAAA\n",
       "AAABAAACAAAAAAEAAAoAAAAAAQAABAAAAAABAAAAAAAAAAEAAAIAAAAAAQAACAAAAAACAAACAAAA\n",
       "AAEAAAoAAAAAAQAABAAAAAABAAAAAAAAAAEAAAIAAAAAAQAACgAAAAABAAAEAAAAAAEAAAAAAAAA\n",
       "AQAAAgAAAAABAAAKAAAAAAEAAAQAAAAAAQAAAAAAAAABAAACAAAAAAEAAAoAAAAAAQAABAAAAAAB\n",
       "AAAAAAAAAAEAAAIAAAAAAQAACgAAAAABAAAEAAAAAAEAAAAAAAAAAQAAAgAAAAABAAAKAAAAAAEA\n",
       "AAQAAAAAAQAAAAAAAAABAAACAAAAAAEAAAoAAAAAAQAABAAAAAABAAAAAAAAAAEAAAIAAAAAAQAA\n",
       "CgAAAAABAAAEAAAAAAEAAAAAAAAAAQAAAgAAAAABAAAKAAAAAAEAAAQAAAAAAQAAAAAAAAABAAAC\n",
       "AAAAAAEAAAoAAAAAAQAABAAAAAABAAAAAAAAAAEAAAIAAAAAAQAACgAAAAABAAAEAAAAAAEAAAAA\n",
       "AAAAAQAAAgAAAAABAAAIAAAAAAIAAAIAAAAAAQAACgAAAAABAAAEAAAAAAEAAAAAAAAAAQAAAgAA\n",
       "AAABAAAKAAAAAAEAAAQAAAAAAQAAAAAAAAABAAACAAAAAAEAAAoAAAAAAQAABAAAAAABAAAAAAAA\n",
       "AAEAAAIAAAAAAQAACAAAAAACAAACAAAAAAEAAAoAAAAAAQAABAAAAAABAAAAAAAAAAEAAAIAAAAA\n",
       "AQAACgAAAAABAAAEAAAAAAEAAAAAAAAAAQAAAgAAAAABAAAKAAAAAAEAAAQAAAAAAQAAAAAAAAAB\n",
       "AAACAAAAAAEAAAoAAAAAAQAABAAAAAABAAAAAAAAAAEAAAIAAAAAAQAACgAAAAABAAAEAAAAAAEA\n",
       "AAAAAAAAAQAAAgAAAAABAAAKAAAAAAEAAAQAAAAAAQAAAAAAAAABAAACAAAAAAEAAAoAAAAAAQAA\n",
       "BAAAAAABAAAAAAAAAAEAAAIAAAAAAQAACgAAAAABAAAEAAAAAAEAAAAAAAAAAQAAAgAAAAABAAAK\n",
       "AAAAAAEAAAQAAAAAAQAAAAAAAAABAAACAAAAAAEAAAoAAAAAAQAABAAAAAABAAAAAAAAAAEAAAIA\n",
       "AAAAAQAACgAAAAABAAAEAAAAAAEAAAAAAAAAAQAAAgAAAAABAAAKAAAAAAEAAAQAAAAAAQAAAAAA\n",
       "AAABAAACAAAAAAEAAAoAAAAAAQAABAAAAAABAAAAAAAAAAEAAAIAAAAAAQAACgAAAAABAAAEAAAA\n",
       "AAEAAAAAAAAAAQAAAgAAAAABAAAKAAAAAAEAAAQAAAAAAQAAAAAAAAABAAACAAAAAAEAAAoAAAAA\n",
       "AQAABAAAAAABAAAAAAAAAAEAAAIAAAAAAQAACgAAAAABAAAEAAAAAAEAAAAAAAAAAQAAAgAAAAAB\n",
       "AAAKAAAAAAEAAAQAAAAAAQAAAAAAAAABAAACAAAAAAEAAAYAAAAAAQAAAgAAAAABAAAKAAAAAAEA\n",
       "AAQAAAAAAQAAAAAAAAABAAACAAAAAAEAAAYAAAAAAQAAAgAAAAACAAAEAAAAABxzdHNjAAAAAAAA\n",
       "AAEAAAABAAAAtAAAAAEAAALkc3RzegAAAAAAAAAAAAAAtAAAGFUAAAI7AAAAhAAAAHkAAABiAAAC\n",
       "AgAAAJwAAABZAAAAYgAAAhEAAACkAAAAVAAAAE0AAAH/AAAAmAAAAFMAAABTAAAB9gAAAKwAAABa\n",
       "AAAAWAAAAjAAAACKAAAAVgAAAFMAAAIWAAAAkAAAAFQAAABaAAACCAAAAIgAAABPAAAAWAAAAhAA\n",
       "AABoAAAAUAAAAhsAAACjAAAAYAAAAFYAAAJBAAAAtgAAAFgAAABbAAACDgAAAK8AAABdAAAAWAAA\n",
       "AkoAAACjAAAAZwAAAGUAAAJwAAAApgAAAFcAAABpAAACLAAAAI4AAABWAAAAXAAAAhsAAACdAAAA\n",
       "YgAAAGUAAAI3AAAArAAAAGIAAAB7AAACKQAAAKAAAAB6AAAAZAAAAhUAAACfAAAAaAAAAGEAAAIJ\n",
       "AAAApQAAAGwAAABkAAABfAAAAH0AAABTAAABtAAAAM4AAABiAAAAdgAAAV8AAACnAAAAcwAAAFQA\n",
       "AAH8AAAApwAAAGkAAABuAAAB3QAAAHsAAAB0AAACPgAAALMAAABUAAAAYwAAAj0AAADVAAAAUwAA\n",
       "AGUAAAJEAAAAnAAAAGEAAABnAAACWQAAAM0AAABfAAAAYAAAAlMAAADZAAAAXAAAAFgAAAIoAAAA\n",
       "swAAAFUAAABbAAACdgAAAK0AAABjAAAAXgAAAlIAAACYAAAAVQAAAFUAAAI5AAAAeQAAAFgAAABh\n",
       "AAACHwAAAKgAAABgAAAAYAAAAjIAAACiAAAAWAAAAHIAAAIXAAAAigAAAF0AAABVAAACSwAAAKMA\n",
       "AABcAAAATAAAAfIAAABsAAAAUAAAAFsAAAH4AAAAiwAAAFEAAABUAAABxgAAALIAAABsAAAAkAAA\n",
       "AX4AAACoAAAAgQAAAFkAAAFnAAAAlwAAAFcAAABeAAAA8gAAAFsAAAEtAAAAiAAAAE8AAABXAAAA\n",
       "uQAAAGwAAACGAAAArQAAABRzdGNvAAAAAAAAAAEAAAAwAAAAYnVkdGEAAABabWV0YQAAAAAAAAAh\n",
       "aGRscgAAAAAAAAAAbWRpcmFwcGwAAAAAAAAAAAAAAAAtaWxzdAAAACWpdG9vAAAAHWRhdGEAAAAB\n",
       "AAAAAExhdmY1OC43Ni4xMDA=\n",
       "\">\n",
       "  Your browser does not support the video tag.\n",
       "</video>"
      ],
      "text/plain": [
       "<IPython.core.display.HTML object>"
      ]
     },
     "execution_count": 68,
     "metadata": {},
     "output_type": "execute_result"
    }
   ],
   "source": [
    "from IPython.display import HTML\n",
    "HTML(anim.to_html5_video())"
   ]
  },
  {
   "cell_type": "code",
   "execution_count": null,
   "id": "96cdbfbd-c438-4bc3-9c0e-71bf20ff9d0d",
   "metadata": {},
   "outputs": [],
   "source": []
  }
 ],
 "metadata": {
  "kernelspec": {
   "display_name": "Python 3 (ipykernel)",
   "language": "python",
   "name": "python3"
  },
  "language_info": {
   "codemirror_mode": {
    "name": "ipython",
    "version": 3
   },
   "file_extension": ".py",
   "mimetype": "text/x-python",
   "name": "python",
   "nbconvert_exporter": "python",
   "pygments_lexer": "ipython3",
   "version": "3.10.12"
  }
 },
 "nbformat": 4,
 "nbformat_minor": 5
}
